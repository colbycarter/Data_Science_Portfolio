{
 "cells": [
  {
   "cell_type": "markdown",
   "metadata": {},
   "source": [
    "# Model Development - Degraded Chain    \n",
    "\n",
    "**Author:** Colby Carter   \n",
    "\n",
    "**Purpose:** In this exercise, we develop and compare several SVM classification approaches for degraded bike chains, each using a narrowing gridsearch across hyperparameters and with all-but-one example cross validation for conservative evaluation. Features are generated from the raw, 3D accelerometer recordings (m/s^2) across a number of mountain bikes.  "
   ]
  },
  {
   "cell_type": "code",
   "execution_count": 1,
   "metadata": {},
   "outputs": [],
   "source": [
    "# libraries\n",
    "import pandas as pd\n",
    "import numpy as np\n",
    "import seaborn as sns\n",
    "import matplotlib.pyplot as plt\n",
    "\n",
    "from sklearn.pipeline import Pipeline\n",
    "from sklearn.preprocessing import StandardScaler\n",
    "from sklearn.svm import LinearSVC, SVC\n",
    "from sklearn.metrics import confusion_matrix, accuracy_score, precision_score, recall_score, f1_score\n",
    "from sklearn.ensemble import VotingClassifier"
   ]
  },
  {
   "cell_type": "markdown",
   "metadata": {},
   "source": [
    "We begin with pulling in our bootstrapped training set, for which our recording datasets have been processed into feature rows with different signal measures and Fast Fourier transformations.  "
   ]
  },
  {
   "cell_type": "code",
   "execution_count": 2,
   "metadata": {},
   "outputs": [
    {
     "data": {
      "text/plain": [
       "(335, 26)"
      ]
     },
     "execution_count": 2,
     "metadata": {},
     "output_type": "execute_result"
    }
   ],
   "source": [
    "#import dataset of readings converted to features\n",
    "featureDF = pd.read_csv('model/feature_dataset.csv')\n",
    "featureDF.shape"
   ]
  },
  {
   "cell_type": "code",
   "execution_count": 3,
   "metadata": {},
   "outputs": [
    {
     "data": {
      "text/html": [
       "<div>\n",
       "<style scoped>\n",
       "    .dataframe tbody tr th:only-of-type {\n",
       "        vertical-align: middle;\n",
       "    }\n",
       "\n",
       "    .dataframe tbody tr th {\n",
       "        vertical-align: top;\n",
       "    }\n",
       "\n",
       "    .dataframe thead th {\n",
       "        text-align: right;\n",
       "    }\n",
       "</style>\n",
       "<table border=\"1\" class=\"dataframe\">\n",
       "  <thead>\n",
       "    <tr style=\"text-align: right;\">\n",
       "      <th></th>\n",
       "      <th>Unnamed: 0</th>\n",
       "      <th>BikeID</th>\n",
       "      <th>Fixed</th>\n",
       "      <th>Component_Failure</th>\n",
       "      <th>Derailleur</th>\n",
       "      <th>Dirty_Chain</th>\n",
       "      <th>Roter</th>\n",
       "      <th>Steering_head</th>\n",
       "      <th>Wheel_Bearings</th>\n",
       "      <th>UnderLoad_X_pwr</th>\n",
       "      <th>...</th>\n",
       "      <th>UnderLoad_Y_std</th>\n",
       "      <th>UnderLoad_Y_skew</th>\n",
       "      <th>UnderLoad_Y_maxFFT</th>\n",
       "      <th>UnderLoad_Y_maxFreq</th>\n",
       "      <th>UnderLoad_Z_pwr</th>\n",
       "      <th>UnderLoad_Z_std</th>\n",
       "      <th>UnderLoad_Z_skew</th>\n",
       "      <th>UnderLoad_Z_maxFFT</th>\n",
       "      <th>UnderLoad_Z_maxFreq</th>\n",
       "      <th>UnderLoad_Z_chain</th>\n",
       "    </tr>\n",
       "  </thead>\n",
       "  <tbody>\n",
       "    <tr>\n",
       "      <th>0</th>\n",
       "      <td>0</td>\n",
       "      <td>FN001-0</td>\n",
       "      <td>NaN</td>\n",
       "      <td>No probs with with this bike</td>\n",
       "      <td>0</td>\n",
       "      <td>0</td>\n",
       "      <td>0</td>\n",
       "      <td>0</td>\n",
       "      <td>0</td>\n",
       "      <td>0.002966</td>\n",
       "      <td>...</td>\n",
       "      <td>0.043659</td>\n",
       "      <td>-0.029433</td>\n",
       "      <td>0.007282</td>\n",
       "      <td>26.043406</td>\n",
       "      <td>0.004867</td>\n",
       "      <td>0.069762</td>\n",
       "      <td>0.253351</td>\n",
       "      <td>0.009374</td>\n",
       "      <td>57.095159</td>\n",
       "      <td>0.002530</td>\n",
       "    </tr>\n",
       "    <tr>\n",
       "      <th>1</th>\n",
       "      <td>1</td>\n",
       "      <td>FN001-1</td>\n",
       "      <td>NaN</td>\n",
       "      <td>No probs with with this bike</td>\n",
       "      <td>0</td>\n",
       "      <td>0</td>\n",
       "      <td>0</td>\n",
       "      <td>0</td>\n",
       "      <td>0</td>\n",
       "      <td>0.003566</td>\n",
       "      <td>...</td>\n",
       "      <td>0.048272</td>\n",
       "      <td>0.028978</td>\n",
       "      <td>0.009353</td>\n",
       "      <td>24.373957</td>\n",
       "      <td>0.005546</td>\n",
       "      <td>0.074472</td>\n",
       "      <td>-0.039635</td>\n",
       "      <td>0.015666</td>\n",
       "      <td>40.901503</td>\n",
       "      <td>0.003219</td>\n",
       "    </tr>\n",
       "    <tr>\n",
       "      <th>2</th>\n",
       "      <td>2</td>\n",
       "      <td>FN001-2</td>\n",
       "      <td>NaN</td>\n",
       "      <td>No probs with with this bike</td>\n",
       "      <td>0</td>\n",
       "      <td>0</td>\n",
       "      <td>0</td>\n",
       "      <td>0</td>\n",
       "      <td>0</td>\n",
       "      <td>0.003886</td>\n",
       "      <td>...</td>\n",
       "      <td>0.055228</td>\n",
       "      <td>0.046133</td>\n",
       "      <td>0.013604</td>\n",
       "      <td>14.190317</td>\n",
       "      <td>0.009056</td>\n",
       "      <td>0.095165</td>\n",
       "      <td>-0.154786</td>\n",
       "      <td>0.014323</td>\n",
       "      <td>84.808013</td>\n",
       "      <td>0.003424</td>\n",
       "    </tr>\n",
       "    <tr>\n",
       "      <th>3</th>\n",
       "      <td>3</td>\n",
       "      <td>FN001-3</td>\n",
       "      <td>NaN</td>\n",
       "      <td>No probs with with this bike</td>\n",
       "      <td>0</td>\n",
       "      <td>0</td>\n",
       "      <td>0</td>\n",
       "      <td>0</td>\n",
       "      <td>0</td>\n",
       "      <td>0.006571</td>\n",
       "      <td>...</td>\n",
       "      <td>0.079378</td>\n",
       "      <td>-0.295369</td>\n",
       "      <td>0.014722</td>\n",
       "      <td>14.357262</td>\n",
       "      <td>0.013304</td>\n",
       "      <td>0.115345</td>\n",
       "      <td>-0.648560</td>\n",
       "      <td>0.025257</td>\n",
       "      <td>42.237062</td>\n",
       "      <td>0.005237</td>\n",
       "    </tr>\n",
       "    <tr>\n",
       "      <th>4</th>\n",
       "      <td>4</td>\n",
       "      <td>FN001-4</td>\n",
       "      <td>NaN</td>\n",
       "      <td>No probs with with this bike</td>\n",
       "      <td>0</td>\n",
       "      <td>0</td>\n",
       "      <td>0</td>\n",
       "      <td>0</td>\n",
       "      <td>0</td>\n",
       "      <td>0.003855</td>\n",
       "      <td>...</td>\n",
       "      <td>0.050720</td>\n",
       "      <td>-0.043165</td>\n",
       "      <td>0.012621</td>\n",
       "      <td>14.190317</td>\n",
       "      <td>0.007128</td>\n",
       "      <td>0.084430</td>\n",
       "      <td>-0.101437</td>\n",
       "      <td>0.018719</td>\n",
       "      <td>43.071786</td>\n",
       "      <td>0.003455</td>\n",
       "    </tr>\n",
       "  </tbody>\n",
       "</table>\n",
       "<p>5 rows × 26 columns</p>\n",
       "</div>"
      ],
      "text/plain": [
       "   Unnamed: 0   BikeID  Fixed             Component_Failure  Derailleur  \\\n",
       "0           0  FN001-0    NaN  No probs with with this bike           0   \n",
       "1           1  FN001-1    NaN  No probs with with this bike           0   \n",
       "2           2  FN001-2    NaN  No probs with with this bike           0   \n",
       "3           3  FN001-3    NaN  No probs with with this bike           0   \n",
       "4           4  FN001-4    NaN  No probs with with this bike           0   \n",
       "\n",
       "   Dirty_Chain  Roter  Steering_head  Wheel_Bearings  UnderLoad_X_pwr  \\\n",
       "0            0      0              0               0         0.002966   \n",
       "1            0      0              0               0         0.003566   \n",
       "2            0      0              0               0         0.003886   \n",
       "3            0      0              0               0         0.006571   \n",
       "4            0      0              0               0         0.003855   \n",
       "\n",
       "         ...          UnderLoad_Y_std  UnderLoad_Y_skew  UnderLoad_Y_maxFFT  \\\n",
       "0        ...                 0.043659         -0.029433            0.007282   \n",
       "1        ...                 0.048272          0.028978            0.009353   \n",
       "2        ...                 0.055228          0.046133            0.013604   \n",
       "3        ...                 0.079378         -0.295369            0.014722   \n",
       "4        ...                 0.050720         -0.043165            0.012621   \n",
       "\n",
       "   UnderLoad_Y_maxFreq  UnderLoad_Z_pwr  UnderLoad_Z_std  UnderLoad_Z_skew  \\\n",
       "0            26.043406         0.004867         0.069762          0.253351   \n",
       "1            24.373957         0.005546         0.074472         -0.039635   \n",
       "2            14.190317         0.009056         0.095165         -0.154786   \n",
       "3            14.357262         0.013304         0.115345         -0.648560   \n",
       "4            14.190317         0.007128         0.084430         -0.101437   \n",
       "\n",
       "   UnderLoad_Z_maxFFT  UnderLoad_Z_maxFreq  UnderLoad_Z_chain  \n",
       "0            0.009374            57.095159           0.002530  \n",
       "1            0.015666            40.901503           0.003219  \n",
       "2            0.014323            84.808013           0.003424  \n",
       "3            0.025257            42.237062           0.005237  \n",
       "4            0.018719            43.071786           0.003455  \n",
       "\n",
       "[5 rows x 26 columns]"
      ]
     },
     "execution_count": 3,
     "metadata": {},
     "output_type": "execute_result"
    }
   ],
   "source": [
    "featureDF.head()"
   ]
  },
  {
   "cell_type": "code",
   "execution_count": 4,
   "metadata": {},
   "outputs": [
    {
     "name": "stdout",
     "output_type": "stream",
     "text": [
      "Positive dirty chain examples: 71\n"
     ]
    }
   ],
   "source": [
    "#labels\n",
    "y_chain = featureDF[\"Dirty_Chain\"]\n",
    "print(\"Positive dirty chain examples:\", np.sum(y_chain))"
   ]
  },
  {
   "cell_type": "code",
   "execution_count": 5,
   "metadata": {},
   "outputs": [
    {
     "data": {
      "text/plain": [
       "(335, 17)"
      ]
     },
     "execution_count": 5,
     "metadata": {},
     "output_type": "execute_result"
    }
   ],
   "source": [
    "#training features\n",
    "x_feats = featureDF.iloc[:,9:]\n",
    "x_feats.shape"
   ]
  },
  {
   "cell_type": "code",
   "execution_count": 6,
   "metadata": {},
   "outputs": [
    {
     "data": {
      "text/html": [
       "<div>\n",
       "<style scoped>\n",
       "    .dataframe tbody tr th:only-of-type {\n",
       "        vertical-align: middle;\n",
       "    }\n",
       "\n",
       "    .dataframe tbody tr th {\n",
       "        vertical-align: top;\n",
       "    }\n",
       "\n",
       "    .dataframe thead th {\n",
       "        text-align: right;\n",
       "    }\n",
       "</style>\n",
       "<table border=\"1\" class=\"dataframe\">\n",
       "  <thead>\n",
       "    <tr style=\"text-align: right;\">\n",
       "      <th></th>\n",
       "      <th>UnderLoad_X_pwr</th>\n",
       "      <th>UnderLoad_X_std</th>\n",
       "      <th>UnderLoad_X_skew</th>\n",
       "      <th>UnderLoad_X_maxFFT</th>\n",
       "      <th>UnderLoad_X_maxFreq</th>\n",
       "      <th>UnderLoad_X_dCog</th>\n",
       "      <th>UnderLoad_Y_pwr</th>\n",
       "      <th>UnderLoad_Y_std</th>\n",
       "      <th>UnderLoad_Y_skew</th>\n",
       "      <th>UnderLoad_Y_maxFFT</th>\n",
       "      <th>UnderLoad_Y_maxFreq</th>\n",
       "      <th>UnderLoad_Z_pwr</th>\n",
       "      <th>UnderLoad_Z_std</th>\n",
       "      <th>UnderLoad_Z_skew</th>\n",
       "      <th>UnderLoad_Z_maxFFT</th>\n",
       "      <th>UnderLoad_Z_maxFreq</th>\n",
       "      <th>UnderLoad_Z_chain</th>\n",
       "    </tr>\n",
       "  </thead>\n",
       "  <tbody>\n",
       "    <tr>\n",
       "      <th>0</th>\n",
       "      <td>0.002966</td>\n",
       "      <td>0.054461</td>\n",
       "      <td>-0.219428</td>\n",
       "      <td>0.006399</td>\n",
       "      <td>14.023372</td>\n",
       "      <td>0.001457</td>\n",
       "      <td>0.001906</td>\n",
       "      <td>0.043659</td>\n",
       "      <td>-0.029433</td>\n",
       "      <td>0.007282</td>\n",
       "      <td>26.043406</td>\n",
       "      <td>0.004867</td>\n",
       "      <td>0.069762</td>\n",
       "      <td>0.253351</td>\n",
       "      <td>0.009374</td>\n",
       "      <td>57.095159</td>\n",
       "      <td>0.002530</td>\n",
       "    </tr>\n",
       "    <tr>\n",
       "      <th>1</th>\n",
       "      <td>0.003566</td>\n",
       "      <td>0.059712</td>\n",
       "      <td>-0.173806</td>\n",
       "      <td>0.010743</td>\n",
       "      <td>14.190317</td>\n",
       "      <td>0.001909</td>\n",
       "      <td>0.002330</td>\n",
       "      <td>0.048272</td>\n",
       "      <td>0.028978</td>\n",
       "      <td>0.009353</td>\n",
       "      <td>24.373957</td>\n",
       "      <td>0.005546</td>\n",
       "      <td>0.074472</td>\n",
       "      <td>-0.039635</td>\n",
       "      <td>0.015666</td>\n",
       "      <td>40.901503</td>\n",
       "      <td>0.003219</td>\n",
       "    </tr>\n",
       "    <tr>\n",
       "      <th>2</th>\n",
       "      <td>0.003886</td>\n",
       "      <td>0.062340</td>\n",
       "      <td>-0.058981</td>\n",
       "      <td>0.020496</td>\n",
       "      <td>14.190317</td>\n",
       "      <td>0.002027</td>\n",
       "      <td>0.003050</td>\n",
       "      <td>0.055228</td>\n",
       "      <td>0.046133</td>\n",
       "      <td>0.013604</td>\n",
       "      <td>14.190317</td>\n",
       "      <td>0.009056</td>\n",
       "      <td>0.095165</td>\n",
       "      <td>-0.154786</td>\n",
       "      <td>0.014323</td>\n",
       "      <td>84.808013</td>\n",
       "      <td>0.003424</td>\n",
       "    </tr>\n",
       "    <tr>\n",
       "      <th>3</th>\n",
       "      <td>0.006571</td>\n",
       "      <td>0.081064</td>\n",
       "      <td>-0.044865</td>\n",
       "      <td>0.021452</td>\n",
       "      <td>14.357262</td>\n",
       "      <td>0.002457</td>\n",
       "      <td>0.006301</td>\n",
       "      <td>0.079378</td>\n",
       "      <td>-0.295369</td>\n",
       "      <td>0.014722</td>\n",
       "      <td>14.357262</td>\n",
       "      <td>0.013304</td>\n",
       "      <td>0.115345</td>\n",
       "      <td>-0.648560</td>\n",
       "      <td>0.025257</td>\n",
       "      <td>42.237062</td>\n",
       "      <td>0.005237</td>\n",
       "    </tr>\n",
       "    <tr>\n",
       "      <th>4</th>\n",
       "      <td>0.003855</td>\n",
       "      <td>0.062085</td>\n",
       "      <td>-0.025672</td>\n",
       "      <td>0.019990</td>\n",
       "      <td>14.190317</td>\n",
       "      <td>0.002100</td>\n",
       "      <td>0.002572</td>\n",
       "      <td>0.050720</td>\n",
       "      <td>-0.043165</td>\n",
       "      <td>0.012621</td>\n",
       "      <td>14.190317</td>\n",
       "      <td>0.007128</td>\n",
       "      <td>0.084430</td>\n",
       "      <td>-0.101437</td>\n",
       "      <td>0.018719</td>\n",
       "      <td>43.071786</td>\n",
       "      <td>0.003455</td>\n",
       "    </tr>\n",
       "  </tbody>\n",
       "</table>\n",
       "</div>"
      ],
      "text/plain": [
       "   UnderLoad_X_pwr  UnderLoad_X_std  UnderLoad_X_skew  UnderLoad_X_maxFFT  \\\n",
       "0         0.002966         0.054461         -0.219428            0.006399   \n",
       "1         0.003566         0.059712         -0.173806            0.010743   \n",
       "2         0.003886         0.062340         -0.058981            0.020496   \n",
       "3         0.006571         0.081064         -0.044865            0.021452   \n",
       "4         0.003855         0.062085         -0.025672            0.019990   \n",
       "\n",
       "   UnderLoad_X_maxFreq  UnderLoad_X_dCog  UnderLoad_Y_pwr  UnderLoad_Y_std  \\\n",
       "0            14.023372          0.001457         0.001906         0.043659   \n",
       "1            14.190317          0.001909         0.002330         0.048272   \n",
       "2            14.190317          0.002027         0.003050         0.055228   \n",
       "3            14.357262          0.002457         0.006301         0.079378   \n",
       "4            14.190317          0.002100         0.002572         0.050720   \n",
       "\n",
       "   UnderLoad_Y_skew  UnderLoad_Y_maxFFT  UnderLoad_Y_maxFreq  UnderLoad_Z_pwr  \\\n",
       "0         -0.029433            0.007282            26.043406         0.004867   \n",
       "1          0.028978            0.009353            24.373957         0.005546   \n",
       "2          0.046133            0.013604            14.190317         0.009056   \n",
       "3         -0.295369            0.014722            14.357262         0.013304   \n",
       "4         -0.043165            0.012621            14.190317         0.007128   \n",
       "\n",
       "   UnderLoad_Z_std  UnderLoad_Z_skew  UnderLoad_Z_maxFFT  UnderLoad_Z_maxFreq  \\\n",
       "0         0.069762          0.253351            0.009374            57.095159   \n",
       "1         0.074472         -0.039635            0.015666            40.901503   \n",
       "2         0.095165         -0.154786            0.014323            84.808013   \n",
       "3         0.115345         -0.648560            0.025257            42.237062   \n",
       "4         0.084430         -0.101437            0.018719            43.071786   \n",
       "\n",
       "   UnderLoad_Z_chain  \n",
       "0           0.002530  \n",
       "1           0.003219  \n",
       "2           0.003424  \n",
       "3           0.005237  \n",
       "4           0.003455  "
      ]
     },
     "execution_count": 6,
     "metadata": {},
     "output_type": "execute_result"
    }
   ],
   "source": [
    "x_feats.head()"
   ]
  },
  {
   "cell_type": "markdown",
   "metadata": {},
   "source": [
    "## Tuning with Cross Validation    \n",
    "\n",
    "For each bike recording example, we train a model on all other (N-1) examples and make a prediction on that holdout example, taking the average accuracy across all examples.   "
   ]
  },
  {
   "cell_type": "code",
   "execution_count": 7,
   "metadata": {},
   "outputs": [],
   "source": [
    "# helper functions\n",
    "\n",
    "def oneVsAll(model, x, y):\n",
    "    index = range(0, x.shape[0])\n",
    "    numExamples = len(index)\n",
    "    preds = []\n",
    "\n",
    "    for i in index:\n",
    "        train = x.drop(i, axis=0)\n",
    "        labels = y.drop(i)\n",
    "        model.fit(train, labels)\n",
    "        preds.append(model.predict(np.array(x_feats.iloc[i]).reshape(1, -1))) #updated from x_scaled\n",
    "\n",
    "    print(\"Accuracy:  \", accuracy_score(y, preds))\n",
    "    print(\"Precision: \", precision_score(y, preds))\n",
    "    print(\"Recall:    \", recall_score(y, preds))\n",
    "    print(\"F1 score:  \", f1_score(y, preds))\n",
    "    return confusion_matrix(y, preds)\n",
    "\n",
    "\n",
    "def f1_looper(model, x, y):\n",
    "    index = range(0, x.shape[0])\n",
    "    numExamples = len(index)\n",
    "    preds = []\n",
    "\n",
    "    for i in index:\n",
    "        train = x.drop(i, axis=0)\n",
    "        labels = y.drop(i)\n",
    "        model.fit(train, labels)\n",
    "        preds.append(model.predict(np.array(x_feats.iloc[i]).reshape(1, -1))) #updated from x_scaled\n",
    "\n",
    "    return f1_score(y, preds)\n",
    "\n",
    "\n",
    "def f1Curve(c, loss, label, title = None):\n",
    "    \"\"\"\n",
    "    Helper function for plotting.\n",
    "    Args: c list, list of losses\n",
    "    \"\"\"\n",
    "    fig, ax = plt.subplots(1,1,figsize = (12,6))\n",
    "    ax.plot(c, loss, 'r--', label=label)\n",
    "    ax.legend(loc='upper right', fontsize='x-large')\n",
    "    plt.xlabel('Hyperparameter C')\n",
    "    plt.ylabel('F1 (from CV)')\n",
    "    if title:\n",
    "        plt.title(title)\n",
    "    plt.show()"
   ]
  },
  {
   "cell_type": "markdown",
   "metadata": {},
   "source": [
    "## Baseline Linear SVM  \n",
    "\n",
    "We begin with a simple baseline model using a linear SVM classifier.  "
   ]
  },
  {
   "cell_type": "code",
   "execution_count": 8,
   "metadata": {},
   "outputs": [
    {
     "data": {
      "image/png": "[encoded data removed]",
      "text/plain": [
       "<Figure size 864x432 with 1 Axes>"
      ]
     },
     "metadata": {
      "needs_background": "light"
     },
     "output_type": "display_data"
    }
   ],
   "source": [
    "divisor = 2\n",
    "c_values = [i/divisor for i in range(1, 11)]\n",
    "\n",
    "scores = []\n",
    "\n",
    "for c in c_values:\n",
    "    linearSVM = Pipeline((\n",
    "        (\"scaler\", StandardScaler()),\n",
    "        (\"linSVM\", LinearSVC(penalty='l2', C=c, random_state=24, tol=1e-5, max_iter=50000, class_weight='balanced'))\n",
    "        ))\n",
    "    scores.append(f1_looper(linearSVM, x_feats, y_chain))\n",
    "\n",
    "f1Curve(c_values, scores, \"Linear\", title = \"F1 of Linear SVM\")"
   ]
  },
  {
   "cell_type": "code",
   "execution_count": 9,
   "metadata": {},
   "outputs": [
    {
     "name": "stdout",
     "output_type": "stream",
     "text": [
      "Accuracy:   0.8149253731343283\n",
      "Precision:  0.5398230088495575\n",
      "Recall:     0.8591549295774648\n",
      "F1 score:   0.6630434782608695\n"
     ]
    },
    {
     "data": {
      "text/plain": [
       "array([[212,  52],\n",
       "       [ 10,  61]], dtype=int64)"
      ]
     },
     "execution_count": 9,
     "metadata": {},
     "output_type": "execute_result"
    }
   ],
   "source": [
    "linearSVM = Pipeline((\n",
    "        (\"scaler\", StandardScaler()),\n",
    "        (\"linear\", LinearSVC(penalty='l2', C=5, random_state=24, tol=1e-5, max_iter=50000, class_weight='balanced'))\n",
    "        ))\n",
    "\n",
    "oneVsAll(linearSVM, x_feats, y_chain)"
   ]
  },
  {
   "cell_type": "markdown",
   "metadata": {},
   "source": [
    "## Polynomial Kernel    \n",
    "\n",
    "To model more complex relationships, we use a kernel trick to estimate polynomial transformations/relationships and interactions across our feature sets.   \n",
    "\n",
    "### Order = 2"
   ]
  },
  {
   "cell_type": "code",
   "execution_count": 9,
   "metadata": {},
   "outputs": [
    {
     "data": {
      "image/png": "[encoded data removed]",
      "text/plain": [
       "<Figure size 864x432 with 1 Axes>"
      ]
     },
     "metadata": {
      "needs_background": "light"
     },
     "output_type": "display_data"
    }
   ],
   "source": [
    "divisor = 2\n",
    "c_values = [i/divisor for i in range(1, 21)]\n",
    "scores = []\n",
    "\n",
    "for c in c_values:\n",
    "    polySVM = Pipeline((\n",
    "        (\"scaler\", StandardScaler()),\n",
    "        (\"poly2\", SVC(kernel='poly', C=c, degree=2, class_weight='balanced', gamma='scale'))\n",
    "        ))\n",
    "    scores.append(f1_looper(polySVM, x_feats, y_chain))\n",
    "\n",
    "f1Curve(c_values, scores, \"Poly-2\", title = \"F1 of Polynomial=2\")"
   ]
  },
  {
   "cell_type": "code",
   "execution_count": 10,
   "metadata": {},
   "outputs": [
    {
     "name": "stdout",
     "output_type": "stream",
     "text": [
      "Accuracy:   0.7910447761194029\n",
      "Precision:  0.504424778761062\n",
      "Recall:     0.8028169014084507\n",
      "F1 score:   0.6195652173913044\n"
     ]
    },
    {
     "data": {
      "text/plain": [
       "array([[208,  56],\n",
       "       [ 14,  57]], dtype=int64)"
      ]
     },
     "execution_count": 10,
     "metadata": {},
     "output_type": "execute_result"
    }
   ],
   "source": [
    "poly2 = Pipeline((\n",
    "        (\"scaler\", StandardScaler()),\n",
    "        (\"poly2_svm\", SVC(kernel='poly', C=4, degree=2, class_weight='balanced', gamma='scale'))\n",
    "        ))\n",
    "\n",
    "oneVsAll(poly2, x_feats, y_chain)"
   ]
  },
  {
   "cell_type": "markdown",
   "metadata": {},
   "source": [
    "### Order = 3"
   ]
  },
  {
   "cell_type": "code",
   "execution_count": 12,
   "metadata": {},
   "outputs": [
    {
     "data": {
      "image/png": "[encoded data removed]",
      "text/plain": [
       "<Figure size 864x432 with 1 Axes>"
      ]
     },
     "metadata": {
      "needs_background": "light"
     },
     "output_type": "display_data"
    }
   ],
   "source": [
    "divisor = 2\n",
    "c_values = [i/divisor for i in range(1, 20)]\n",
    "scores = []\n",
    "\n",
    "for c in c_values:\n",
    "    polySVM = Pipeline((\n",
    "        (\"scaler\", StandardScaler()),\n",
    "        (\"poly3\", SVC(kernel='poly', C=c, degree=3, class_weight='balanced', gamma='scale'))\n",
    "        ))\n",
    "    scores.append(f1_looper(polySVM, x_feats, y_chain))\n",
    "\n",
    "f1Curve(c_values, scores, \"Poly-3\", title = \"F1 of Polynomial=3\")"
   ]
  },
  {
   "cell_type": "code",
   "execution_count": 13,
   "metadata": {},
   "outputs": [
    {
     "name": "stdout",
     "output_type": "stream",
     "text": [
      "Accuracy:   0.817910447761194\n",
      "Precision:  0.5595238095238095\n",
      "Recall:     0.6619718309859155\n",
      "F1 score:   0.6064516129032258\n"
     ]
    },
    {
     "data": {
      "text/plain": [
       "array([[227,  37],\n",
       "       [ 24,  47]], dtype=int64)"
      ]
     },
     "execution_count": 13,
     "metadata": {},
     "output_type": "execute_result"
    }
   ],
   "source": [
    "poly3 = Pipeline((\n",
    "        (\"scaler\", StandardScaler()),\n",
    "        (\"poly3_svm\", SVC(kernel='poly', C=4, degree=3, class_weight='balanced', gamma='scale'))\n",
    "        ))\n",
    "\n",
    "oneVsAll(poly3, x_feats, y_chain)"
   ]
  },
  {
   "cell_type": "markdown",
   "metadata": {},
   "source": [
    "### Order = 4"
   ]
  },
  {
   "cell_type": "code",
   "execution_count": 28,
   "metadata": {},
   "outputs": [
    {
     "data": {
      "image/png": "[encoded data removed]",
      "text/plain": [
       "<Figure size 864x432 with 1 Axes>"
      ]
     },
     "metadata": {
      "needs_background": "light"
     },
     "output_type": "display_data"
    }
   ],
   "source": [
    "divisor = 1\n",
    "c_values = [i/divisor for i in range(1, 20)]\n",
    "scores = []\n",
    "\n",
    "for c in c_values:\n",
    "    polySVM = Pipeline((\n",
    "        (\"scaler\", StandardScaler()),\n",
    "        (\"poly4\", SVC(kernel='poly', C=c, degree=4, class_weight='balanced', gamma='scale'))\n",
    "        ))\n",
    "    scores.append(f1_looper(polySVM, x_feats, y_chain))\n",
    "\n",
    "f1Curve(c_values, scores, \"Poly-4\", title = \"F1 of Polynomial=4\")"
   ]
  },
  {
   "cell_type": "code",
   "execution_count": 35,
   "metadata": {},
   "outputs": [
    {
     "name": "stdout",
     "output_type": "stream",
     "text": [
      "Accuracy:   0.8149253731343283\n",
      "Precision:  0.5633802816901409\n",
      "Recall:     0.5633802816901409\n",
      "F1 score:   0.5633802816901409\n"
     ]
    },
    {
     "data": {
      "text/plain": [
       "array([[233,  31],\n",
       "       [ 31,  40]], dtype=int64)"
      ]
     },
     "execution_count": 35,
     "metadata": {},
     "output_type": "execute_result"
    }
   ],
   "source": [
    "poly4 = Pipeline((\n",
    "        (\"scaler\", StandardScaler()),\n",
    "        (\"poly4_svm\", SVC(kernel='poly', C=10, degree=4, class_weight='balanced', gamma='scale'))\n",
    "        ))\n",
    "\n",
    "oneVsAll(poly4, x_feats, y_chain)"
   ]
  },
  {
   "cell_type": "markdown",
   "metadata": {},
   "source": [
    "Regularized linear model does better than each polynomial model."
   ]
  },
  {
   "cell_type": "markdown",
   "metadata": {},
   "source": [
    "### Gaussian RBF"
   ]
  },
  {
   "cell_type": "code",
   "execution_count": 14,
   "metadata": {},
   "outputs": [
    {
     "data": {
      "image/png": "[encoded data removed]",
      "text/plain": [
       "<Figure size 864x432 with 1 Axes>"
      ]
     },
     "metadata": {
      "needs_background": "light"
     },
     "output_type": "display_data"
    }
   ],
   "source": [
    "divisor = 1\n",
    "c_values = [i/divisor for i in range(1, 20)]\n",
    "\n",
    "scores = []\n",
    "\n",
    "for c in c_values:\n",
    "    rbfSVM = Pipeline((\n",
    "        (\"scaler\", StandardScaler()),\n",
    "        (\"rbf\", SVC(kernel='rbf', C=c, class_weight='balanced', gamma='scale'))\n",
    "        ))\n",
    "    scores.append(f1_looper(rbfSVM, x_feats, y_chain))\n",
    "\n",
    "f1Curve(c_values, scores, \"RBF\", title = \"F1 of Gaussian RBF\")"
   ]
  },
  {
   "cell_type": "code",
   "execution_count": 15,
   "metadata": {},
   "outputs": [
    {
     "name": "stdout",
     "output_type": "stream",
     "text": [
      "Accuracy:   0.8805970149253731\n",
      "Precision:  0.6867469879518072\n",
      "Recall:     0.8028169014084507\n",
      "F1 score:   0.7402597402597403\n"
     ]
    },
    {
     "data": {
      "text/plain": [
       "array([[238,  26],\n",
       "       [ 14,  57]], dtype=int64)"
      ]
     },
     "execution_count": 15,
     "metadata": {},
     "output_type": "execute_result"
    }
   ],
   "source": [
    "rbfSVM = Pipeline((\n",
    "        (\"scaler\", StandardScaler()),\n",
    "        (\"rbf\", SVC(kernel='rbf', C=7.5, class_weight='balanced', gamma='scale'))\n",
    "        ))\n",
    "\n",
    "oneVsAll(rbfSVM, x_feats, y_chain)"
   ]
  },
  {
   "cell_type": "markdown",
   "metadata": {},
   "source": [
    "**Result**: Gaussian RBF far outperforms all polynomial kernel models and the baseline linear model. This will be our selected model at the optimum lane width _C_ = 7.5."
   ]
  },
  {
   "cell_type": "markdown",
   "metadata": {},
   "source": [
    "## Save Model"
   ]
  },
  {
   "cell_type": "code",
   "execution_count": 16,
   "metadata": {},
   "outputs": [
    {
     "data": {
      "text/plain": [
       "['model/chainSVM.joblib']"
      ]
     },
     "execution_count": 16,
     "metadata": {},
     "output_type": "execute_result"
    }
   ],
   "source": [
    "from joblib import dump, load\n",
    "\n",
    "chainSVM = rbfSVM\n",
    "dump(chainSVM, 'model/chainSVM.joblib')"
   ]
  },
  {
   "cell_type": "code",
   "execution_count": 17,
   "metadata": {},
   "outputs": [],
   "source": [
    "# test importing .joblib\n",
    "importSVM = load('model/chainSVM.joblib')"
   ]
  },
  {
   "cell_type": "code",
   "execution_count": 18,
   "metadata": {},
   "outputs": [
    {
     "name": "stdout",
     "output_type": "stream",
     "text": [
      "Precision:  0.8214285714285714\n",
      "Recall:     0.971830985915493\n",
      "F1 score:   0.8903225806451612\n"
     ]
    },
    {
     "data": {
      "text/plain": [
       "array([[249,  15],\n",
       "       [  2,  69]], dtype=int64)"
      ]
     },
     "execution_count": 18,
     "metadata": {},
     "output_type": "execute_result"
    }
   ],
   "source": [
    "# train accuracy\n",
    "y_import = importSVM.predict(x_feats)\n",
    "print(\"Precision: \", precision_score(y_chain, y_import))\n",
    "print(\"Recall:    \", recall_score(y_chain, y_import))\n",
    "print(\"F1 score:  \", f1_score(y_chain, y_import))\n",
    "confusion_matrix(y_chain, y_import)"
   ]
  },
  {
   "cell_type": "code",
   "execution_count": null,
   "metadata": {},
   "outputs": [],
   "source": []
  }
 ],
 "metadata": {
  "kernelspec": {
   "display_name": "Python [default]",
   "language": "python",
   "name": "python3"
  },
  "language_info": {
   "codemirror_mode": {
    "name": "ipython",
    "version": 3
   },
   "file_extension": ".py",
   "mimetype": "text/x-python",
   "name": "python",
   "nbconvert_exporter": "python",
   "pygments_lexer": "ipython3",
   "version": "3.6.6"
  }
 },
 "nbformat": 4,
 "nbformat_minor": 2
}
