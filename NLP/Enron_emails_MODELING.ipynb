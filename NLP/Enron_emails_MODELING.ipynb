{
 "cells": [
  {
   "cell_type": "markdown",
   "metadata": {},
   "source": [
    "# Detecting Deception in Enron Emails\n",
    "## 3. K-Means Clustering\n",
    "\n",
    "In this notebook, we attempt three methods of clustering and topic modeling, beginning with simple N-gram features, then reducing dimensionality for K-means using paragraph vectoring, or Doc2Vec. We also try variants of Latent Dirichlet Allocation (LDA) in the ensuing notebook to identify sub-topics within emails for comparison to our keyword-targeted labels."
   ]
  },
  {
   "cell_type": "markdown",
   "metadata": {},
   "source": [
    "### 3.0 Libraries and Preprocessed Data\n",
    "\n",
    "Preprocessed data generated in prior workbook: https://github.com/colbycarter/NLP_Enron/blob/master/Enron_emails_PREPROCESSING.ipynb"
   ]
  },
  {
   "cell_type": "code",
   "execution_count": 1,
   "metadata": {},
   "outputs": [
    {
     "name": "stderr",
     "output_type": "stream",
     "text": [
      "C:\\Users\\Colby\\Anaconda3\\lib\\site-packages\\gensim-3.4.0-py3.5-win-amd64.egg\\gensim\\utils.py:1197: UserWarning: detected Windows; aliasing chunkize to chunkize_serial\n",
      "  warnings.warn(\"detected Windows; aliasing chunkize to chunkize_serial\")\n"
     ]
    }
   ],
   "source": [
    "from __future__ import print_function\n",
    "from __future__ import division\n",
    "\n",
    "import os, sys\n",
    "import collections\n",
    "import re\n",
    "\n",
    "import numpy as np\n",
    "import pandas as pd\n",
    "import matplotlib.pyplot as plt\n",
    "import random\n",
    "from collections import Counter\n",
    "import time\n",
    "\n",
    "import email\n",
    "import nltk\n",
    "from nltk.tokenize.treebank import TreebankWordTokenizer\n",
    "from nltk.tokenize import sent_tokenize\n",
    "from nltk.tokenize import RegexpTokenizer\n",
    "from scipy import sparse, hstack\n",
    "from sklearn.feature_extraction.text import *\n",
    "from sklearn.cluster import KMeans\n",
    "from sklearn.metrics.pairwise import cosine_similarity\n",
    "# run 'easy_install -U gensim' to install gensim and then re-launch jupyter notebook\n",
    "import gensim\n",
    "from sklearn.decomposition import PCA\n",
    "\n",
    "# Helper libraries\n",
    "import constants\n",
    "import utils\n",
    "import vocabulary"
   ]
  },
  {
   "cell_type": "markdown",
   "metadata": {},
   "source": [
    "### Load Preprocessed Dataset"
   ]
  },
  {
   "cell_type": "code",
   "execution_count": 2,
   "metadata": {},
   "outputs": [
    {
     "name": "stdout",
     "output_type": "stream",
     "text": [
      "(517401, 4)\n"
     ]
    },
    {
     "data": {
      "text/html": [
       "<div>\n",
       "<style>\n",
       "    .dataframe thead tr:only-child th {\n",
       "        text-align: right;\n",
       "    }\n",
       "\n",
       "    .dataframe thead th {\n",
       "        text-align: left;\n",
       "    }\n",
       "\n",
       "    .dataframe tbody tr th {\n",
       "        vertical-align: top;\n",
       "    }\n",
       "</style>\n",
       "<table border=\"1\" class=\"dataframe\">\n",
       "  <thead>\n",
       "    <tr style=\"text-align: right;\">\n",
       "      <th></th>\n",
       "      <th>file</th>\n",
       "      <th>email_list</th>\n",
       "      <th>email_str</th>\n",
       "      <th>suspicious_ind</th>\n",
       "    </tr>\n",
       "  </thead>\n",
       "  <tbody>\n",
       "    <tr>\n",
       "      <th>0</th>\n",
       "      <td>allen-p/_sent_mail/1.</td>\n",
       "      <td>[here, is, our, forecast, &lt;s&gt;]</td>\n",
       "      <td>here is our forecast &lt;s&gt;</td>\n",
       "      <td>0.0</td>\n",
       "    </tr>\n",
       "    <tr>\n",
       "      <th>1</th>\n",
       "      <td>allen-p/_sent_mail/10.</td>\n",
       "      <td>[traveling, to, have, a, business, meeting, ta...</td>\n",
       "      <td>traveling to have a business meeting takes the...</td>\n",
       "      <td>0.0</td>\n",
       "    </tr>\n",
       "    <tr>\n",
       "      <th>2</th>\n",
       "      <td>allen-p/_sent_mail/100.</td>\n",
       "      <td>[test, successful, &lt;s&gt;, way, to, go, !, !, &lt;s&gt;...</td>\n",
       "      <td>test successful &lt;s&gt; way to go ! ! &lt;s&gt; ! &lt;s&gt;</td>\n",
       "      <td>0.0</td>\n",
       "    </tr>\n",
       "    <tr>\n",
       "      <th>3</th>\n",
       "      <td>allen-p/_sent_mail/1000.</td>\n",
       "      <td>[randy, can, you, send, me, a, schedule, of, t...</td>\n",
       "      <td>randy can you send me a schedule of the salary...</td>\n",
       "      <td>0.0</td>\n",
       "    </tr>\n",
       "    <tr>\n",
       "      <th>4</th>\n",
       "      <td>allen-p/_sent_mail/1001.</td>\n",
       "      <td>[let, 's, shoot, for, tuesday, at, DGDG:DGDG, ...</td>\n",
       "      <td>let 's shoot for tuesday at DGDG:DGDG &lt;s&gt;</td>\n",
       "      <td>0.0</td>\n",
       "    </tr>\n",
       "  </tbody>\n",
       "</table>\n",
       "</div>"
      ],
      "text/plain": [
       "                       file  \\\n",
       "0     allen-p/_sent_mail/1.   \n",
       "1    allen-p/_sent_mail/10.   \n",
       "2   allen-p/_sent_mail/100.   \n",
       "3  allen-p/_sent_mail/1000.   \n",
       "4  allen-p/_sent_mail/1001.   \n",
       "\n",
       "                                          email_list  \\\n",
       "0                     [here, is, our, forecast, <s>]   \n",
       "1  [traveling, to, have, a, business, meeting, ta...   \n",
       "2  [test, successful, <s>, way, to, go, !, !, <s>...   \n",
       "3  [randy, can, you, send, me, a, schedule, of, t...   \n",
       "4  [let, 's, shoot, for, tuesday, at, DGDG:DGDG, ...   \n",
       "\n",
       "                                           email_str  suspicious_ind  \n",
       "0                           here is our forecast <s>             0.0  \n",
       "1  traveling to have a business meeting takes the...             0.0  \n",
       "2        test successful <s> way to go ! ! <s> ! <s>             0.0  \n",
       "3  randy can you send me a schedule of the salary...             0.0  \n",
       "4          let 's shoot for tuesday at DGDG:DGDG <s>             0.0  "
      ]
     },
     "execution_count": 2,
     "metadata": {},
     "output_type": "execute_result"
    }
   ],
   "source": [
    "# preprocessed import; runtime ~3 minutes for full set\n",
    "# ENTER PATH FOR IMPORT AND EXPORT\n",
    "path = 'C:/Users/Colby/Documents/Berkeley/266_NLP/final_project/data'\n",
    "emails_df = pd.read_pickle(path + '/cleaned_emails.pkl')\n",
    "emails_df.loc[228829, \"suspicious_ind\"] = 1\n",
    "#print(sum(emails_df[\"suspicious_ind\"]))\n",
    "print(emails_df.shape)\n",
    "emails_df.head()"
   ]
  },
  {
   "cell_type": "markdown",
   "metadata": {},
   "source": [
    "### Functions for Evaluating Emails Nearest Labeled Examples\n",
    "\n",
    "These functions assist both the simple baseline and paragraph vector implementations of K-means, icncluding generating predicted clusters for our full and labeled sets of emails."
   ]
  },
  {
   "cell_type": "code",
   "execution_count": 3,
   "metadata": {
    "collapsed": true
   },
   "outputs": [],
   "source": [
    "def tfidf_fct(data, N_gram, max_df=.01, min_df=5):\n",
    "    \"\"\"Return tf-idf N-gram vectors\"\"\"\n",
    "    transformer = TfidfTransformer()\n",
    "    vectorize = CountVectorizer(ngram_range=(1, N_gram), max_df=max_df, min_df=min_df)\n",
    "    n_grams = vectorize.fit_transform(data[\"email_str\"])\n",
    "    n_grams_idf = transformer.fit_transform(n_grams)\n",
    "    print(\"N-grams TF-IDF:\", n_grams_idf.shape)\n",
    "    print(type(n_grams_idf))\n",
    "    return n_grams_idf\n",
    "\n",
    "def k_preds(data, feats, kmeans):\n",
    "    \"\"\"predict cluster of emails using an initialized k-means object\"\"\"\n",
    "    base_preds = kmeans.predict(feats)\n",
    "    print(\"Cluster counts:\", Counter(base_preds))\n",
    "\n",
    "    # GET IDS OF POSITIVE LABELS\n",
    "    positive_labels = data[data[\"suspicious_ind\"]==1]\n",
    "    #print(\"pos labs:\", positive_labels)\n",
    "    labeled_ids = positive_labels.index.values\n",
    "\n",
    "    print(\"Positive labels:\\n\", Counter(base_preds[data[\"suspicious_ind\"]==1]))\n",
    "    return base_preds, positive_labels, labeled_ids\n",
    "\n",
    "def get_labels(data, features, preds, key_cluster, labeled_ids):\n",
    "    \"\"\"get feature set for the labeled examples in a cluster key_cluster\"\"\"\n",
    "    # enter index of typical cluster\n",
    "    ids = []\n",
    "    for i in labeled_ids:\n",
    "        if preds[i] == key_cluster:\n",
    "            ids.append(i)\n",
    "    print(\"Label IDs in selected cluster:\\n\", ids)\n",
    "    cluster_ids = (preds==key_cluster).astype(int)\n",
    "    labeled_feats = features[np.multiply(np.array(data[\"suspicious_ind\"]), cluster_ids).astype(bool)]\n",
    "    print(\"Labeled feature shape:\", labeled_feats.shape)\n",
    "    return labeled_feats\n",
    "\n",
    "# cosine_similarity\n",
    "def top_cos_sims(labeled_feats, features):\n",
    "    \"\"\"evaluate closest examples in example cluster based on cosine similarity\"\"\"\n",
    "    cos_sims = cosine_similarity(labeled_feats, features)\n",
    "    print(\"Cosign similarities shape:\", cos_sims.shape)\n",
    "    closest_args = np.argsort(cos_sims, axis = 1)[:,-12:-6]  #closest 6 examples, ignoring possible repeats\n",
    "    print(\"Top 6 closest emails (IDs, right-to-left):\\n\", closest_args)\n",
    "    print()\n",
    "    print(\"Top 6 largest cos-sims in cluster:\")\n",
    "    for example in range(cos_sims.shape[0]):\n",
    "        print(cos_sims[example, closest_args[example,:]])\n",
    "        \n",
    "# create tagged documents for paragraph vector training\n",
    "def tag_docs(data):\n",
    "    tagger = gensim.models.doc2vec.TaggedDocument\n",
    "    tagged_docs = []\n",
    "    for i, email in enumerate(data[\"email_list\"]):\n",
    "        tagged_docs.append(tagger(email, [i]))\n",
    "    return tagged_docs"
   ]
  },
  {
   "cell_type": "markdown",
   "metadata": {},
   "source": [
    "## 3.1 Baseline: K-Means Clustering with BOW Features\n",
    "\n",
    "Using a random sample of only 50,000 emails to reduce dimensions in and run-time of baseline model."
   ]
  },
  {
   "cell_type": "code",
   "execution_count": 3,
   "metadata": {},
   "outputs": [
    {
     "name": "stdout",
     "output_type": "stream",
     "text": [
      "Mini shape: (50000, 4)\n"
     ]
    }
   ],
   "source": [
    "# ENTER number of rows for training; NONE if using all\n",
    "num_rows = 50000\n",
    "use_full = False\n",
    "\n",
    "if use_full == False:\n",
    "    random.seed(24)\n",
    "    rand_ids = random.sample(range(0, emails_df.shape[0]), num_rows)\n",
    "    mini_df = emails_df.loc[rand_ids,]\n",
    "    print(\"Mini shape:\", mini_df.shape)"
   ]
  },
  {
   "cell_type": "markdown",
   "metadata": {},
   "source": [
    "Turn emails into term-frequency and inverse-document-frequency weighted counts of limited unigram set, to keep feature set reasonable for fitting K-means."
   ]
  },
  {
   "cell_type": "code",
   "execution_count": 66,
   "metadata": {},
   "outputs": [
    {
     "name": "stdout",
     "output_type": "stream",
     "text": [
      "N-grams TF-IDF: (50000, 37082)\n",
      "<class 'scipy.sparse.csr.csr_matrix'>\n"
     ]
    }
   ],
   "source": [
    "n_grams_idf = tfidf_fct(mini_df, 1, .01, 5)"
   ]
  },
  {
   "cell_type": "code",
   "execution_count": 17,
   "metadata": {},
   "outputs": [
    {
     "data": {
      "text/plain": [
       "KMeans(algorithm='auto', copy_x=True, init='k-means++', max_iter=30,\n",
       "    n_clusters=6, n_init=10, n_jobs=1, precompute_distances='auto',\n",
       "    random_state=None, tol=0.01, verbose=0)"
      ]
     },
     "execution_count": 17,
     "metadata": {},
     "output_type": "execute_result"
    }
   ],
   "source": [
    "# fit k-means (n=4, tol=.01, max_iter=100 takes ~20 mins to train)\n",
    "kmeans = KMeans(n_clusters=6, tol=.01, max_iter=30)\n",
    "kmeans.fit(n_grams_idf)"
   ]
  },
  {
   "cell_type": "code",
   "execution_count": 111,
   "metadata": {},
   "outputs": [
    {
     "name": "stdout",
     "output_type": "stream",
     "text": [
      "Cluster counts: Counter({0: 48248, 1: 510, 2: 395, 4: 347, 3: 292, 5: 208})\n",
      "Positive labels: Counter({0: 3})\n"
     ]
    }
   ],
   "source": [
    "# evaluate predictions on positively labeled examples\n",
    "base_preds, positive_labels, labeled_ids = k_preds(mini_df, n_grams_idf, kmeans)"
   ]
  },
  {
   "cell_type": "markdown",
   "metadata": {},
   "source": [
    "Using simple unigram features leads to a very unbalanced K-means clustering, with over 96% of sampled examples falling in the same cluster, even after preprocessing and limiting length of emails. Because of this, we will want to generate stronger features with lower dimensionality that generalize better."
   ]
  },
  {
   "cell_type": "code",
   "execution_count": 94,
   "metadata": {},
   "outputs": [
    {
     "name": "stdout",
     "output_type": "stream",
     "text": [
      "(3, 37082)\n",
      "(3, 50000)\n",
      "[[20023 30012 33765 24618 41249]\n",
      " [ 6763 34919  7488   142 10145]\n",
      " [26596  4460   561 11264 16541]]\n",
      "[ 0.52720321  0.52720321  0.53289646  0.54345702  0.5770474 ]\n",
      "[ 0.45147323  0.46390951  0.6663603   0.73649271  0.80389285]\n",
      "[ 0.26537967  0.34106605  0.35264769  0.47085026  0.9844188 ]\n"
     ]
    }
   ],
   "source": [
    "labeled_feats = get_labels(mini_df, n_grams_idf, base_preds, 0)\n",
    "top_cos_sims(labeled_feats, n_grams_idf)"
   ]
  },
  {
   "cell_type": "code",
   "execution_count": 80,
   "metadata": {},
   "outputs": [
    {
     "data": {
      "text/plain": [
       "\"can you coordinate the scott tholen 's team to do this asap ? <s> thanks <s> keep me updated on when fernley will have access <s> thanks <s> by sally beck/hou/ect on DGDG/DGDG/DGDGDGDG DGDG:DGDG pm - mark frevert enron DGDG/DGDG/DGDGDGDG DGDG:DGDG pm to : sally beck/hou/ect ect cc : subject : re : access to dpr for fernley dyson please go ahead and get fernley access to the dpr <s> thanks <s> mark <s>\""
      ]
     },
     "execution_count": 80,
     "metadata": {},
     "output_type": "execute_result"
    }
   ],
   "source": [
    "# nearest emails flagged:\n",
    "emails_df.loc[24618, \"email_str\"]"
   ]
  },
  {
   "cell_type": "markdown",
   "metadata": {},
   "source": [
    "## 3.2 K-Means Clustering using Paragraph Vectors (doc2vec)\n",
    "\n",
    "In order to reduce dimensions and get more balanced clusters, we train paragraph vectors using the full email dataset.\n",
    "\n",
    "Gensim documentation: https://radimrehurek.com/gensim/models/doc2vec.html\n",
    "\n",
    "Also see: https://stackoverflow.com/questions/41709318/what-is-gensims-docvecs"
   ]
  },
  {
   "cell_type": "code",
   "execution_count": 5,
   "metadata": {},
   "outputs": [
    {
     "name": "stdout",
     "output_type": "stream",
     "text": [
      "Time to train doc2vec features (sec): 0.0026673772301659612\n"
     ]
    }
   ],
   "source": [
    "start = time.time()\n",
    "\n",
    "#convert emails to tagged-documents\n",
    "tagged_docs = tag_docs(emails_df)\n",
    "\n",
    "#train doc2vec model\n",
    "# 30 mins with full df, size = 1000 and window size of 5\n",
    "\n",
    "#COMMENTED OUT AFTER FINAL RUN; RE-LOADED BELOW\n",
    "#doc_model = gensim.models.doc2vec.Doc2Vec(documents=tagged_docs, vector_size = 2000, window = 5, alpha = .01, min_count = 5)\n",
    "\n",
    "doc_model.save(\"doc_model\")\n",
    "doc_model.delete_temporary_training_data(keep_doctags_vectors=True, keep_inference=True)\n",
    "\n",
    "end = time.time()\n",
    "print(\"Time to train doc2vec features:\", end - start)"
   ]
  },
  {
   "cell_type": "code",
   "execution_count": 4,
   "metadata": {
    "scrolled": true
   },
   "outputs": [
    {
     "name": "stdout",
     "output_type": "stream",
     "text": [
      "(517401, 2000)\n",
      "[(501419, 0.9149469137191772), (513132, 0.9130669236183167), (502172, 0.9125531911849976), (515889, 0.9115132093429565), (500725, 0.9107814431190491), (465277, 0.9106547236442566), (490806, 0.9105073809623718), (5860, 0.9104685187339783), (517379, 0.9103668928146362), (501190, 0.9102362990379333)]\n"
     ]
    }
   ],
   "source": [
    "#re-load model, if necessary\n",
    "doc_model = gensim.models.doc2vec.Doc2Vec.load(\"doc_model\")\n",
    "doc_feats = doc_model.docvecs.vectors_docs\n",
    "print(doc_feats.shape)\n",
    "print(doc_model.docvecs.most_similar(0))"
   ]
  },
  {
   "cell_type": "code",
   "execution_count": 16,
   "metadata": {
    "collapsed": true
   },
   "outputs": [],
   "source": [
    "def train_kmeans(doc_feats, pca_vects, pca_labeled, num_clusters=4):\n",
    "    \"\"\"train and plot k-means, returning score for k selection to determine best-performing number of clusters\"\"\"\n",
    "    start = time.time()\n",
    "    \n",
    "    kmeans_doc = KMeans(n_clusters=num_clusters, tol=.01, max_iter=30)\n",
    "    preds = kmeans_doc.fit_predict(doc_feats)\n",
    "    score = kmeans_doc.score(doc_feats)\n",
    "\n",
    "    end = time.time()\n",
    "    print(\"Time to train and score K-means:\", (end - start)/60, \"min\")\n",
    "    \n",
    "    myColors = [str(round((i+.5)/num_clusters,2)) for i in range(0,num_clusters)]\n",
    "    \n",
    "    # plot clusters using 2d PCA\n",
    "    \n",
    "    plt.figure(figsize = (4, 4))\n",
    "\n",
    "    for c in range(0,num_clusters):\n",
    "        cluster = pca_vects[preds==c]\n",
    "        plt.scatter(cluster[:,0], cluster[:,1], c = myColors[c], edgecolors = 'none')\n",
    "\n",
    "    plt.scatter(pca_labeled[:,0], pca_labeled[:,1], c = \"gold\", marker=\"*\")\n",
    "    plt.title(str(num_clusters) + \" Clusters from Paragraph Vectors\")\n",
    "    plt.show()\n",
    "    \n",
    "    return kmeans_doc, score"
   ]
  },
  {
   "cell_type": "code",
   "execution_count": 17,
   "metadata": {
    "scrolled": false
   },
   "outputs": [
    {
     "name": "stdout",
     "output_type": "stream",
     "text": [
      "training 4 ...\n",
      "Time to train and score K-means: 18.483506898085277 min\n"
     ]
    },
    {
     "data": {
      "image/png": "[encoded data removed]",
      "text/plain": [
       "<matplotlib.figure.Figure at 0x27541fef2e8>"
      ]
     },
     "metadata": {},
     "output_type": "display_data"
    },
    {
     "name": "stdout",
     "output_type": "stream",
     "text": [
      "training 5 ...\n",
      "Time to train and score K-means: 17.76042099793752 min\n"
     ]
    },
    {
     "data": {
      "image/png": "[encoded data removed]",
      "text/plain": [
       "<matplotlib.figure.Figure at 0x275421c3da0>"
      ]
     },
     "metadata": {},
     "output_type": "display_data"
    },
    {
     "name": "stdout",
     "output_type": "stream",
     "text": [
      "training 6 ...\n",
      "Time to train and score K-means: 18.693909227848053 min\n"
     ]
    },
    {
     "data": {
      "image/png": "[encoded data removed]",
      "text/plain": [
       "<matplotlib.figure.Figure at 0x2754208d320>"
      ]
     },
     "metadata": {},
     "output_type": "display_data"
    },
    {
     "name": "stdout",
     "output_type": "stream",
     "text": [
      "training 7 ...\n",
      "Time to train and score K-means: 20.329534475008646 min\n"
     ]
    },
    {
     "data": {
      "image/png": "[encoded data removed]",
      "text/plain": [
       "<matplotlib.figure.Figure at 0x275420f1668>"
      ]
     },
     "metadata": {},
     "output_type": "display_data"
    },
    {
     "name": "stdout",
     "output_type": "stream",
     "text": [
      "training 8 ...\n",
      "Time to train and score K-means: 19.23298293352127 min\n"
     ]
    },
    {
     "data": {
      "image/png": "[encoded data removed]",
      "text/plain": [
       "<matplotlib.figure.Figure at 0x275420d7fd0>"
      ]
     },
     "metadata": {},
     "output_type": "display_data"
    },
    {
     "name": "stdout",
     "output_type": "stream",
     "text": [
      "[-402893.17228085548, -392624.09188652784, -386400.14255584963, -380701.96570446901, -376556.84696698003]\n"
     ]
    }
   ],
   "source": [
    "# run and plot k-means using PCA=2 for visualizing\n",
    "scores = []\n",
    "k_s = range(4,9)\n",
    "\n",
    "pca_model = PCA(n_components = 2)\n",
    "pca_vects = pca_model.fit_transform(doc_feats)\n",
    "positive_labels = emails_df[emails_df[\"suspicious_ind\"]==1]\n",
    "labeled_ids = positive_labels.index.values\n",
    "pca_labeled = pca_model.fit_transform(pca_vects[labeled_ids])\n",
    "\n",
    "for k in k_s:\n",
    "    print(\"training\", k, \"...\")\n",
    "    kmeans_doc, score = train_kmeans(doc_feats, pca_vects, pca_labeled, k)\n",
    "    scores.append(score)\n",
    "\n",
    "print(scores)"
   ]
  },
  {
   "cell_type": "markdown",
   "metadata": {},
   "source": [
    "2-dimensional plots of our vectorized emails show that the clustering effectiveness is limited, with K-means picking up features that suggest significant differences between examples."
   ]
  },
  {
   "cell_type": "code",
   "execution_count": 18,
   "metadata": {},
   "outputs": [
    {
     "data": {
      "image/png": "[encoded data removed]",
      "text/plain": [
       "<matplotlib.figure.Figure at 0x2754207c9b0>"
      ]
     },
     "metadata": {},
     "output_type": "display_data"
    }
   ],
   "source": [
    "plt.plot(k_s, scores)\n",
    "plt.xlabel('number components')\n",
    "plt.ylabel('score')\n",
    "plt.title(\"Elbow curve\")\n",
    "plt.show()"
   ]
  },
  {
   "cell_type": "markdown",
   "metadata": {},
   "source": [
    "Each additional cluster only adds a marginal improvement to the K-means distance score, which also gives evidence that the clusters' features are not successfully capturing differences in deception. There also is still a significant imbalance in the cluster sizes."
   ]
  },
  {
   "cell_type": "code",
   "execution_count": 23,
   "metadata": {
    "scrolled": false
   },
   "outputs": [
    {
     "name": "stdout",
     "output_type": "stream",
     "text": [
      "Cluster counts: Counter({1: 189694, 6: 148787, 5: 101060, 0: 51046, 3: 12528, 7: 6826, 4: 5312, 2: 2148})\n",
      "Positive labels:\n",
      " Counter({0: 7, 1: 7, 5: 7, 6: 5, 4: 2, 3: 1, 7: 1})\n"
     ]
    }
   ],
   "source": [
    "preds, pos_labels, labeled_ids = k_preds(emails_df, doc_feats, kmeans_doc)"
   ]
  },
  {
   "cell_type": "markdown",
   "metadata": {},
   "source": [
    "We review a sample of nearest neighbors to the 7 labeled emails in cluster 1, excluding the five closest emails to avoid identifying redundant (pieces of) emails. Of those reviewed, five (or 15%) were newly discovered emails that would likely require scrutiny in a fraud or deceptive context:"
   ]
  },
  {
   "cell_type": "code",
   "execution_count": 25,
   "metadata": {},
   "outputs": [
    {
     "name": "stdout",
     "output_type": "stream",
     "text": [
      "Label IDs in selected cluster:\n",
      " [346, 373, 441, 908, 13966, 27091, 272962]\n",
      "Labeled feature shape: (7, 2000)\n",
      "\n",
      "Cosign similarities shape: (7, 517401)\n",
      "Top 6 closest emails (IDs, right-to-left):\n",
      " [[366912 513996 461340 499861 264595 511116]\n",
      " [312740 487856 418827 480303   6176 371512]\n",
      " [ 80508 231933 157429  73639  64328   1701]\n",
      " [ 63463 228829 490916 231933    931   2684]\n",
      " [511177 507662 509210 452228 490315 510971]\n",
      " [ 17533  38183 103354 297044  39916  20569]\n",
      " [441352 441410  96898 444951   4982 364851]]\n",
      "\n",
      "Top 6 largest cos-sims in cluster:\n",
      "[ 0.82134473  0.8216998   0.82204467  0.82257271  0.82276487  0.82367671]\n",
      "[ 0.65782952  0.65874618  0.66151214  0.66195118  0.66215014  0.66228801]\n",
      "[ 0.61164916  0.61336386  0.61661243  0.64438927  0.66188645  0.66256636]\n",
      "[ 0.54174334  0.54177338  0.54239058  0.56461418  0.59397316  0.63584793]\n",
      "[ 0.7512908   0.75281316  0.75344026  0.75517952  0.75697309  0.75749117]\n",
      "[ 0.38063788  0.38182178  0.38206846  0.38262337  0.3882415   0.52308619]\n",
      "[ 0.60887343  0.61232483  0.61519986  0.61742562  0.62158668  0.621876  ]\n"
     ]
    }
   ],
   "source": [
    "labeled_feats = get_labels(emails_df, doc_feats, preds, 1, labeled_ids)\n",
    "print()\n",
    "top_cos_sims(labeled_feats, doc_feats)"
   ]
  },
  {
   "cell_type": "code",
   "execution_count": 73,
   "metadata": {},
   "outputs": [
    {
     "name": "stdout",
     "output_type": "stream",
     "text": [
      "Labeled example:\n"
     ]
    },
    {
     "data": {
      "text/plain": [
       "'there will be news on this subject soon that could make the rockets payments to the city look very paltry without some good spin <s> since you did the enron deal i wanted to give you a heads up and some talking points which i will have for you monday <s> i think the news will keep until then <s>'"
      ]
     },
     "execution_count": 73,
     "metadata": {},
     "output_type": "execute_result"
    }
   ],
   "source": [
    "# labeled example for comparison:\n",
    "print(\"Labeled example:\")\n",
    "emails_df.loc[272962, \"email_str\"]"
   ]
  },
  {
   "cell_type": "code",
   "execution_count": 79,
   "metadata": {},
   "outputs": [
    {
     "name": "stdout",
     "output_type": "stream",
     "text": [
      "Nearest neighbor example:\n"
     ]
    },
    {
     "data": {
      "text/plain": [
       "\"if your team would like to contribute to this week 's newsletter please submit your business highlight or news by noon wednesday october DGDG. thank you ! <s> kathie grabstald x DG-DGDGDGDG <s>\""
      ]
     },
     "execution_count": 79,
     "metadata": {},
     "output_type": "execute_result"
    }
   ],
   "source": [
    "# for evaluation\n",
    "print(\"Nearest neighbor example:\")\n",
    "emails_df.loc[364851, \"email_str\"]"
   ]
  },
  {
   "cell_type": "code",
   "execution_count": 34,
   "metadata": {},
   "outputs": [
    {
     "name": "stdout",
     "output_type": "stream",
     "text": [
      "Successful neighbor example:\n"
     ]
    },
    {
     "data": {
      "text/plain": [
       "\"what i meant by the term `` electric disconnect '' which i thought was catchy but may have been inartful was simply that supply and demand signals were screwed up <s> this is the `` shelly corman '' argument which may or may not have any factual basis but i put it in there to have it in front of people for discussion <s> steven j kean DGDG/DGDG/DGDGDGDG DGDG:DGDG pm to : jeff dasovich/na/enron enron cc : christi l nicolay/hou/ect ect james d steffes/na/enron enron janet r dietrich/hou/ect ect jeff dasovich/na/enron enron jeffrey t hodge/hou/ect ect joe hartsoe/corp/enron enron leslie lawner/na/enron enron mary hain/hou/ect ect maureen mcvicker/na/enron enron richard shapiro/na/enron enron shelley corman/et & s/enron enron subject : re : draft talking points about california gas market given the way the numbers came out i guess we do n't need the talking points but we should still try to get to the bottom of this because we will be called on to comment to regulators and media <s> unless we have strong evidence to the contrary it seems to me that wholesale markets are working ... they are open and they are competitive <s> on the other hand retail gas markets suffer from the same problems as electric markets ... they are not open customers do n't have effective choices and price signals do n't get through so there is no demand response when prices rise <s> on the points raised in the attachment i 'm still not sure i follow point DG. also what does '' electric disconnect '' mean ? <s> jeff dasovich sent by : jeff dasovich DGDG/DGDG/DGDGDGDG DGDG:DGDG pm to : mary hain/hou/ect ect janet r dietrich/hou/ect ect jeffrey t hodge/hou/ect ect mary hain/hou/ect ect james d steffes/na/enron enron richard shapiro/na/enron enron steven j kean/na/enron enron maureen mcvicker/na/enron enron leslie lawner/na/enron enron christi l nicolay/hou/ect ect joe hartsoe/corp/enron enron shelley corman/et & s/enron enron cc : subject : re : draft talking points about california gas market leslie : looks good <s> just a couple of comments : DG. general may want to point out that the roots of california 's current gas woes are the same ones causing the electric problem -combined effect of california 's '' import-based '' energy policy and the state 's failure to invest in in-state infrastructure <s> california imports about DGDG % of its electricity but about DGDG-DGDG percent of its gas supply <s> california has failed to invest in the in-state infrastructure necessary to support increased gas demand over the last decade <s> so we 've got an interstate pipeline superhighway to the border and a dirt road of in-state transportation once you get into california <s> the last bullet seems to suggest that manipulation may be taking place <s> can we support that suggestion and is it one that we want to make necessarily ? <s> if we do suggest that manipulation may in part explain current prices do we need to propose ways to eliminate it ? <s> otherwise seems that we may be giving ferc ammunition to take action without trying to `` steer '' that action in the right direction <s> maybe i 'm reading too much into the bullet <s> DG. specific competition for gas coming to california has increased significantly <s> the midwest ( via alliance ) is competing away canadian gas <s> the southwest ( nevada arizona ) is competing away supply from the southwest before it hits the california border <s> mary hain ect DGDG/DGDG/DGDGDGDG DGDG:DGDG am to : jeff dasovich/na/enron enron cc : subject : draft talking points about california gas market by mary hain/hou/ect on DGDG/DGDG/DGDGDGDG DGDG:DGDG am - to : janet r dietrich/hou/ect ect jeffrey t hodge/hou/ect ect mary hain/hou/ect ect james d steffes/na/enron enron richard shapiro/na/enron enron steven j kean/na/enron enron maureen mcvicker/na/enron enron cc : subject : draft talking points about california gas market we thought it would be good to basically give chair hoecker talking points with any numbers that enron provides <s> we will visit on these later today when the numbers are ready ( before DG:DGDG ) <s> comments ? <s> by christi l nicolay/hou/ect on DGDG/DGDG/DGDGDGDG DGDG:DGDG am - from : leslie lawner enron on DGDG/DGDG/DGDGDGDG DGDG:DGDG am to : christi l nicolay/hou/ect ect joe hartsoe/corp/enron enron rebecca w cantrell/hou/ect ect ruth concannon/hou/ect ect stephanie miller/corp/enron enron phillip k allen/hou/ect ect jane m tholt/hou/ect ect richard shapiro/na/enron enron cc : subject : talking points about california gas market here is my stab at the talking points to be sent in to ferc along with the gas pricing info they requested for the california markets <s> let me or christi know if you have any disagreements additions whatever <s> i am supposed to be out of here at DG:DGDG today so if you have stuff to add after that get it to christi <s> thanks <s>\""
      ]
     },
     "execution_count": 34,
     "metadata": {},
     "output_type": "execute_result"
    }
   ],
   "source": [
    "# Gold detected example:\n",
    "print(\"Successful neighbor example:\")\n",
    "emails_df.loc[228829, \"email_str\"]"
   ]
  }
 ],
 "metadata": {
  "kernelspec": {
   "display_name": "Python [default]",
   "language": "python",
   "name": "python3"
  },
  "language_info": {
   "codemirror_mode": {
    "name": "ipython",
    "version": 3
   },
   "file_extension": ".py",
   "mimetype": "text/x-python",
   "name": "python",
   "nbconvert_exporter": "python",
   "pygments_lexer": "ipython3",
   "version": "3.5.3"
  }
 },
 "nbformat": 4,
 "nbformat_minor": 2
}
