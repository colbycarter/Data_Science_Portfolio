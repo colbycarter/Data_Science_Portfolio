{
 "cells": [
  {
   "cell_type": "markdown",
   "metadata": {},
   "source": [
    "# Doctor Finder Tutorial: Webscraping and Basic Search Engine with Python, part 2\n",
    "Author:  Colby Carter    \n",
    "    \n",
    "Last modified: 2/11/2023    \n",
    "    \n",
    "Key steps:    \n",
    "1. Fit tf-idf to UTMC profiles and tune to a reasonable feature set.    \n",
    "2. Calculate Cosine Similarity for a health request    "
   ]
  },
  {
   "cell_type": "markdown",
   "metadata": {},
   "source": [
    "## 3. Build a simple search engine"
   ]
  },
  {
   "cell_type": "markdown",
   "metadata": {},
   "source": [
    "#### Import Libraries"
   ]
  },
  {
   "cell_type": "code",
   "execution_count": 6,
   "metadata": {},
   "outputs": [],
   "source": [
    "import numpy as np\n",
    "import pandas as pd\n",
    "import pickle\n",
    "\n",
    "import re\n",
    "\n",
    "from sklearn.feature_extraction.text import TfidfVectorizer\n",
    "from sklearn.metrics.pairwise import cosine_similarity\n",
    "from sklearn.pipeline import Pipeline\n",
    "from sklearn.decomposition import TruncatedSVD\n",
    "\n",
    "import nltk\n",
    "from nltk.stem import WordNetLemmatizer\n",
    "\n",
    "from uszipcode import SearchEngine\n",
    "# import math\n",
    "from haversine import haversine, Unit\n",
    "\n",
    "# import seaborn as sns\n",
    "import matplotlib.pyplot as plt"
   ]
  },
  {
   "cell_type": "code",
   "execution_count": null,
   "metadata": {},
   "outputs": [],
   "source": []
  },
  {
   "cell_type": "markdown",
   "metadata": {},
   "source": [
    "### Data"
   ]
  },
  {
   "cell_type": "code",
   "execution_count": 7,
   "metadata": {},
   "outputs": [],
   "source": [
    "output_file_path = \"./\""
   ]
  },
  {
   "cell_type": "code",
   "execution_count": 8,
   "metadata": {
    "scrolled": true
   },
   "outputs": [
    {
     "name": "stdout",
     "output_type": "stream",
     "text": [
      "(1178, 12)\n"
     ]
    },
    {
     "data": {
      "text/html": [
       "<div>\n",
       "<style scoped>\n",
       "    .dataframe tbody tr th:only-of-type {\n",
       "        vertical-align: middle;\n",
       "    }\n",
       "\n",
       "    .dataframe tbody tr th {\n",
       "        vertical-align: top;\n",
       "    }\n",
       "\n",
       "    .dataframe thead th {\n",
       "        text-align: right;\n",
       "    }\n",
       "</style>\n",
       "<table border=\"1\" class=\"dataframe\">\n",
       "  <thead>\n",
       "    <tr style=\"text-align: right;\">\n",
       "      <th></th>\n",
       "      <th>Name</th>\n",
       "      <th>Profession</th>\n",
       "      <th>Provider</th>\n",
       "      <th>Website</th>\n",
       "      <th>Phone</th>\n",
       "      <th>Zip</th>\n",
       "      <th>Gender</th>\n",
       "      <th>Languages</th>\n",
       "      <th>Bio</th>\n",
       "      <th>About</th>\n",
       "      <th>Clinical_Interest</th>\n",
       "      <th>Specialties</th>\n",
       "    </tr>\n",
       "  </thead>\n",
       "  <tbody>\n",
       "    <tr>\n",
       "      <th>0</th>\n",
       "      <td>Todd B. Abel, MD</td>\n",
       "      <td>Neurological Surgery</td>\n",
       "      <td>UTMC</td>\n",
       "      <td>https://www.utmedicalcenter.org/find-a-doctor/...</td>\n",
       "      <td>865-524-1869</td>\n",
       "      <td>37920</td>\n",
       "      <td>Male</td>\n",
       "      <td>English</td>\n",
       "      <td>Dr. Abel has special interests in spine surger...</td>\n",
       "      <td>Dr. Todd B. Abel is a board certified neurosur...</td>\n",
       "      <td>spine trauma</td>\n",
       "      <td>Brain and Spinal Cord Injury, Neurological Sur...</td>\n",
       "    </tr>\n",
       "    <tr>\n",
       "      <th>1</th>\n",
       "      <td>Julia A. Abraham, MD</td>\n",
       "      <td>Family medicine physician</td>\n",
       "      <td>UTMC</td>\n",
       "      <td>https://www.utmedicalcenter.org/find-a-doctor/...</td>\n",
       "      <td>865-531-1300</td>\n",
       "      <td>37919</td>\n",
       "      <td>Female</td>\n",
       "      <td>English</td>\n",
       "      <td>Primary care physician at Rocky Hill Family Ph...</td>\n",
       "      <td>Dr. Abraham is a Wisconsin native but grew up ...</td>\n",
       "      <td>Preventative Care,  Chronic Disease Management...</td>\n",
       "      <td>Family Medicine</td>\n",
       "    </tr>\n",
       "    <tr>\n",
       "      <th>2</th>\n",
       "      <td>Wala  Abusalah, MD</td>\n",
       "      <td>Transplant Nephrologist</td>\n",
       "      <td>UTMC</td>\n",
       "      <td>https://www.utmedicalcenter.org/find-a-doctor/...</td>\n",
       "      <td></td>\n",
       "      <td>37920</td>\n",
       "      <td>Female</td>\n",
       "      <td>Arabic, English</td>\n",
       "      <td>Family, travelling and self development!</td>\n",
       "      <td>A great source of happiness is seeing dialysis...</td>\n",
       "      <td>Transplant medicine,  immunosuppression, chron...</td>\n",
       "      <td>Transplant Surgery, Nephrology</td>\n",
       "    </tr>\n",
       "    <tr>\n",
       "      <th>3</th>\n",
       "      <td>John H. Acker, MD</td>\n",
       "      <td>Cardiologist, Clinical Assistant Professor,  D...</td>\n",
       "      <td>UTMC</td>\n",
       "      <td>https://www.utmedicalcenter.org/find-a-doctor/...</td>\n",
       "      <td></td>\n",
       "      <td>37920</td>\n",
       "      <td>Male</td>\n",
       "      <td>English</td>\n",
       "      <td>I enjoy spending time with my family.</td>\n",
       "      <td>Dr. Acker enjoys patient care and improving a ...</td>\n",
       "      <td>Cardiovascular Disease</td>\n",
       "      <td>Cardiology</td>\n",
       "    </tr>\n",
       "    <tr>\n",
       "      <th>4</th>\n",
       "      <td>Brittany L. Adams, FNP-C</td>\n",
       "      <td>Nurse Practitioner</td>\n",
       "      <td>UTMC</td>\n",
       "      <td>https://www.utmedicalcenter.org/find-a-doctor/...</td>\n",
       "      <td></td>\n",
       "      <td>37920</td>\n",
       "      <td>Female</td>\n",
       "      <td>English</td>\n",
       "      <td>I live for vacationing, outdoors, family time ...</td>\n",
       "      <td>I have been lucky to call East Tennessee my ho...</td>\n",
       "      <td>I see patients with blood disorders such as bl...</td>\n",
       "      <td>Hematology/Oncology, Medical Oncology</td>\n",
       "    </tr>\n",
       "    <tr>\n",
       "      <th>5</th>\n",
       "      <td>Theresa A. Adams, NP</td>\n",
       "      <td>Nurse Practitioner</td>\n",
       "      <td>UTMC</td>\n",
       "      <td>https://www.utmedicalcenter.org/find-a-doctor/...</td>\n",
       "      <td>(865) 305-9749</td>\n",
       "      <td>37920</td>\n",
       "      <td>Female</td>\n",
       "      <td>English</td>\n",
       "      <td></td>\n",
       "      <td></td>\n",
       "      <td></td>\n",
       "      <td>Neonatology</td>\n",
       "    </tr>\n",
       "    <tr>\n",
       "      <th>6</th>\n",
       "      <td>Lauren C. Ade, APRN</td>\n",
       "      <td>Advance Practice Registered Nurse</td>\n",
       "      <td>UTMC</td>\n",
       "      <td>https://www.utmedicalcenter.org/find-a-doctor/...</td>\n",
       "      <td></td>\n",
       "      <td>37920</td>\n",
       "      <td>Female</td>\n",
       "      <td>English</td>\n",
       "      <td>Enthusiastic lover of all things outdoors.</td>\n",
       "      <td>Lauren has been with UTMC since 2012. She foun...</td>\n",
       "      <td>General cardiology\\nCardiovascular risk assess...</td>\n",
       "      <td>Cardiology</td>\n",
       "    </tr>\n",
       "    <tr>\n",
       "      <th>7</th>\n",
       "      <td>Michial A. Adkins, CRNA</td>\n",
       "      <td>Certified Registered Nurse Anesthetist</td>\n",
       "      <td>UTMC</td>\n",
       "      <td>https://www.utmedicalcenter.org/find-a-doctor/...</td>\n",
       "      <td>(865) 305-9220</td>\n",
       "      <td>37920</td>\n",
       "      <td>Male</td>\n",
       "      <td>English</td>\n",
       "      <td></td>\n",
       "      <td></td>\n",
       "      <td></td>\n",
       "      <td>Anesthesia</td>\n",
       "    </tr>\n",
       "    <tr>\n",
       "      <th>8</th>\n",
       "      <td>Fatima Ahmed, DO</td>\n",
       "      <td>Family Medicine Physician</td>\n",
       "      <td>UTMC</td>\n",
       "      <td>https://www.utmedicalcenter.org/find-a-doctor/...</td>\n",
       "      <td>(865) 305-9350</td>\n",
       "      <td>37920</td>\n",
       "      <td>Female</td>\n",
       "      <td>English, Urdu</td>\n",
       "      <td></td>\n",
       "      <td></td>\n",
       "      <td>Family Medicine</td>\n",
       "      <td>Family Medicine</td>\n",
       "    </tr>\n",
       "    <tr>\n",
       "      <th>9</th>\n",
       "      <td>Shaun B. Ajinkya, MD</td>\n",
       "      <td>Neurologist</td>\n",
       "      <td>UTMC</td>\n",
       "      <td>https://www.utmedicalcenter.org/find-a-doctor/...</td>\n",
       "      <td>865-521-6174</td>\n",
       "      <td>37919</td>\n",
       "      <td>Male</td>\n",
       "      <td>English</td>\n",
       "      <td></td>\n",
       "      <td></td>\n",
       "      <td>General Neurology, Neurology</td>\n",
       "      <td>Neurology</td>\n",
       "    </tr>\n",
       "    <tr>\n",
       "      <th>10</th>\n",
       "      <td>Syed M. Akhter, MD</td>\n",
       "      <td>Pediatrician</td>\n",
       "      <td>UTMC</td>\n",
       "      <td>https://www.utmedicalcenter.org/find-a-doctor/...</td>\n",
       "      <td></td>\n",
       "      <td></td>\n",
       "      <td>Male</td>\n",
       "      <td>Urdu, English</td>\n",
       "      <td></td>\n",
       "      <td></td>\n",
       "      <td>Pediatrics</td>\n",
       "      <td>Pediatrics</td>\n",
       "    </tr>\n",
       "    <tr>\n",
       "      <th>11</th>\n",
       "      <td>Toksy T. Akinleye, NP-C</td>\n",
       "      <td>Hospitalist</td>\n",
       "      <td>UTMC</td>\n",
       "      <td>https://www.utmedicalcenter.org/find-a-doctor/...</td>\n",
       "      <td></td>\n",
       "      <td></td>\n",
       "      <td>Female</td>\n",
       "      <td>English</td>\n",
       "      <td>Faith and family, wife, mother to 6 beautiful ...</td>\n",
       "      <td>I was born in Denver, CO, raised in Knoxville,...</td>\n",
       "      <td>Hospital Medicine</td>\n",
       "      <td>Family Medicine, Hospitalist</td>\n",
       "    </tr>\n",
       "    <tr>\n",
       "      <th>12</th>\n",
       "      <td>Donna K. Akins, PA-C</td>\n",
       "      <td>Physician Assistant</td>\n",
       "      <td>UTMC</td>\n",
       "      <td>https://www.utmedicalcenter.org/find-a-doctor/...</td>\n",
       "      <td>(865) 546-2663</td>\n",
       "      <td>37920</td>\n",
       "      <td>Female</td>\n",
       "      <td>English</td>\n",
       "      <td>Lake lover, dog adorer, and a hopeless romanti...</td>\n",
       "      <td>Born and raised in Loudon, TN, and recently lo...</td>\n",
       "      <td>Trauma orthopedics</td>\n",
       "      <td>Orthopaedic Surgery</td>\n",
       "    </tr>\n",
       "    <tr>\n",
       "      <th>13</th>\n",
       "      <td>Youhanna S. Al-Tawil, MD</td>\n",
       "      <td></td>\n",
       "      <td>UTMC</td>\n",
       "      <td>https://www.utmedicalcenter.org/find-a-doctor/...</td>\n",
       "      <td></td>\n",
       "      <td></td>\n",
       "      <td>Male</td>\n",
       "      <td>English</td>\n",
       "      <td>East Tennessee is an amazing resource for our ...</td>\n",
       "      <td>As the Medical Director of GI for Kids, PLLC, ...</td>\n",
       "      <td>Treating children with gastroenterology diseas...</td>\n",
       "      <td>Pediatric Gastroenterology</td>\n",
       "    </tr>\n",
       "    <tr>\n",
       "      <th>14</th>\n",
       "      <td>James W. Alberding, CRNA</td>\n",
       "      <td>Certified Registered Nurse Anesthetist</td>\n",
       "      <td>UTMC</td>\n",
       "      <td>https://www.utmedicalcenter.org/find-a-doctor/...</td>\n",
       "      <td>(865) 305-9220</td>\n",
       "      <td>37920</td>\n",
       "      <td>Male</td>\n",
       "      <td>English</td>\n",
       "      <td></td>\n",
       "      <td></td>\n",
       "      <td></td>\n",
       "      <td></td>\n",
       "    </tr>\n",
       "    <tr>\n",
       "      <th>15</th>\n",
       "      <td>Christopher D. Alexander , PA</td>\n",
       "      <td>Palliative Care, Physician Assistant</td>\n",
       "      <td>UTMC</td>\n",
       "      <td>https://www.utmedicalcenter.org/find-a-doctor/...</td>\n",
       "      <td></td>\n",
       "      <td>37920</td>\n",
       "      <td>Male</td>\n",
       "      <td>English</td>\n",
       "      <td>Christian, husband, father, and friend</td>\n",
       "      <td>I am a native of Maryville, TN, and met my wif...</td>\n",
       "      <td>Symptom Management, Care Planning</td>\n",
       "      <td>Hospice and Palliative Medicine, Palliative Me...</td>\n",
       "    </tr>\n",
       "    <tr>\n",
       "      <th>16</th>\n",
       "      <td>Ryan S. Alexander, DO, MPH</td>\n",
       "      <td></td>\n",
       "      <td>UTMC</td>\n",
       "      <td>https://www.utmedicalcenter.org/find-a-doctor/...</td>\n",
       "      <td></td>\n",
       "      <td></td>\n",
       "      <td>Male</td>\n",
       "      <td>English</td>\n",
       "      <td>I enjoy spending time with my wife and two son...</td>\n",
       "      <td></td>\n",
       "      <td></td>\n",
       "      <td>Preventive Medicine</td>\n",
       "    </tr>\n",
       "    <tr>\n",
       "      <th>17</th>\n",
       "      <td>Yaqub  Ali, MD</td>\n",
       "      <td>Nephrologist</td>\n",
       "      <td>UTMC</td>\n",
       "      <td>https://www.utmedicalcenter.org/find-a-doctor/...</td>\n",
       "      <td></td>\n",
       "      <td></td>\n",
       "      <td>Male</td>\n",
       "      <td>English</td>\n",
       "      <td></td>\n",
       "      <td></td>\n",
       "      <td>kidney,  cystic or functional kidney disorders</td>\n",
       "      <td>Nephrology</td>\n",
       "    </tr>\n",
       "    <tr>\n",
       "      <th>18</th>\n",
       "      <td>David N. Aljadir, MD</td>\n",
       "      <td>Hematologist/Oncologist</td>\n",
       "      <td>UTMC</td>\n",
       "      <td>https://www.utmedicalcenter.org/find-a-doctor/...</td>\n",
       "      <td></td>\n",
       "      <td>37920</td>\n",
       "      <td>Male</td>\n",
       "      <td>English</td>\n",
       "      <td>Love spending time with family and friends, oc...</td>\n",
       "      <td>Not a native Tennessean, but enjoy the four se...</td>\n",
       "      <td>Leukemia,  lymphoma,  multiple myeloma,  lung ...</td>\n",
       "      <td>Hematology/Oncology, Medical Oncology</td>\n",
       "    </tr>\n",
       "    <tr>\n",
       "      <th>19</th>\n",
       "      <td>Anton M. Allen, Jr. , MD</td>\n",
       "      <td>Radiologist, Associate Professor,  Residency P...</td>\n",
       "      <td>UTMC</td>\n",
       "      <td>https://www.utmedicalcenter.org/find-a-doctor/...</td>\n",
       "      <td>(865) 584-7376</td>\n",
       "      <td>37920</td>\n",
       "      <td>Male</td>\n",
       "      <td>English</td>\n",
       "      <td></td>\n",
       "      <td></td>\n",
       "      <td>Radiology</td>\n",
       "      <td>Diagnostic Radiology</td>\n",
       "    </tr>\n",
       "  </tbody>\n",
       "</table>\n",
       "</div>"
      ],
      "text/plain": [
       "                             Name  \\\n",
       "0                Todd B. Abel, MD   \n",
       "1            Julia A. Abraham, MD   \n",
       "2              Wala  Abusalah, MD   \n",
       "3               John H. Acker, MD   \n",
       "4        Brittany L. Adams, FNP-C   \n",
       "5            Theresa A. Adams, NP   \n",
       "6             Lauren C. Ade, APRN   \n",
       "7         Michial A. Adkins, CRNA   \n",
       "8                Fatima Ahmed, DO   \n",
       "9            Shaun B. Ajinkya, MD   \n",
       "10             Syed M. Akhter, MD   \n",
       "11        Toksy T. Akinleye, NP-C   \n",
       "12           Donna K. Akins, PA-C   \n",
       "13       Youhanna S. Al-Tawil, MD   \n",
       "14       James W. Alberding, CRNA   \n",
       "15  Christopher D. Alexander , PA   \n",
       "16     Ryan S. Alexander, DO, MPH   \n",
       "17                 Yaqub  Ali, MD   \n",
       "18           David N. Aljadir, MD   \n",
       "19       Anton M. Allen, Jr. , MD   \n",
       "\n",
       "                                           Profession Provider  \\\n",
       "0                                Neurological Surgery     UTMC   \n",
       "1                           Family medicine physician     UTMC   \n",
       "2                             Transplant Nephrologist     UTMC   \n",
       "3   Cardiologist, Clinical Assistant Professor,  D...     UTMC   \n",
       "4                                  Nurse Practitioner     UTMC   \n",
       "5                                  Nurse Practitioner     UTMC   \n",
       "6                   Advance Practice Registered Nurse     UTMC   \n",
       "7              Certified Registered Nurse Anesthetist     UTMC   \n",
       "8                           Family Medicine Physician     UTMC   \n",
       "9                                         Neurologist     UTMC   \n",
       "10                                       Pediatrician     UTMC   \n",
       "11                                        Hospitalist     UTMC   \n",
       "12                                Physician Assistant     UTMC   \n",
       "13                                                        UTMC   \n",
       "14             Certified Registered Nurse Anesthetist     UTMC   \n",
       "15               Palliative Care, Physician Assistant     UTMC   \n",
       "16                                                        UTMC   \n",
       "17                                       Nephrologist     UTMC   \n",
       "18                            Hematologist/Oncologist     UTMC   \n",
       "19  Radiologist, Associate Professor,  Residency P...     UTMC   \n",
       "\n",
       "                                              Website           Phone    Zip  \\\n",
       "0   https://www.utmedicalcenter.org/find-a-doctor/...    865-524-1869  37920   \n",
       "1   https://www.utmedicalcenter.org/find-a-doctor/...    865-531-1300  37919   \n",
       "2   https://www.utmedicalcenter.org/find-a-doctor/...                  37920   \n",
       "3   https://www.utmedicalcenter.org/find-a-doctor/...                  37920   \n",
       "4   https://www.utmedicalcenter.org/find-a-doctor/...                  37920   \n",
       "5   https://www.utmedicalcenter.org/find-a-doctor/...  (865) 305-9749  37920   \n",
       "6   https://www.utmedicalcenter.org/find-a-doctor/...                  37920   \n",
       "7   https://www.utmedicalcenter.org/find-a-doctor/...  (865) 305-9220  37920   \n",
       "8   https://www.utmedicalcenter.org/find-a-doctor/...  (865) 305-9350  37920   \n",
       "9   https://www.utmedicalcenter.org/find-a-doctor/...    865-521-6174  37919   \n",
       "10  https://www.utmedicalcenter.org/find-a-doctor/...                          \n",
       "11  https://www.utmedicalcenter.org/find-a-doctor/...                          \n",
       "12  https://www.utmedicalcenter.org/find-a-doctor/...  (865) 546-2663  37920   \n",
       "13  https://www.utmedicalcenter.org/find-a-doctor/...                          \n",
       "14  https://www.utmedicalcenter.org/find-a-doctor/...  (865) 305-9220  37920   \n",
       "15  https://www.utmedicalcenter.org/find-a-doctor/...                  37920   \n",
       "16  https://www.utmedicalcenter.org/find-a-doctor/...                          \n",
       "17  https://www.utmedicalcenter.org/find-a-doctor/...                          \n",
       "18  https://www.utmedicalcenter.org/find-a-doctor/...                  37920   \n",
       "19  https://www.utmedicalcenter.org/find-a-doctor/...  (865) 584-7376  37920   \n",
       "\n",
       "    Gender        Languages  \\\n",
       "0     Male          English   \n",
       "1   Female          English   \n",
       "2   Female  Arabic, English   \n",
       "3     Male          English   \n",
       "4   Female          English   \n",
       "5   Female          English   \n",
       "6   Female          English   \n",
       "7     Male          English   \n",
       "8   Female    English, Urdu   \n",
       "9     Male          English   \n",
       "10    Male    Urdu, English   \n",
       "11  Female          English   \n",
       "12  Female          English   \n",
       "13    Male          English   \n",
       "14    Male          English   \n",
       "15    Male          English   \n",
       "16    Male          English   \n",
       "17    Male          English   \n",
       "18    Male          English   \n",
       "19    Male          English   \n",
       "\n",
       "                                                  Bio  \\\n",
       "0   Dr. Abel has special interests in spine surger...   \n",
       "1   Primary care physician at Rocky Hill Family Ph...   \n",
       "2            Family, travelling and self development!   \n",
       "3               I enjoy spending time with my family.   \n",
       "4   I live for vacationing, outdoors, family time ...   \n",
       "5                                                       \n",
       "6          Enthusiastic lover of all things outdoors.   \n",
       "7                                                       \n",
       "8                                                       \n",
       "9                                                       \n",
       "10                                                      \n",
       "11  Faith and family, wife, mother to 6 beautiful ...   \n",
       "12  Lake lover, dog adorer, and a hopeless romanti...   \n",
       "13  East Tennessee is an amazing resource for our ...   \n",
       "14                                                      \n",
       "15             Christian, husband, father, and friend   \n",
       "16  I enjoy spending time with my wife and two son...   \n",
       "17                                                      \n",
       "18  Love spending time with family and friends, oc...   \n",
       "19                                                      \n",
       "\n",
       "                                                About  \\\n",
       "0   Dr. Todd B. Abel is a board certified neurosur...   \n",
       "1   Dr. Abraham is a Wisconsin native but grew up ...   \n",
       "2   A great source of happiness is seeing dialysis...   \n",
       "3   Dr. Acker enjoys patient care and improving a ...   \n",
       "4   I have been lucky to call East Tennessee my ho...   \n",
       "5                                                       \n",
       "6   Lauren has been with UTMC since 2012. She foun...   \n",
       "7                                                       \n",
       "8                                                       \n",
       "9                                                       \n",
       "10                                                      \n",
       "11  I was born in Denver, CO, raised in Knoxville,...   \n",
       "12  Born and raised in Loudon, TN, and recently lo...   \n",
       "13  As the Medical Director of GI for Kids, PLLC, ...   \n",
       "14                                                      \n",
       "15  I am a native of Maryville, TN, and met my wif...   \n",
       "16                                                      \n",
       "17                                                      \n",
       "18  Not a native Tennessean, but enjoy the four se...   \n",
       "19                                                      \n",
       "\n",
       "                                    Clinical_Interest  \\\n",
       "0                                        spine trauma   \n",
       "1   Preventative Care,  Chronic Disease Management...   \n",
       "2   Transplant medicine,  immunosuppression, chron...   \n",
       "3                              Cardiovascular Disease   \n",
       "4   I see patients with blood disorders such as bl...   \n",
       "5                                                       \n",
       "6   General cardiology\\nCardiovascular risk assess...   \n",
       "7                                                       \n",
       "8                                     Family Medicine   \n",
       "9                        General Neurology, Neurology   \n",
       "10                                         Pediatrics   \n",
       "11                                  Hospital Medicine   \n",
       "12                                 Trauma orthopedics   \n",
       "13  Treating children with gastroenterology diseas...   \n",
       "14                                                      \n",
       "15                  Symptom Management, Care Planning   \n",
       "16                                                      \n",
       "17     kidney,  cystic or functional kidney disorders   \n",
       "18  Leukemia,  lymphoma,  multiple myeloma,  lung ...   \n",
       "19                                          Radiology   \n",
       "\n",
       "                                          Specialties  \n",
       "0   Brain and Spinal Cord Injury, Neurological Sur...  \n",
       "1                                     Family Medicine  \n",
       "2                      Transplant Surgery, Nephrology  \n",
       "3                                          Cardiology  \n",
       "4               Hematology/Oncology, Medical Oncology  \n",
       "5                                         Neonatology  \n",
       "6                                          Cardiology  \n",
       "7                                          Anesthesia  \n",
       "8                                     Family Medicine  \n",
       "9                                           Neurology  \n",
       "10                                         Pediatrics  \n",
       "11                       Family Medicine, Hospitalist  \n",
       "12                                Orthopaedic Surgery  \n",
       "13                         Pediatric Gastroenterology  \n",
       "14                                                     \n",
       "15  Hospice and Palliative Medicine, Palliative Me...  \n",
       "16                                Preventive Medicine  \n",
       "17                                         Nephrology  \n",
       "18              Hematology/Oncology, Medical Oncology  \n",
       "19                               Diagnostic Radiology  "
      ]
     },
     "execution_count": 8,
     "metadata": {},
     "output_type": "execute_result"
    }
   ],
   "source": [
    "# pulled on 1/7/2023\n",
    "fullDoctorDF = pd.read_json(output_file_path+'Data/UTMC_doctor_profiles.json', dtype={'Zip': str})\n",
    "print(fullDoctorDF.shape)\n",
    "fullDoctorDF.head(20)"
   ]
  },
  {
   "cell_type": "code",
   "execution_count": 9,
   "metadata": {},
   "outputs": [
    {
     "data": {
      "text/plain": [
       "count     1178\n",
       "unique     380\n",
       "top           \n",
       "freq       202\n",
       "Name: Profession, dtype: object"
      ]
     },
     "execution_count": 9,
     "metadata": {},
     "output_type": "execute_result"
    }
   ],
   "source": [
    "fullDoctorDF[\"Profession\"].describe()"
   ]
  },
  {
   "cell_type": "code",
   "execution_count": 10,
   "metadata": {},
   "outputs": [],
   "source": [
    "miniDoctorDF = fullDoctorDF.head(10)"
   ]
  },
  {
   "cell_type": "code",
   "execution_count": null,
   "metadata": {},
   "outputs": [],
   "source": []
  },
  {
   "cell_type": "markdown",
   "metadata": {},
   "source": [
    "### Key Processing Functions    "
   ]
  },
  {
   "cell_type": "code",
   "execution_count": 11,
   "metadata": {},
   "outputs": [
    {
     "data": {
      "text/plain": [
       "Index(['Name', 'Profession', 'Provider', 'Website', 'Phone', 'Zip', 'Gender',\n",
       "       'Languages', 'Bio', 'About', 'Clinical_Interest', 'Specialties'],\n",
       "      dtype='object')"
      ]
     },
     "execution_count": 11,
     "metadata": {},
     "output_type": "execute_result"
    }
   ],
   "source": [
    "fullDoctorDF.columns"
   ]
  },
  {
   "cell_type": "code",
   "execution_count": 12,
   "metadata": {},
   "outputs": [],
   "source": [
    "textColumns = [\"Provider\",\"Profession\",\"Gender\",\"Languages\",\"Bio\",\"About\",\"Clinical_Interest\",\"Specialties\",\"Zip\"]"
   ]
  },
  {
   "cell_type": "code",
   "execution_count": 13,
   "metadata": {},
   "outputs": [],
   "source": [
    "def concatenate(columns):\n",
    "    \"\"\"Concatenate the relevant text features for a given doctor\n",
    "    columns: row of relevant text columns\n",
    "    y: concatenated string\n",
    "    \"\"\"\n",
    "\n",
    "    y = str()\n",
    "    \n",
    "    for field in columns:\n",
    "        # if field is not empty, append to y\n",
    "        y = ' '.join([y,str(field).strip()])\n",
    "\n",
    "    return y"
   ]
  },
  {
   "cell_type": "code",
   "execution_count": 14,
   "metadata": {},
   "outputs": [],
   "source": [
    "def remove_name(columns):\n",
    "    \"\"\"Remove the doctor's name from concatenated text field\n",
    "    columns: row including [name, text] columns\n",
    "    \"\"\"\n",
    "    \n",
    "    # remove credentials, then split full name into a list\n",
    "    name_list = columns[0].split(\",\")[0].split()\n",
    "    # print(name_list)\n",
    "    \n",
    "    text = columns[1]\n",
    "    \n",
    "    for name in name_list:\n",
    "        text = text.replace(name, \" \")\n",
    "    \n",
    "    # drop 'Dr.'\n",
    "    text = text.replace(\"Dr.\", \" \")\n",
    "    \n",
    "    text = text.strip()\n",
    "    \n",
    "    return text"
   ]
  },
  {
   "cell_type": "code",
   "execution_count": 15,
   "metadata": {},
   "outputs": [],
   "source": [
    "def lemmatize(text, lemmatizer):\n",
    "    \"\"\"Take a string of words, remove punctuation and apply NLTK lematizer.\n",
    "        This function can apply to doctor bios as well as user request\n",
    "        \n",
    "        text (str): String of preprocessed tokens\n",
    "        lemmatizer: NLTK WordNetLemmatizer() object\n",
    "        \n",
    "        Returns: processed string\n",
    "    \"\"\"\n",
    "    # remove punctuation, extra spaces, tokens to lowercase, split into a list for lemmatizer\n",
    "    text_list = re.sub(r'[^\\w\\s]', '', text).strip().lower().split()\n",
    "    \n",
    "    # lemmatize text, return to string\n",
    "    lemmatized_list = [lemmatizer.lemmatize(word) for word in text_list]\n",
    "    lemmatized_text = \" \".join(lemmatized_list)\n",
    "    \n",
    "    return lemmatized_text"
   ]
  },
  {
   "cell_type": "code",
   "execution_count": 16,
   "metadata": {},
   "outputs": [
    {
     "data": {
      "text/plain": [
       "'this is my text with a comma and with an exclamation'"
      ]
     },
     "execution_count": 16,
     "metadata": {},
     "output_type": "execute_result"
    }
   ],
   "source": [
    "lemmatizer = WordNetLemmatizer()\n",
    "\n",
    "lem_test = lemmatize(\"This is my text, with a comma, and with an exclamation!\", lemmatizer)\n",
    "lem_test"
   ]
  },
  {
   "cell_type": "code",
   "execution_count": 17,
   "metadata": {},
   "outputs": [],
   "source": [
    "def remove_duplicates(text):\n",
    "    deduped = ' '.join(dict.fromkeys(text.split()))\n",
    "    return deduped"
   ]
  },
  {
   "cell_type": "code",
   "execution_count": 18,
   "metadata": {},
   "outputs": [
    {
     "data": {
      "text/plain": [
       "'this is my text with a comma and an exclamation'"
      ]
     },
     "execution_count": 18,
     "metadata": {},
     "output_type": "execute_result"
    }
   ],
   "source": [
    "remove_duplicates(lem_test)"
   ]
  },
  {
   "cell_type": "code",
   "execution_count": 19,
   "metadata": {},
   "outputs": [
    {
     "data": {
      "text/html": [
       "<div>\n",
       "<style scoped>\n",
       "    .dataframe tbody tr th:only-of-type {\n",
       "        vertical-align: middle;\n",
       "    }\n",
       "\n",
       "    .dataframe tbody tr th {\n",
       "        vertical-align: top;\n",
       "    }\n",
       "\n",
       "    .dataframe thead th {\n",
       "        text-align: right;\n",
       "    }\n",
       "</style>\n",
       "<table border=\"1\" class=\"dataframe\">\n",
       "  <thead>\n",
       "    <tr style=\"text-align: right;\">\n",
       "      <th></th>\n",
       "      <th>Name</th>\n",
       "      <th>Raw_Text</th>\n",
       "      <th>Text</th>\n",
       "    </tr>\n",
       "  </thead>\n",
       "  <tbody>\n",
       "    <tr>\n",
       "      <th>0</th>\n",
       "      <td>Todd B. Abel, MD</td>\n",
       "      <td>UTMC Neurological Surgery Male English Dr. Ab...</td>\n",
       "      <td>utmc neurological surgery male english ha spec...</td>\n",
       "    </tr>\n",
       "    <tr>\n",
       "      <th>1</th>\n",
       "      <td>Julia A. Abraham, MD</td>\n",
       "      <td>UTMC Family medicine physician Female English...</td>\n",
       "      <td>utmc family medicine physician female english ...</td>\n",
       "    </tr>\n",
       "    <tr>\n",
       "      <th>2</th>\n",
       "      <td>Wala  Abusalah, MD</td>\n",
       "      <td>UTMC Transplant Nephrologist Female Arabic, E...</td>\n",
       "      <td>utmc transplant nephrologist female arabic eng...</td>\n",
       "    </tr>\n",
       "    <tr>\n",
       "      <th>3</th>\n",
       "      <td>John H. Acker, MD</td>\n",
       "      <td>UTMC Cardiologist, Clinical Assistant Profess...</td>\n",
       "      <td>utmc cardiologist clinical assistant professor...</td>\n",
       "    </tr>\n",
       "    <tr>\n",
       "      <th>4</th>\n",
       "      <td>Brittany L. Adams, FNP-C</td>\n",
       "      <td>UTMC Nurse Practitioner Female English I live...</td>\n",
       "      <td>utmc nurse practitioner female english i live ...</td>\n",
       "    </tr>\n",
       "  </tbody>\n",
       "</table>\n",
       "</div>"
      ],
      "text/plain": [
       "                       Name  \\\n",
       "0          Todd B. Abel, MD   \n",
       "1      Julia A. Abraham, MD   \n",
       "2        Wala  Abusalah, MD   \n",
       "3         John H. Acker, MD   \n",
       "4  Brittany L. Adams, FNP-C   \n",
       "\n",
       "                                            Raw_Text  \\\n",
       "0   UTMC Neurological Surgery Male English Dr. Ab...   \n",
       "1   UTMC Family medicine physician Female English...   \n",
       "2   UTMC Transplant Nephrologist Female Arabic, E...   \n",
       "3   UTMC Cardiologist, Clinical Assistant Profess...   \n",
       "4   UTMC Nurse Practitioner Female English I live...   \n",
       "\n",
       "                                                Text  \n",
       "0  utmc neurological surgery male english ha spec...  \n",
       "1  utmc family medicine physician female english ...  \n",
       "2  utmc transplant nephrologist female arabic eng...  \n",
       "3  utmc cardiologist clinical assistant professor...  \n",
       "4  utmc nurse practitioner female english i live ...  "
      ]
     },
     "execution_count": 19,
     "metadata": {},
     "output_type": "execute_result"
    }
   ],
   "source": [
    "miniDoctorProcDF = miniDoctorDF.copy()\n",
    "\n",
    "# concatenate key text fields\n",
    "miniDoctorProcDF[\"Raw_Text\"] = miniDoctorProcDF[textColumns].apply(concatenate, axis=1)\n",
    "\n",
    "# remove doctor's name from Text field\n",
    "miniDoctorProcDF[\"Text\"] = miniDoctorProcDF[[\"Name\", \"Raw_Text\"]].apply(remove_name, axis=1)\n",
    "\n",
    "# drop punctuation and lemmatize\n",
    "lemmatizer = WordNetLemmatizer()\n",
    "miniDoctorProcDF[\"Text\"] = miniDoctorProcDF[\"Text\"].apply(lemmatize, args=(lemmatizer,))\n",
    "\n",
    "# remove dups\n",
    "miniDoctorProcDF[\"Text\"] = miniDoctorProcDF[\"Text\"].apply(remove_duplicates)\n",
    "\n",
    "miniDoctorProcDF[[\"Name\",\"Raw_Text\",\"Text\"]].head(5)"
   ]
  },
  {
   "cell_type": "code",
   "execution_count": 20,
   "metadata": {},
   "outputs": [
    {
     "name": "stdout",
     "output_type": "stream",
     "text": [
      "(1178, 14)\n"
     ]
    }
   ],
   "source": [
    "# preprocess full dataset\n",
    "fullDoctorProcDF = fullDoctorDF.copy()\n",
    "\n",
    "# on full doctor dataframe\n",
    "fullDoctorProcDF[\"Raw_Text\"] = fullDoctorProcDF[textColumns].apply(concatenate, axis=1)\n",
    "\n",
    "fullDoctorProcDF[\"Text\"] = fullDoctorProcDF[[\"Name\", \"Raw_Text\"]].apply(remove_name, axis=1)  # remove name from Text\n",
    "\n",
    "# lemmatize\n",
    "lemmatizer = WordNetLemmatizer()\n",
    "fullDoctorProcDF[\"Text\"] = fullDoctorProcDF[\"Text\"].apply(lemmatize, args=(lemmatizer,))\n",
    "\n",
    "# remove dups\n",
    "fullDoctorProcDF[\"Text\"] = fullDoctorProcDF[\"Text\"].apply(remove_duplicates)\n",
    "\n",
    "print(fullDoctorProcDF.shape)"
   ]
  },
  {
   "cell_type": "code",
   "execution_count": 21,
   "metadata": {},
   "outputs": [
    {
     "data": {
      "text/html": [
       "<div>\n",
       "<style scoped>\n",
       "    .dataframe tbody tr th:only-of-type {\n",
       "        vertical-align: middle;\n",
       "    }\n",
       "\n",
       "    .dataframe tbody tr th {\n",
       "        vertical-align: top;\n",
       "    }\n",
       "\n",
       "    .dataframe thead th {\n",
       "        text-align: right;\n",
       "    }\n",
       "</style>\n",
       "<table border=\"1\" class=\"dataframe\">\n",
       "  <thead>\n",
       "    <tr style=\"text-align: right;\">\n",
       "      <th></th>\n",
       "      <th>Name</th>\n",
       "      <th>Raw_Text</th>\n",
       "      <th>Text</th>\n",
       "    </tr>\n",
       "  </thead>\n",
       "  <tbody>\n",
       "    <tr>\n",
       "      <th>0</th>\n",
       "      <td>Todd B. Abel, MD</td>\n",
       "      <td>UTMC Neurological Surgery Male English Dr. Ab...</td>\n",
       "      <td>utmc neurological surgery male english ha spec...</td>\n",
       "    </tr>\n",
       "    <tr>\n",
       "      <th>1</th>\n",
       "      <td>Julia A. Abraham, MD</td>\n",
       "      <td>UTMC Family medicine physician Female English...</td>\n",
       "      <td>utmc family medicine physician female english ...</td>\n",
       "    </tr>\n",
       "    <tr>\n",
       "      <th>2</th>\n",
       "      <td>Wala  Abusalah, MD</td>\n",
       "      <td>UTMC Transplant Nephrologist Female Arabic, E...</td>\n",
       "      <td>utmc transplant nephrologist female arabic eng...</td>\n",
       "    </tr>\n",
       "    <tr>\n",
       "      <th>3</th>\n",
       "      <td>John H. Acker, MD</td>\n",
       "      <td>UTMC Cardiologist, Clinical Assistant Profess...</td>\n",
       "      <td>utmc cardiologist clinical assistant professor...</td>\n",
       "    </tr>\n",
       "    <tr>\n",
       "      <th>4</th>\n",
       "      <td>Brittany L. Adams, FNP-C</td>\n",
       "      <td>UTMC Nurse Practitioner Female English I live...</td>\n",
       "      <td>utmc nurse practitioner female english i live ...</td>\n",
       "    </tr>\n",
       "  </tbody>\n",
       "</table>\n",
       "</div>"
      ],
      "text/plain": [
       "                       Name  \\\n",
       "0          Todd B. Abel, MD   \n",
       "1      Julia A. Abraham, MD   \n",
       "2        Wala  Abusalah, MD   \n",
       "3         John H. Acker, MD   \n",
       "4  Brittany L. Adams, FNP-C   \n",
       "\n",
       "                                            Raw_Text  \\\n",
       "0   UTMC Neurological Surgery Male English Dr. Ab...   \n",
       "1   UTMC Family medicine physician Female English...   \n",
       "2   UTMC Transplant Nephrologist Female Arabic, E...   \n",
       "3   UTMC Cardiologist, Clinical Assistant Profess...   \n",
       "4   UTMC Nurse Practitioner Female English I live...   \n",
       "\n",
       "                                                Text  \n",
       "0  utmc neurological surgery male english ha spec...  \n",
       "1  utmc family medicine physician female english ...  \n",
       "2  utmc transplant nephrologist female arabic eng...  \n",
       "3  utmc cardiologist clinical assistant professor...  \n",
       "4  utmc nurse practitioner female english i live ...  "
      ]
     },
     "execution_count": 21,
     "metadata": {},
     "output_type": "execute_result"
    }
   ],
   "source": [
    "fullDoctorProcDF[[\"Name\",\"Raw_Text\",\"Text\"]].head(5)"
   ]
  },
  {
   "cell_type": "code",
   "execution_count": 58,
   "metadata": {},
   "outputs": [],
   "source": [
    "fullDoctorProcDF.to_csv(output_file_path+'Data/UTMC_doctor_profiles_processed.csv', index=False)"
   ]
  },
  {
   "cell_type": "code",
   "execution_count": null,
   "metadata": {},
   "outputs": [],
   "source": []
  },
  {
   "cell_type": "markdown",
   "metadata": {},
   "source": [
    "### Fit TfidfVectorizer with Concatenated Text Field    \n",
    "https://scikit-learn.org/stable/modules/generated/sklearn.feature_extraction.text.TfidfVectorizer.html"
   ]
  },
  {
   "cell_type": "markdown",
   "metadata": {},
   "source": [
    "#### Remove Stop Words"
   ]
  },
  {
   "cell_type": "code",
   "execution_count": 22,
   "metadata": {},
   "outputs": [
    {
     "name": "stdout",
     "output_type": "stream",
     "text": [
      "NLTK 'english' stopwords: 153\n",
      "['i', 'me', 'my', 'myself', 'we', 'our', 'ours', 'ourselves', 'you', 'your']\n"
     ]
    }
   ],
   "source": [
    "# nltk standard english stopwords\n",
    "NLTK_stopwords = nltk.corpus.stopwords.words('english')\n",
    "print(\"NLTK 'english' stopwords:\", len(NLTK_stopwords))\n",
    "print(NLTK_stopwords[:10])"
   ]
  },
  {
   "cell_type": "code",
   "execution_count": 23,
   "metadata": {},
   "outputs": [],
   "source": [
    "# add stopwords from exploration of UTMC profile text - don't need to run\n",
    "newStopWords = ['nan','dr','university','college','medicine', 'medical','tennessee','tn','tenn','knoxville','ut','us','team','vols','football','academy',\n",
    "                'practice','practicing','hospital','professional','american','school','undergraduate','graduate','graduated','cum','laude','honors','pllc',\n",
    "                'received','serves','served','serving','brings','enjoy','enjoys','enjoying','excited','friends','son','daughter','wife','husband','grandchildren','children',\n",
    "                'work','working','worked','try','dog','following','interest','interests','joined','making','completed','movies','music','needs',\n",
    "                'numerous','passion','originally','part','playing','participated','places','problems','prior','proud','provide','provides','providing',\n",
    "                'recently','since','snow','spare','specific','spending','taking','things','throughout','going','help','helping','include','including',\n",
    "                'term','traveling','way','well','area','areas','began','important',\n",
    "                'first','second','third','one','two','three','four','five','six','many','also','new','says','time',\n",
    "                '2000','2001','2002','2003','2004','2005','2006','2007','2008','2009','2010','2011','2012','2013','2014','2015','2016',\n",
    "                'years','01','02','03','04','05','06','07','08','09','10','11','12','13','14','15','16',\n",
    "                'indiana','georgia','carolina','texas','north','south','east','west']\n",
    "\n",
    "# print(\"New words:\", len(newStopWords))\n",
    "# newStopWords.sort()\n",
    "# NLTK_stopwords.extend(newStopWords)\n",
    "# print(\"Last:\")\n",
    "# stopwords[-10:]"
   ]
  },
  {
   "cell_type": "code",
   "execution_count": null,
   "metadata": {},
   "outputs": [],
   "source": [
    "# save list of added stopwords -- ONE TIME -- UPDATE CSV GOING FORWARD\n",
    "# pd.DataFrame({\"Stop_Words\": newStopWords}).to_csv(output_file_path+\"Data/Stop_words_list.csv\", index=False)"
   ]
  },
  {
   "cell_type": "code",
   "execution_count": 24,
   "metadata": {},
   "outputs": [
    {
     "name": "stdout",
     "output_type": "stream",
     "text": [
      "(169, 1)\n"
     ]
    },
    {
     "data": {
      "text/html": [
       "<div>\n",
       "<style scoped>\n",
       "    .dataframe tbody tr th:only-of-type {\n",
       "        vertical-align: middle;\n",
       "    }\n",
       "\n",
       "    .dataframe tbody tr th {\n",
       "        vertical-align: top;\n",
       "    }\n",
       "\n",
       "    .dataframe thead th {\n",
       "        text-align: right;\n",
       "    }\n",
       "</style>\n",
       "<table border=\"1\" class=\"dataframe\">\n",
       "  <thead>\n",
       "    <tr style=\"text-align: right;\">\n",
       "      <th></th>\n",
       "      <th>Stop_Words</th>\n",
       "    </tr>\n",
       "  </thead>\n",
       "  <tbody>\n",
       "    <tr>\n",
       "      <th>0</th>\n",
       "      <td>1</td>\n",
       "    </tr>\n",
       "    <tr>\n",
       "      <th>1</th>\n",
       "      <td>2</td>\n",
       "    </tr>\n",
       "    <tr>\n",
       "      <th>2</th>\n",
       "      <td>3</td>\n",
       "    </tr>\n",
       "    <tr>\n",
       "      <th>3</th>\n",
       "      <td>4</td>\n",
       "    </tr>\n",
       "    <tr>\n",
       "      <th>4</th>\n",
       "      <td>5</td>\n",
       "    </tr>\n",
       "  </tbody>\n",
       "</table>\n",
       "</div>"
      ],
      "text/plain": [
       "  Stop_Words\n",
       "0          1\n",
       "1          2\n",
       "2          3\n",
       "3          4\n",
       "4          5"
      ]
     },
     "execution_count": 24,
     "metadata": {},
     "output_type": "execute_result"
    }
   ],
   "source": [
    "# read in CSV of UTMC-specific stopwords\n",
    "stopWordsDF = pd.read_csv(output_file_path+\"Data/Stop_words_list.csv\", sep=',', dtype={'Stop_Words': str})\n",
    "print(stopWordsDF.shape)\n",
    "stopWordsDF.head()"
   ]
  },
  {
   "cell_type": "code",
   "execution_count": 25,
   "metadata": {},
   "outputs": [
    {
     "name": "stdout",
     "output_type": "stream",
     "text": [
      "322\n"
     ]
    }
   ],
   "source": [
    "newStopWords = stopWordsDF[\"Stop_Words\"].tolist()\n",
    "stopWords = NLTK_stopwords + newStopWords\n",
    "print(len(stopWords))"
   ]
  },
  {
   "cell_type": "code",
   "execution_count": 26,
   "metadata": {},
   "outputs": [],
   "source": [
    "# initialize vectorizer\n",
    "vectorizer = TfidfVectorizer(strip_accents = 'ascii',\n",
    "                             lowercase = True,\n",
    "                             stop_words = stopWords, \n",
    "                             # ngram_range = (1,2),  # just use unigram to reduce dimensions\n",
    "                             max_df = .3,\n",
    "                             # min_df = .001,          # want rare words for matching user needs\n",
    "                             max_features = None,    # optional: top max_features ordered by term frequency\n",
    "                             norm = 'l2',            # standard\n",
    "                            )"
   ]
  },
  {
   "cell_type": "code",
   "execution_count": 27,
   "metadata": {},
   "outputs": [
    {
     "data": {
      "text/plain": [
       "(1178, 4083)"
      ]
     },
     "execution_count": 27,
     "metadata": {},
     "output_type": "execute_result"
    }
   ],
   "source": [
    "# fit and create sparse vector matrix\n",
    "tfidfDF = vectorizer.fit_transform(fullDoctorProcDF[\"Text\"])\n",
    "tfidfDF.shape"
   ]
  },
  {
   "cell_type": "code",
   "execution_count": 28,
   "metadata": {},
   "outputs": [
    {
     "name": "stdout",
     "output_type": "stream",
     "text": [
      "# stop words: 5\n"
     ]
    },
    {
     "data": {
      "text/plain": [
       "{'37920', 'english', 'female', 'male', 'utmc'}"
      ]
     },
     "execution_count": 28,
     "metadata": {},
     "output_type": "execute_result"
    }
   ],
   "source": [
    "# if max/min_df or max_features is used (FOR TESTING)\n",
    "print(\"# stop words:\", len(vectorizer.stop_words_))\n",
    "vectorizer.stop_words_"
   ]
  },
  {
   "cell_type": "code",
   "execution_count": 29,
   "metadata": {
    "scrolled": true
   },
   "outputs": [
    {
     "data": {
      "text/plain": [
       "4083"
      ]
     },
     "execution_count": 29,
     "metadata": {},
     "output_type": "execute_result"
    }
   ],
   "source": [
    "# n-gram features\n",
    "len(vectorizer.vocabulary_)"
   ]
  },
  {
   "cell_type": "code",
   "execution_count": 30,
   "metadata": {},
   "outputs": [
    {
     "data": {
      "text/plain": [
       "2493"
      ]
     },
     "execution_count": 30,
     "metadata": {},
     "output_type": "execute_result"
    }
   ],
   "source": [
    "# example\n",
    "vectorizer.vocabulary_['neurological']"
   ]
  },
  {
   "cell_type": "code",
   "execution_count": 94,
   "metadata": {},
   "outputs": [],
   "source": [
    "# save vectorizer model object\n",
    "pickle.dump(vectorizer, open(output_file_path+\"Models/UTMC_Tfidf_vectorizer_unigram.pkl\", 'wb'))"
   ]
  },
  {
   "cell_type": "code",
   "execution_count": null,
   "metadata": {},
   "outputs": [],
   "source": []
  },
  {
   "cell_type": "markdown",
   "metadata": {},
   "source": [
    "### Calculate Geographical Distance"
   ]
  },
  {
   "cell_type": "code",
   "execution_count": 31,
   "metadata": {},
   "outputs": [],
   "source": [
    "#for extensive list of zipcodes, set simple_zipcode =False\n",
    "def distance_zip(doc_zip, user_zip):\n",
    "    \"\"\"calc Euclidean distance between two zip codes\"\"\"\n",
    "#     print(doc_zip, user_zip)\n",
    "    search = SearchEngine()\n",
    "\n",
    "    # doctor DF\n",
    "    doc_zip = search.by_zipcode(doc_zip)\n",
    "    user_zip = search.by_zipcode(user_zip)\n",
    "\n",
    "    if doc_zip is not None and user_zip is not None:\n",
    "        doc_lat =doc_zip.lat\n",
    "        doc_long =doc_zip.lng\n",
    "\n",
    "        user_lat =user_zip.lat\n",
    "        user_long =user_zip.lng\n",
    "\n",
    "        return haversine((doc_lat, doc_long), (user_lat, user_long), unit=Unit.MILES)\n",
    "    else:\n",
    "        return np.nan"
   ]
  },
  {
   "cell_type": "code",
   "execution_count": 32,
   "metadata": {},
   "outputs": [
    {
     "data": {
      "text/plain": [
       "814.9786792035693"
      ]
     },
     "execution_count": 32,
     "metadata": {},
     "output_type": "execute_result"
    }
   ],
   "source": [
    "distance_zip('37920', '02215')  # Boston"
   ]
  },
  {
   "cell_type": "code",
   "execution_count": 34,
   "metadata": {},
   "outputs": [
    {
     "data": {
      "text/plain": [
       "23.74898292494684"
      ]
     },
     "execution_count": 34,
     "metadata": {},
     "output_type": "execute_result"
    }
   ],
   "source": [
    "distance_zip('37831', '37920')  # UTMC, 6.24"
   ]
  },
  {
   "cell_type": "code",
   "execution_count": 35,
   "metadata": {},
   "outputs": [
    {
     "data": {
      "text/plain": [
       "nan"
      ]
     },
     "execution_count": 35,
     "metadata": {},
     "output_type": "execute_result"
    }
   ],
   "source": [
    "distance_zip('x', '37920')"
   ]
  },
  {
   "cell_type": "code",
   "execution_count": 36,
   "metadata": {},
   "outputs": [
    {
     "data": {
      "text/plain": [
       "nan"
      ]
     },
     "execution_count": 36,
     "metadata": {},
     "output_type": "execute_result"
    }
   ],
   "source": [
    "distance_zip('39722', '37920')  # 39722 is missing..."
   ]
  },
  {
   "cell_type": "code",
   "execution_count": null,
   "metadata": {},
   "outputs": [],
   "source": []
  },
  {
   "cell_type": "markdown",
   "metadata": {},
   "source": [
    "### Cosine Similarity Function    \n",
    "Measure how similar a search is to a doctor profile    \n",
    "https://scikit-learn.org/stable/modules/generated/sklearn.metrics.pairwise.cosine_similarity.html"
   ]
  },
  {
   "cell_type": "code",
   "execution_count": 37,
   "metadata": {
    "scrolled": true
   },
   "outputs": [
    {
     "data": {
      "text/plain": [
       "TfidfVectorizer(max_df=0.3,\n",
       "                stop_words=['i', 'me', 'my', 'myself', 'we', 'our', 'ours',\n",
       "                            'ourselves', 'you', 'your', 'yours', 'yourself',\n",
       "                            'yourselves', 'he', 'him', 'his', 'himself', 'she',\n",
       "                            'her', 'hers', 'herself', 'it', 'its', 'itself',\n",
       "                            'they', 'them', 'their', 'theirs', 'themselves',\n",
       "                            'what', ...],\n",
       "                strip_accents='ascii')"
      ]
     },
     "execution_count": 37,
     "metadata": {},
     "output_type": "execute_result"
    }
   ],
   "source": [
    "# Load Model\n",
    "loaded_vectorizer = pickle.load(open(output_file_path+\"Models/UTMC_Tfidf_vectorizer_unigram.pkl\", 'rb'))\n",
    "loaded_vectorizer"
   ]
  },
  {
   "cell_type": "code",
   "execution_count": 38,
   "metadata": {},
   "outputs": [
    {
     "name": "stdout",
     "output_type": "stream",
     "text": [
      "(1178, 14)\n"
     ]
    },
    {
     "data": {
      "text/html": [
       "<div>\n",
       "<style scoped>\n",
       "    .dataframe tbody tr th:only-of-type {\n",
       "        vertical-align: middle;\n",
       "    }\n",
       "\n",
       "    .dataframe tbody tr th {\n",
       "        vertical-align: top;\n",
       "    }\n",
       "\n",
       "    .dataframe thead th {\n",
       "        text-align: right;\n",
       "    }\n",
       "</style>\n",
       "<table border=\"1\" class=\"dataframe\">\n",
       "  <thead>\n",
       "    <tr style=\"text-align: right;\">\n",
       "      <th></th>\n",
       "      <th>Name</th>\n",
       "      <th>Profession</th>\n",
       "      <th>Provider</th>\n",
       "      <th>Website</th>\n",
       "      <th>Phone</th>\n",
       "      <th>Zip</th>\n",
       "      <th>Gender</th>\n",
       "      <th>Languages</th>\n",
       "      <th>Bio</th>\n",
       "      <th>About</th>\n",
       "      <th>Clinical_Interest</th>\n",
       "      <th>Specialties</th>\n",
       "      <th>Raw_Text</th>\n",
       "      <th>Text</th>\n",
       "    </tr>\n",
       "  </thead>\n",
       "  <tbody>\n",
       "    <tr>\n",
       "      <th>0</th>\n",
       "      <td>Todd B. Abel, MD</td>\n",
       "      <td>Neurological Surgery</td>\n",
       "      <td>UTMC</td>\n",
       "      <td>https://www.utmedicalcenter.org/find-a-doctor/...</td>\n",
       "      <td>865-524-1869</td>\n",
       "      <td>37920</td>\n",
       "      <td>Male</td>\n",
       "      <td>English</td>\n",
       "      <td>Dr. Abel has special interests in spine surger...</td>\n",
       "      <td>Dr. Todd B. Abel is a board certified neurosur...</td>\n",
       "      <td>spine trauma</td>\n",
       "      <td>Brain and Spinal Cord Injury, Neurological Sur...</td>\n",
       "      <td>UTMC Neurological Surgery Male English Dr. Ab...</td>\n",
       "      <td>utmc neurological surgery male english ha spec...</td>\n",
       "    </tr>\n",
       "    <tr>\n",
       "      <th>1</th>\n",
       "      <td>Julia A. Abraham, MD</td>\n",
       "      <td>Family medicine physician</td>\n",
       "      <td>UTMC</td>\n",
       "      <td>https://www.utmedicalcenter.org/find-a-doctor/...</td>\n",
       "      <td>865-531-1300</td>\n",
       "      <td>37919</td>\n",
       "      <td>Female</td>\n",
       "      <td>English</td>\n",
       "      <td>Primary care physician at Rocky Hill Family Ph...</td>\n",
       "      <td>Dr. Abraham is a Wisconsin native but grew up ...</td>\n",
       "      <td>Preventative Care,  Chronic Disease Management...</td>\n",
       "      <td>Family Medicine</td>\n",
       "      <td>UTMC Family medicine physician Female English...</td>\n",
       "      <td>utmc family medicine physician female english ...</td>\n",
       "    </tr>\n",
       "    <tr>\n",
       "      <th>2</th>\n",
       "      <td>Wala  Abusalah, MD</td>\n",
       "      <td>Transplant Nephrologist</td>\n",
       "      <td>UTMC</td>\n",
       "      <td>https://www.utmedicalcenter.org/find-a-doctor/...</td>\n",
       "      <td></td>\n",
       "      <td>37920</td>\n",
       "      <td>Female</td>\n",
       "      <td>Arabic, English</td>\n",
       "      <td>Family, travelling and self development!</td>\n",
       "      <td>A great source of happiness is seeing dialysis...</td>\n",
       "      <td>Transplant medicine,  immunosuppression, chron...</td>\n",
       "      <td>Transplant Surgery, Nephrology</td>\n",
       "      <td>UTMC Transplant Nephrologist Female Arabic, E...</td>\n",
       "      <td>utmc transplant nephrologist female arabic eng...</td>\n",
       "    </tr>\n",
       "    <tr>\n",
       "      <th>3</th>\n",
       "      <td>John H. Acker, MD</td>\n",
       "      <td>Cardiologist, Clinical Assistant Professor,  D...</td>\n",
       "      <td>UTMC</td>\n",
       "      <td>https://www.utmedicalcenter.org/find-a-doctor/...</td>\n",
       "      <td></td>\n",
       "      <td>37920</td>\n",
       "      <td>Male</td>\n",
       "      <td>English</td>\n",
       "      <td>I enjoy spending time with my family.</td>\n",
       "      <td>Dr. Acker enjoys patient care and improving a ...</td>\n",
       "      <td>Cardiovascular Disease</td>\n",
       "      <td>Cardiology</td>\n",
       "      <td>UTMC Cardiologist, Clinical Assistant Profess...</td>\n",
       "      <td>utmc cardiologist clinical assistant professor...</td>\n",
       "    </tr>\n",
       "    <tr>\n",
       "      <th>4</th>\n",
       "      <td>Brittany L. Adams, FNP-C</td>\n",
       "      <td>Nurse Practitioner</td>\n",
       "      <td>UTMC</td>\n",
       "      <td>https://www.utmedicalcenter.org/find-a-doctor/...</td>\n",
       "      <td></td>\n",
       "      <td>37920</td>\n",
       "      <td>Female</td>\n",
       "      <td>English</td>\n",
       "      <td>I live for vacationing, outdoors, family time ...</td>\n",
       "      <td>I have been lucky to call East Tennessee my ho...</td>\n",
       "      <td>I see patients with blood disorders such as bl...</td>\n",
       "      <td>Hematology/Oncology, Medical Oncology</td>\n",
       "      <td>UTMC Nurse Practitioner Female English I live...</td>\n",
       "      <td>utmc nurse practitioner female english i live ...</td>\n",
       "    </tr>\n",
       "  </tbody>\n",
       "</table>\n",
       "</div>"
      ],
      "text/plain": [
       "                       Name  \\\n",
       "0          Todd B. Abel, MD   \n",
       "1      Julia A. Abraham, MD   \n",
       "2        Wala  Abusalah, MD   \n",
       "3         John H. Acker, MD   \n",
       "4  Brittany L. Adams, FNP-C   \n",
       "\n",
       "                                          Profession Provider  \\\n",
       "0                               Neurological Surgery     UTMC   \n",
       "1                          Family medicine physician     UTMC   \n",
       "2                            Transplant Nephrologist     UTMC   \n",
       "3  Cardiologist, Clinical Assistant Professor,  D...     UTMC   \n",
       "4                                 Nurse Practitioner     UTMC   \n",
       "\n",
       "                                             Website         Phone    Zip  \\\n",
       "0  https://www.utmedicalcenter.org/find-a-doctor/...  865-524-1869  37920   \n",
       "1  https://www.utmedicalcenter.org/find-a-doctor/...  865-531-1300  37919   \n",
       "2  https://www.utmedicalcenter.org/find-a-doctor/...                37920   \n",
       "3  https://www.utmedicalcenter.org/find-a-doctor/...                37920   \n",
       "4  https://www.utmedicalcenter.org/find-a-doctor/...                37920   \n",
       "\n",
       "   Gender        Languages                                                Bio  \\\n",
       "0    Male          English  Dr. Abel has special interests in spine surger...   \n",
       "1  Female          English  Primary care physician at Rocky Hill Family Ph...   \n",
       "2  Female  Arabic, English           Family, travelling and self development!   \n",
       "3    Male          English              I enjoy spending time with my family.   \n",
       "4  Female          English  I live for vacationing, outdoors, family time ...   \n",
       "\n",
       "                                               About  \\\n",
       "0  Dr. Todd B. Abel is a board certified neurosur...   \n",
       "1  Dr. Abraham is a Wisconsin native but grew up ...   \n",
       "2  A great source of happiness is seeing dialysis...   \n",
       "3  Dr. Acker enjoys patient care and improving a ...   \n",
       "4  I have been lucky to call East Tennessee my ho...   \n",
       "\n",
       "                                   Clinical_Interest  \\\n",
       "0                                       spine trauma   \n",
       "1  Preventative Care,  Chronic Disease Management...   \n",
       "2  Transplant medicine,  immunosuppression, chron...   \n",
       "3                             Cardiovascular Disease   \n",
       "4  I see patients with blood disorders such as bl...   \n",
       "\n",
       "                                         Specialties  \\\n",
       "0  Brain and Spinal Cord Injury, Neurological Sur...   \n",
       "1                                    Family Medicine   \n",
       "2                     Transplant Surgery, Nephrology   \n",
       "3                                         Cardiology   \n",
       "4              Hematology/Oncology, Medical Oncology   \n",
       "\n",
       "                                            Raw_Text  \\\n",
       "0   UTMC Neurological Surgery Male English Dr. Ab...   \n",
       "1   UTMC Family medicine physician Female English...   \n",
       "2   UTMC Transplant Nephrologist Female Arabic, E...   \n",
       "3   UTMC Cardiologist, Clinical Assistant Profess...   \n",
       "4   UTMC Nurse Practitioner Female English I live...   \n",
       "\n",
       "                                                Text  \n",
       "0  utmc neurological surgery male english ha spec...  \n",
       "1  utmc family medicine physician female english ...  \n",
       "2  utmc transplant nephrologist female arabic eng...  \n",
       "3  utmc cardiologist clinical assistant professor...  \n",
       "4  utmc nurse practitioner female english i live ...  "
      ]
     },
     "execution_count": 38,
     "metadata": {},
     "output_type": "execute_result"
    }
   ],
   "source": [
    "# Generate Text column on full doctor dataset\n",
    "# read in\n",
    "fullDoctorDF = pd.read_json(output_file_path+\"Data/UTMC_doctor_profiles.json\",dtype={'Zip': str})\n",
    "fullDoctorProcDF = fullDoctorDF.copy()\n",
    "\n",
    "# preprocess\n",
    "fullDoctorProcDF[\"Raw_Text\"] = fullDoctorProcDF[textColumns].apply(concatenate, axis=1)\n",
    "\n",
    "fullDoctorProcDF[\"Text\"] = fullDoctorProcDF[[\"Name\", \"Raw_Text\"]].apply(remove_name, axis=1)  # remove name from Text\n",
    "\n",
    "# lemmatize\n",
    "lemmatizer = WordNetLemmatizer()\n",
    "fullDoctorProcDF[\"Text\"] = fullDoctorProcDF[\"Text\"].apply(lemmatize, args=(lemmatizer,))\n",
    "\n",
    "# remove dups\n",
    "fullDoctorProcDF[\"Text\"] = fullDoctorProcDF[\"Text\"].apply(remove_duplicates)\n",
    "print(fullDoctorProcDF.shape)\n",
    "\n",
    "fullDoctorProcDF.head()"
   ]
  },
  {
   "cell_type": "code",
   "execution_count": 39,
   "metadata": {},
   "outputs": [
    {
     "data": {
      "text/plain": [
       "count      1178\n",
       "unique       19\n",
       "top       37920\n",
       "freq        758\n",
       "Name: Zip, dtype: object"
      ]
     },
     "execution_count": 39,
     "metadata": {},
     "output_type": "execute_result"
    }
   ],
   "source": [
    "fullDoctorProcDF[\"Zip\"].describe()  # 8 missing zips..."
   ]
  },
  {
   "cell_type": "code",
   "execution_count": 40,
   "metadata": {},
   "outputs": [
    {
     "data": {
      "text/plain": [
       "(1178, 4086)"
      ]
     },
     "execution_count": 40,
     "metadata": {},
     "output_type": "execute_result"
    }
   ],
   "source": [
    "# transform into tfidf sparse matrix\n",
    "tfidfMatrix = loaded_vectorizer.transform(fullDoctorProcDF[\"Text\"])\n",
    "tfidfMatrix.shape  # checks"
   ]
  },
  {
   "cell_type": "code",
   "execution_count": 41,
   "metadata": {},
   "outputs": [
    {
     "data": {
      "text/plain": [
       "<1x4086 sparse matrix of type '<class 'numpy.float64'>'\n",
       "\twith 22 stored elements in Compressed Sparse Row format>"
      ]
     },
     "execution_count": 41,
     "metadata": {},
     "output_type": "execute_result"
    }
   ],
   "source": [
    "sum(tfidfMatrix[0])"
   ]
  },
  {
   "cell_type": "code",
   "execution_count": 42,
   "metadata": {},
   "outputs": [],
   "source": [
    "def top_cosine_similarity(request, zip5, model, vectorizedDF, doctorDF, topX=5, milesMax=100):\n",
    "    \"\"\"Calculate cosine similarity between input/request and all doctor text tf-idf vectors.\n",
    "        \n",
    "        request:        input open form text describing health professional needs\n",
    "        model:          tf-idf vectorizer model object\n",
    "        vectorizedDF:   doctor tf-idf vectorized sparse matrix\n",
    "        doctorDF:       pre-vectorized doctor dataframe of key attributes\n",
    "        topX:           number of top most-similar health professionals\n",
    "        \n",
    "        Return: dataframe of topX most-similar health professionals, with key attributes from profile\n",
    "    \"\"\"\n",
    "    # Copy input and print shapes\n",
    "    print(\"Doctor dataframe:   \", doctorDF.shape)\n",
    "    outDF = doctorDF.copy()\n",
    "    print(\"Doctor tfidf DF:\", vectorizedDF.shape)\n",
    "    print()\n",
    "    \n",
    "    # calculate distance between zip5 and doctorDF[\"Zip\"]\n",
    "    outDF[\"Distance\"] = outDF[\"Zip\"].apply(distance_zip, args=(zip5,))\n",
    "    print(\"Distance:\")\n",
    "    print(outDF[\"Distance\"].describe())\n",
    "    \n",
    "    # transform request text into tfidf vectorized sparse matrix\n",
    "    requestVector = model.transform([request])\n",
    "    print(\"Request vector:\", requestVector.shape, \"\\nSum:\", requestVector.sum())\n",
    "    \n",
    "    # calculate cosine similarity\n",
    "    cosineArray = cosine_similarity(requestVector, vectorizedDF, dense_output=True)[0]\n",
    "    \n",
    "    # append scores to doctorDF\n",
    "    outDF[\"Score\"] = cosineArray\n",
    "    print(\"\\nScores:\")\n",
    "    print(outDF[\"Score\"].describe())\n",
    "    \n",
    "    # keep only within mile radius\n",
    "    print(\"Columns:\", outDF.columns)\n",
    "    outDF = outDF[outDF[\"Distance\"]<=100]\n",
    "    print(\"Within radius:\", outDF.shape)\n",
    "    \n",
    "    # sort doctorDF by desc cosine similarities\n",
    "    outDF = outDF.sort_values(by=[\"Score\"], axis=0, ascending=False, inplace=False).head(topX).reset_index()\n",
    "    \n",
    "    return outDF"
   ]
  },
  {
   "cell_type": "code",
   "execution_count": 81,
   "metadata": {},
   "outputs": [],
   "source": [
    "sample_request = \"holistic integrative care\"\n",
    "zip5 = '37831'"
   ]
  },
  {
   "cell_type": "code",
   "execution_count": 82,
   "metadata": {
    "scrolled": true
   },
   "outputs": [
    {
     "name": "stdout",
     "output_type": "stream",
     "text": [
      "Doctor dataframe:    (1178, 14)\n",
      "Doctor tfidf DF: (1178, 4086)\n",
      "\n",
      "Distance:\n",
      "count    860.000000\n",
      "mean      23.406434\n",
      "std        3.810078\n",
      "min        9.053126\n",
      "25%       23.748983\n",
      "50%       23.748983\n",
      "75%       23.748983\n",
      "max       50.346442\n",
      "Name: Distance, dtype: float64\n",
      "Request vector: (1, 4086) \n",
      "Sum: 1.6285281530208984\n",
      "\n",
      "Scores:\n",
      "count    1178.000000\n",
      "mean        0.007047\n",
      "std         0.018759\n",
      "min         0.000000\n",
      "25%         0.000000\n",
      "50%         0.000000\n",
      "75%         0.000000\n",
      "max         0.201788\n",
      "Name: Score, dtype: float64\n",
      "Columns: Index(['Name', 'Profession', 'Provider', 'Website', 'Phone', 'Zip', 'Gender',\n",
      "       'Languages', 'Bio', 'About', 'Clinical_Interest', 'Specialties',\n",
      "       'Raw_Text', 'Text', 'Distance', 'Score'],\n",
      "      dtype='object')\n",
      "Within radius: (860, 16)\n"
     ]
    },
    {
     "data": {
      "text/html": [
       "<div>\n",
       "<style scoped>\n",
       "    .dataframe tbody tr th:only-of-type {\n",
       "        vertical-align: middle;\n",
       "    }\n",
       "\n",
       "    .dataframe tbody tr th {\n",
       "        vertical-align: top;\n",
       "    }\n",
       "\n",
       "    .dataframe thead th {\n",
       "        text-align: right;\n",
       "    }\n",
       "</style>\n",
       "<table border=\"1\" class=\"dataframe\">\n",
       "  <thead>\n",
       "    <tr style=\"text-align: right;\">\n",
       "      <th></th>\n",
       "      <th>index</th>\n",
       "      <th>Name</th>\n",
       "      <th>Profession</th>\n",
       "      <th>Provider</th>\n",
       "      <th>Website</th>\n",
       "      <th>Phone</th>\n",
       "      <th>Zip</th>\n",
       "      <th>Gender</th>\n",
       "      <th>Languages</th>\n",
       "      <th>Bio</th>\n",
       "      <th>About</th>\n",
       "      <th>Clinical_Interest</th>\n",
       "      <th>Specialties</th>\n",
       "      <th>Raw_Text</th>\n",
       "      <th>Text</th>\n",
       "      <th>Distance</th>\n",
       "      <th>Score</th>\n",
       "    </tr>\n",
       "  </thead>\n",
       "  <tbody>\n",
       "    <tr>\n",
       "      <th>0</th>\n",
       "      <td>648</td>\n",
       "      <td>Richard H. Mays, MD</td>\n",
       "      <td>Physician</td>\n",
       "      <td>UTMC</td>\n",
       "      <td>https://www.utmedicalcenter.org/find-a-doctor/...</td>\n",
       "      <td></td>\n",
       "      <td>37920</td>\n",
       "      <td>Male</td>\n",
       "      <td>English</td>\n",
       "      <td>Faith Based Family and Integrative Health Care</td>\n",
       "      <td>Dr. Mays is a board certified Family Physician...</td>\n",
       "      <td>Family Practice,  Integrative Medicine</td>\n",
       "      <td>Family Medicine</td>\n",
       "      <td>UTMC Physician Male English Faith Based Famil...</td>\n",
       "      <td>utmc physician male english faith based family...</td>\n",
       "      <td>23.748983</td>\n",
       "      <td>0.201788</td>\n",
       "    </tr>\n",
       "    <tr>\n",
       "      <th>1</th>\n",
       "      <td>192</td>\n",
       "      <td>Cara C. Connors, MD</td>\n",
       "      <td>Family Medicine and Obesity Medicine Physician</td>\n",
       "      <td>UTMC</td>\n",
       "      <td>https://www.utmedicalcenter.org/find-a-doctor/...</td>\n",
       "      <td></td>\n",
       "      <td>37701</td>\n",
       "      <td>Female</td>\n",
       "      <td>English</td>\n",
       "      <td>Faith, Family, Holistic Living</td>\n",
       "      <td>I am passionate about helping patients with th...</td>\n",
       "      <td>obesity medicine</td>\n",
       "      <td>Family Medicine</td>\n",
       "      <td>UTMC Family Medicine and Obesity Medicine Phy...</td>\n",
       "      <td>utmc family medicine and obesity physician fem...</td>\n",
       "      <td>21.422726</td>\n",
       "      <td>0.191448</td>\n",
       "    </tr>\n",
       "    <tr>\n",
       "      <th>2</th>\n",
       "      <td>403</td>\n",
       "      <td>Christopher D. Harris, MD, FACS</td>\n",
       "      <td>Integrative and Functional Medicine , Consultant</td>\n",
       "      <td>UTMC</td>\n",
       "      <td>https://www.utmedicalcenter.org/find-a-doctor/...</td>\n",
       "      <td></td>\n",
       "      <td>37920</td>\n",
       "      <td>Male</td>\n",
       "      <td>English</td>\n",
       "      <td>I’m a life long learner with many interests, i...</td>\n",
       "      <td>I practiced urology in Knoxville for 29 years....</td>\n",
       "      <td>Gut Health Restoration,  balancing hormones, \\...</td>\n",
       "      <td>Urology, Integrative Health</td>\n",
       "      <td>UTMC Integrative and Functional Medicine , Co...</td>\n",
       "      <td>utmc integrative and functional medicine consu...</td>\n",
       "      <td>23.748983</td>\n",
       "      <td>0.165594</td>\n",
       "    </tr>\n",
       "    <tr>\n",
       "      <th>3</th>\n",
       "      <td>1024</td>\n",
       "      <td>Christina M. Stockwell, D.O.</td>\n",
       "      <td>OB/GYN</td>\n",
       "      <td>UTMC</td>\n",
       "      <td>https://www.utmedicalcenter.org/find-a-doctor/...</td>\n",
       "      <td></td>\n",
       "      <td>37920</td>\n",
       "      <td>Female</td>\n",
       "      <td>English, Japanese</td>\n",
       "      <td>I love to travel, watch TN football, and spend...</td>\n",
       "      <td>Raised in a military family had the privilege ...</td>\n",
       "      <td>minimally invasive gynecologic surgery,  PCOS,...</td>\n",
       "      <td>Gynecology, Obstetrics</td>\n",
       "      <td>UTMC OB/GYN Female English, Japanese I love t...</td>\n",
       "      <td>utmc obgyn female english japanese i love to t...</td>\n",
       "      <td>23.748983</td>\n",
       "      <td>0.144521</td>\n",
       "    </tr>\n",
       "    <tr>\n",
       "      <th>4</th>\n",
       "      <td>110</td>\n",
       "      <td>Jennifer H. Brinkmann, MD</td>\n",
       "      <td>Family Medicine Physician, Pediatrician</td>\n",
       "      <td>UTMC</td>\n",
       "      <td>https://www.utmedicalcenter.org/find-a-doctor/...</td>\n",
       "      <td></td>\n",
       "      <td>37922</td>\n",
       "      <td>Female</td>\n",
       "      <td>English, Spanish</td>\n",
       "      <td>Dog lover, avid reader (always looking for a g...</td>\n",
       "      <td>I'm native to East TN, born in Chattanooga, an...</td>\n",
       "      <td>Primary holistic care of families</td>\n",
       "      <td>Internal Medicine, Pediatrics</td>\n",
       "      <td>UTMC Family Medicine Physician, Pediatrician ...</td>\n",
       "      <td>utmc family medicine physician pediatrician fe...</td>\n",
       "      <td>12.680410</td>\n",
       "      <td>0.137843</td>\n",
       "    </tr>\n",
       "  </tbody>\n",
       "</table>\n",
       "</div>"
      ],
      "text/plain": [
       "   index                             Name  \\\n",
       "0    648              Richard H. Mays, MD   \n",
       "1    192              Cara C. Connors, MD   \n",
       "2    403  Christopher D. Harris, MD, FACS   \n",
       "3   1024     Christina M. Stockwell, D.O.   \n",
       "4    110        Jennifer H. Brinkmann, MD   \n",
       "\n",
       "                                         Profession Provider  \\\n",
       "0                                         Physician     UTMC   \n",
       "1    Family Medicine and Obesity Medicine Physician     UTMC   \n",
       "2  Integrative and Functional Medicine , Consultant     UTMC   \n",
       "3                                            OB/GYN     UTMC   \n",
       "4           Family Medicine Physician, Pediatrician     UTMC   \n",
       "\n",
       "                                             Website Phone    Zip  Gender  \\\n",
       "0  https://www.utmedicalcenter.org/find-a-doctor/...        37920    Male   \n",
       "1  https://www.utmedicalcenter.org/find-a-doctor/...        37701  Female   \n",
       "2  https://www.utmedicalcenter.org/find-a-doctor/...        37920    Male   \n",
       "3  https://www.utmedicalcenter.org/find-a-doctor/...        37920  Female   \n",
       "4  https://www.utmedicalcenter.org/find-a-doctor/...        37922  Female   \n",
       "\n",
       "           Languages                                                Bio  \\\n",
       "0            English     Faith Based Family and Integrative Health Care   \n",
       "1            English                     Faith, Family, Holistic Living   \n",
       "2            English  I’m a life long learner with many interests, i...   \n",
       "3  English, Japanese  I love to travel, watch TN football, and spend...   \n",
       "4   English, Spanish  Dog lover, avid reader (always looking for a g...   \n",
       "\n",
       "                                               About  \\\n",
       "0  Dr. Mays is a board certified Family Physician...   \n",
       "1  I am passionate about helping patients with th...   \n",
       "2  I practiced urology in Knoxville for 29 years....   \n",
       "3  Raised in a military family had the privilege ...   \n",
       "4  I'm native to East TN, born in Chattanooga, an...   \n",
       "\n",
       "                                   Clinical_Interest  \\\n",
       "0             Family Practice,  Integrative Medicine   \n",
       "1                                   obesity medicine   \n",
       "2  Gut Health Restoration,  balancing hormones, \\...   \n",
       "3  minimally invasive gynecologic surgery,  PCOS,...   \n",
       "4                  Primary holistic care of families   \n",
       "\n",
       "                     Specialties  \\\n",
       "0                Family Medicine   \n",
       "1                Family Medicine   \n",
       "2    Urology, Integrative Health   \n",
       "3         Gynecology, Obstetrics   \n",
       "4  Internal Medicine, Pediatrics   \n",
       "\n",
       "                                            Raw_Text  \\\n",
       "0   UTMC Physician Male English Faith Based Famil...   \n",
       "1   UTMC Family Medicine and Obesity Medicine Phy...   \n",
       "2   UTMC Integrative and Functional Medicine , Co...   \n",
       "3   UTMC OB/GYN Female English, Japanese I love t...   \n",
       "4   UTMC Family Medicine Physician, Pediatrician ...   \n",
       "\n",
       "                                                Text   Distance     Score  \n",
       "0  utmc physician male english faith based family...  23.748983  0.201788  \n",
       "1  utmc family medicine and obesity physician fem...  21.422726  0.191448  \n",
       "2  utmc integrative and functional medicine consu...  23.748983  0.165594  \n",
       "3  utmc obgyn female english japanese i love to t...  23.748983  0.144521  \n",
       "4  utmc family medicine physician pediatrician fe...  12.680410  0.137843  "
      ]
     },
     "execution_count": 82,
     "metadata": {},
     "output_type": "execute_result"
    }
   ],
   "source": [
    "docRankedDF = top_cosine_similarity(sample_request, zip5, loaded_vectorizer, tfidfMatrix, fullDoctorProcDF, topX=5)\n",
    "docRankedDF"
   ]
  },
  {
   "cell_type": "code",
   "execution_count": 83,
   "metadata": {},
   "outputs": [
    {
     "data": {
      "text/plain": [
       "'utmc physician male english faith based family and integrative health care is a board certified practicing in south knoxville he married with 3 child 5 grandchild enjoys organic gardening hiking photography also medicine strives to incorporate natural product diet into his practice ha strong god very active church 37920'"
      ]
     },
     "execution_count": 83,
     "metadata": {},
     "output_type": "execute_result"
    }
   ],
   "source": [
    "docRankedDF[\"Text\"][0]"
   ]
  },
  {
   "cell_type": "code",
   "execution_count": 84,
   "metadata": {},
   "outputs": [
    {
     "data": {
      "text/plain": [
       "'utmc family medicine and obesity physician female english faith holistic living i am passionate about helping patient with their wellness a life long learner enjoy time friend love being outside in nature by water 37701'"
      ]
     },
     "execution_count": 84,
     "metadata": {},
     "output_type": "execute_result"
    }
   ],
   "source": [
    "docRankedDF[\"Text\"][1]"
   ]
  },
  {
   "cell_type": "code",
   "execution_count": 85,
   "metadata": {},
   "outputs": [
    {
     "data": {
      "text/plain": [
       "'utmc integrative and functional medicine consultant male english im a life long learner with many interest including travel gardening reading i practiced urology in knoxville for 29 year graduated from 2 fellowship 2018 board certified 2019 practicing full time since gut health restoration balancing hormone bioidentical replacement female 37920'"
      ]
     },
     "execution_count": 85,
     "metadata": {},
     "output_type": "execute_result"
    }
   ],
   "source": [
    "docRankedDF[\"Text\"][2]"
   ]
  },
  {
   "cell_type": "code",
   "execution_count": 86,
   "metadata": {},
   "outputs": [
    {
     "data": {
      "text/plain": [
       "'utmc obgyn female english japanese i love to travel watch tn football and spending time with loved one raised in a military family had the privilege world understand all different aspect of medicine subsequently pursued do degree for it holistic approach manipulation being able care my patient through various stage life minimally invasive gynecologic surgery pcos lgbtq infertility hormone replacement obstetrics gynecology 37920'"
      ]
     },
     "execution_count": 86,
     "metadata": {},
     "output_type": "execute_result"
    }
   ],
   "source": [
    "docRankedDF[\"Text\"][3]"
   ]
  },
  {
   "cell_type": "code",
   "execution_count": 87,
   "metadata": {},
   "outputs": [
    {
     "data": {
      "text/plain": [
       "'utmc family medicine physician pediatrician female english spanish dog lover avid reader always looking for a good book recommendation love to cook garden hike travel and any activity involving water im native east tn born in chattanooga i trained here with medical school residency memphis moved knoxville be closer live my husband our three daughter worklife balance that ut allows me the flexibility able present when need primary holistic care of internal pediatrics 37922'"
      ]
     },
     "execution_count": 87,
     "metadata": {},
     "output_type": "execute_result"
    }
   ],
   "source": [
    "docRankedDF[\"Text\"][4]"
   ]
  },
  {
   "cell_type": "code",
   "execution_count": null,
   "metadata": {},
   "outputs": [],
   "source": []
  },
  {
   "cell_type": "code",
   "execution_count": null,
   "metadata": {},
   "outputs": [],
   "source": []
  }
 ],
 "metadata": {
  "kernelspec": {
   "display_name": "Python 3 (ipykernel)",
   "language": "python",
   "name": "python3"
  },
  "language_info": {
   "codemirror_mode": {
    "name": "ipython",
    "version": 3
   },
   "file_extension": ".py",
   "mimetype": "text/x-python",
   "name": "python",
   "nbconvert_exporter": "python",
   "pygments_lexer": "ipython3",
   "version": "3.9.13"
  }
 },
 "nbformat": 4,
 "nbformat_minor": 4
}
