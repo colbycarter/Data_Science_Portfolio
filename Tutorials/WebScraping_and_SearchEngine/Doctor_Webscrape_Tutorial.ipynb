{
 "cells": [
  {
   "cell_type": "markdown",
   "metadata": {},
   "source": [
    "# Doctor Finder Tutorial: Webscraping and Basic Search Engine with Python\n",
    "Author:  Colby Carter    \n",
    "    \n",
    "Last modified: 2/11/2023    \n",
    "    \n",
    "A How-To On:    \n",
    "1. Set up virtual environment and packages\n",
    "2. Iteratively scrape key fields across webpage\n",
    "3. Build a simple search engine"
   ]
  },
  {
   "cell_type": "markdown",
   "metadata": {},
   "source": [
    "## 1. Set up virtual environment and packages"
   ]
  },
  {
   "cell_type": "markdown",
   "metadata": {},
   "source": [
    "Using Anaconda terminal:\n",
    "\n",
    "`# create environment for project, e.g.`    \n",
    "`conda create --name doctor-finder-env python = 3.9.13`    \n",
    "`activate doctor-finder-env`    \n",
    "`conda install pipenv` (or pip install)     \n",
    "`pipenv install [package]` for each package, or update pipfile    \n",
    "`pipenv shell`     \n",
    "`jupyter notebook`    \n",
    "\n",
    "Alternatively using pipenv shell, create a virtual environment and then select in Jupyter lab:    \n",
    "`python -m ipykernel install --user --name=doctor-finder-env`    \n",
    "\n",
    "If using a requirements file, with your conda environment (edit PATH accordingly):    \n",
    "`python -m venv \\[PATH]\\doctor-finder-env`    \n",
    "`\\[PATH]\\doctor-finder-env\\bin\\pip install -r \\[PATH]\\requirements.txt`    \n",
    "`\\[PATH]\\doctor-finder-env\\bin\\pip install ipykernel`    \n",
    "`\\[PATH]\\doctor-finder-env\\bin\\python -m ipykernel install --user --name=doctor-finder-env` and select in Jupyter lab"
   ]
  },
  {
   "cell_type": "code",
   "execution_count": 1,
   "metadata": {},
   "outputs": [
    {
     "name": "stdout",
     "output_type": "stream",
     "text": [
      "Python 3.9.13\n"
     ]
    }
   ],
   "source": [
    "# confirm python version\n",
    "!python --version"
   ]
  },
  {
   "cell_type": "code",
   "execution_count": 1,
   "metadata": {},
   "outputs": [],
   "source": [
    "# confirm package versions\n",
    "# !pip list"
   ]
  },
  {
   "cell_type": "code",
   "execution_count": 2,
   "metadata": {},
   "outputs": [],
   "source": [
    "# import libraries\n",
    "import requests\n",
    "\n",
    "from bs4 import BeautifulSoup\n",
    "\n",
    "from selenium import webdriver\n",
    "from selenium.webdriver.support.select import Select\n",
    "from selenium.webdriver.common.by import By\n",
    "\n",
    "from webdriver_manager.chrome import ChromeDriverManager\n",
    "\n",
    "import re\n",
    "\n",
    "import time\n",
    "from datetime import date\n",
    "\n",
    "import numpy as np\n",
    "import pandas as pd\n",
    "\n",
    "import json"
   ]
  },
  {
   "cell_type": "markdown",
   "metadata": {},
   "source": [
    "Resources:    \n",
    "https://beautiful-soup-4.readthedocs.io/en/latest/    \n",
    "https://www.kaggle.com/code/shadabhussain/web-scraping-with-python-using-beautiful-soup/notebook"
   ]
  },
  {
   "cell_type": "code",
   "execution_count": null,
   "metadata": {},
   "outputs": [],
   "source": []
  },
  {
   "cell_type": "markdown",
   "metadata": {},
   "source": [
    "## 2. Iteratively scrape key fields across webpage"
   ]
  },
  {
   "cell_type": "markdown",
   "metadata": {},
   "source": [
    "### Explore Find-a-Doctor Page -- Example using Univ. of Tennessee Medical Center"
   ]
  },
  {
   "cell_type": "code",
   "execution_count": 237,
   "metadata": {},
   "outputs": [],
   "source": [
    "# get beautiful soup object from URL \n",
    "finder_URL = 'https://www.utmedicalcenter.org/medical-care/medical-services/find-a-doctor/'\n",
    "finder_page = requests.get(finder_URL).text\n",
    "finder_soup = BeautifulSoup(finder_page, \"html.parser\")"
   ]
  },
  {
   "cell_type": "markdown",
   "metadata": {},
   "source": [
    "Some attributes of beautiful soup object:"
   ]
  },
  {
   "cell_type": "code",
   "execution_count": 5,
   "metadata": {},
   "outputs": [
    {
     "data": {
      "text/plain": [
       "'<!DOCTYPE html>\\n<html lang=\"en\" dir=\"ltr\" prefix=\"content: http://purl.org/rss/1.0/modules/content/ '"
      ]
     },
     "execution_count": 5,
     "metadata": {},
     "output_type": "execute_result"
    }
   ],
   "source": [
    "finder_page[:100]"
   ]
  },
  {
   "cell_type": "code",
   "execution_count": 7,
   "metadata": {},
   "outputs": [
    {
     "data": {
      "text/plain": [
       "'[document]'"
      ]
     },
     "execution_count": 7,
     "metadata": {},
     "output_type": "execute_result"
    }
   ],
   "source": [
    "finder_soup.name"
   ]
  },
  {
   "cell_type": "code",
   "execution_count": 8,
   "metadata": {},
   "outputs": [
    {
     "data": {
      "text/plain": [
       "<title>Doctor Search | UT Medical Center</title>"
      ]
     },
     "execution_count": 8,
     "metadata": {},
     "output_type": "execute_result"
    }
   ],
   "source": [
    "finder_soup.title"
   ]
  },
  {
   "cell_type": "code",
   "execution_count": 9,
   "metadata": {},
   "outputs": [
    {
     "data": {
      "text/plain": [
       "<a class=\"screenreader-text\" href=\"#main\" id=\"skip-nav\">\n",
       "      Skip to main content\n",
       "    </a>"
      ]
     },
     "execution_count": 9,
     "metadata": {},
     "output_type": "execute_result"
    }
   ],
   "source": [
    "finder_soup.body.a"
   ]
  },
  {
   "cell_type": "code",
   "execution_count": 10,
   "metadata": {},
   "outputs": [
    {
     "data": {
      "text/plain": [
       "bs4.element.Tag"
      ]
     },
     "execution_count": 10,
     "metadata": {},
     "output_type": "execute_result"
    }
   ],
   "source": [
    "tag = finder_soup.a\n",
    "type(tag)"
   ]
  },
  {
   "cell_type": "code",
   "execution_count": 11,
   "metadata": {},
   "outputs": [
    {
     "data": {
      "text/plain": [
       "<a class=\"screenreader-text\" href=\"#main\" id=\"skip-nav\">\n",
       "      Skip to main content\n",
       "    </a>"
      ]
     },
     "execution_count": 11,
     "metadata": {},
     "output_type": "execute_result"
    }
   ],
   "source": [
    "tag"
   ]
  },
  {
   "cell_type": "code",
   "execution_count": 12,
   "metadata": {},
   "outputs": [
    {
     "data": {
      "text/plain": [
       "'a'"
      ]
     },
     "execution_count": 12,
     "metadata": {},
     "output_type": "execute_result"
    }
   ],
   "source": [
    "tag.name"
   ]
  },
  {
   "cell_type": "code",
   "execution_count": 13,
   "metadata": {},
   "outputs": [
    {
     "data": {
      "text/plain": [
       "'#main'"
      ]
     },
     "execution_count": 13,
     "metadata": {},
     "output_type": "execute_result"
    }
   ],
   "source": [
    "tag['href']"
   ]
  },
  {
   "cell_type": "code",
   "execution_count": 16,
   "metadata": {
    "scrolled": true
   },
   "outputs": [
    {
     "name": "stdout",
     "output_type": "stream",
     "text": [
      "<a class=\"relative\" href=\"/find-a-doctor/todd-b-abel\">\n",
      "<div class=\"body-page-content\"><article class=\"media media-image default\">\n",
      "<picture>\n",
      "<source media=\"all and (min-width: 1200px)\" srcset=\"/sites/default/files/styles/max_2600x2600/public/imported/doctorProfiles/Abel_Tod_300.jpg?itok=-HRGQTYt 1x\" type=\"image/jpeg\"/>\n",
      "<source media=\"all and (min-width: 992px)\" srcset=\"/sites/default/files/styles/max_1300x1300/public/imported/doctorProfiles/Abel_Tod_300.jpg?itok=A8UnDwl0 1x\" type=\"image/jpeg\"/>\n",
      "<source media=\"all and (min-width: 576px)\" srcset=\"/sites/default/files/styles/max_650x650/public/imported/doctorProfiles/Abel_Tod_300.jpg?itok=Dd171kJV 1x\" type=\"image/jpeg\"/>\n",
      "<source srcset=\"/sites/default/files/styles/max_650x650/public/imported/doctorProfiles/Abel_Tod_300.jpg?itok=Dd171kJV 1x\" type=\"image/jpeg\"/>\n",
      "<img class=\"w-full\" src=\"/sites/default/files/styles/max_325x325/public/imported/doctorProfiles/Abel_Tod_300.jpg?itok=nvNGrRMh\" typeof=\"foaf:Image\"/>\n",
      "</picture>\n",
      "</article>\n",
      "</div>\n",
      "</a>\n",
      "\n",
      "/find-a-doctor/todd-b-abel\n"
     ]
    }
   ],
   "source": [
    "# look up first doctor on page (Todd-b-abel)\n",
    "first_doctor = finder_soup.find('a', class_='relative')\n",
    "print(first_doctor)\n",
    "print()\n",
    "print(first_doctor['href'])"
   ]
  },
  {
   "cell_type": "markdown",
   "metadata": {},
   "source": [
    "Loop over Page 1 of doctor-finder and capture all doctor URLs."
   ]
  },
  {
   "cell_type": "code",
   "execution_count": 238,
   "metadata": {},
   "outputs": [],
   "source": [
    "# page 1 doctor URLs - use in loop across all pages\n",
    "def print_URLs(soup):\n",
    "    \"\"\"print all the URLs of the doctors listed on UT doctors page\"\"\"\n",
    "    URL_list = []\n",
    "    doctor_soup = soup.find_all('p', class_='text-lg font-bold')\n",
    "    for doctor in doctor_soup:\n",
    "        name = doctor.find('a', class_=\"relative\")\n",
    "        URL_list+=[name['href']]\n",
    "#     print()\n",
    "    return URL_list"
   ]
  },
  {
   "cell_type": "code",
   "execution_count": 18,
   "metadata": {},
   "outputs": [],
   "source": [
    "doctor_URLs = print_URLs(finder_soup)"
   ]
  },
  {
   "cell_type": "code",
   "execution_count": 19,
   "metadata": {},
   "outputs": [
    {
     "data": {
      "text/plain": [
       "['/find-a-doctor/todd-b-abel',\n",
       " '/find-a-doctor/julia-abraham',\n",
       " '/find-a-doctor/wala-abusalah',\n",
       " '/find-a-doctor/john-h-acker',\n",
       " '/find-a-doctor/brittany-l-adams',\n",
       " '/find-a-doctor/theresa-adams']"
      ]
     },
     "execution_count": 19,
     "metadata": {},
     "output_type": "execute_result"
    }
   ],
   "source": [
    "doctor_URLs  # first 6"
   ]
  },
  {
   "cell_type": "code",
   "execution_count": null,
   "metadata": {},
   "outputs": [],
   "source": []
  },
  {
   "cell_type": "markdown",
   "metadata": {},
   "source": [
    "### Get Doctor URLs - Selenium Chrome Driver    \n",
    "Use Selenium to open a window and click through UTMC doctor pages.    \n",
    "https://selenium-python.readthedocs.io/getting-started.html    \n",
    "https://stackoverflow.com/questions/40555930/selenium-chromedriver-executable-needs-to-be-in-path"
   ]
  },
  {
   "cell_type": "markdown",
   "metadata": {},
   "source": [
    "#### Develop 'Click Next' Step"
   ]
  },
  {
   "cell_type": "code",
   "execution_count": 239,
   "metadata": {},
   "outputs": [
    {
     "name": "stderr",
     "output_type": "stream",
     "text": [
      "[WDM] - Downloading: 100%|███████████████████████████████████████████████████████████████████████████████████████████████████████████████████████████████████████████████████████████████████████████████████████████████████████████████| 6.78M/6.78M [00:00<00:00, 21.0MB/s]\n"
     ]
    }
   ],
   "source": [
    "# open remote Chrome window\n",
    "driver = webdriver.Chrome(ChromeDriverManager().install())"
   ]
  },
  {
   "cell_type": "code",
   "execution_count": 240,
   "metadata": {},
   "outputs": [
    {
     "name": "stdout",
     "output_type": "stream",
     "text": [
      "https://www.utmedicalcenter.org/medical-care/medical-services/find-a-doctor/\n"
     ]
    }
   ],
   "source": [
    "# open find-a-doctor home page\n",
    "driver.get(finder_ULR)\n",
    "print(finder_ULR)"
   ]
  },
  {
   "cell_type": "markdown",
   "metadata": {},
   "source": [
    "https://selenium-python.readthedocs.io/locating-elements.html#locating-elements    \n",
    "https://www.testim.io/blog/selenium-click-button/"
   ]
  },
  {
   "cell_type": "code",
   "execution_count": null,
   "metadata": {},
   "outputs": [],
   "source": [
    "# element\n",
    "# <div class=\"page-btn js-btn-next\"><i class=\"fas fa-arrow-right\"></i></div>"
   ]
  },
  {
   "cell_type": "code",
   "execution_count": null,
   "metadata": {},
   "outputs": [],
   "source": [
    "# selector\n",
    "# mk-theme-container > div.pagination-wrapper > div > div.page-btn.js-btn-next"
   ]
  },
  {
   "cell_type": "code",
   "execution_count": 71,
   "metadata": {},
   "outputs": [],
   "source": [
    "# next_button = driver.find_element(By.CSS_SELECTOR, 'mk-theme-container > div.pagination-wrapper > div > div.page-btn.js-btn-next')"
   ]
  },
  {
   "cell_type": "code",
   "execution_count": null,
   "metadata": {},
   "outputs": [],
   "source": [
    "# xpath\n",
    "# //*[@id=\"mk-theme-container\"]/div[5]/div/div[4]"
   ]
  },
  {
   "cell_type": "code",
   "execution_count": 8,
   "metadata": {},
   "outputs": [],
   "source": [
    "doctor_URLs = []\n",
    "\n",
    "finder_page = driver.page_source\n",
    "finder_soup = BeautifulSoup(finder_page, 'html.parser')\n",
    "doctor_URLs += print_URLs(finder_soup)"
   ]
  },
  {
   "cell_type": "code",
   "execution_count": 9,
   "metadata": {},
   "outputs": [
    {
     "name": "stdout",
     "output_type": "stream",
     "text": [
      "[]\n"
     ]
    }
   ],
   "source": [
    "print(doctor_URLs)"
   ]
  },
  {
   "cell_type": "code",
   "execution_count": 31,
   "metadata": {},
   "outputs": [],
   "source": [
    "# click button for next page using xpage element - NOT IDEAL BUT WORKS\n",
    "# how to locate xpath: right click on LOAD MORE button, click 'inspect', copy xpath\n",
    "# next_button = driver.find_element_by_xpath('//*[@id=\"block-finch-content\"]/div/div/div[3]/ul/li/a')\n",
    "# driver.execute_script(\"arguments[0].click();\", next_button);"
   ]
  },
  {
   "cell_type": "code",
   "execution_count": 43,
   "metadata": {},
   "outputs": [],
   "source": [
    "# click button using css selector \n",
    "#<a class=\"button unstyle\" href=\"?sort_by=title&amp;search_api_fulltext=&amp;page=2\" title=\"Load more items\" rel=\"next\">Load More</a>\n",
    "next_button = driver.find_element_by_css_selector(\".button.unstyle\") \n",
    "driver.execute_script(\"arguments[0].click();\", next_button);"
   ]
  },
  {
   "cell_type": "code",
   "execution_count": 47,
   "metadata": {},
   "outputs": [],
   "source": [
    "# soup for new page\n",
    "next_page = driver.page_source\n",
    "next_doctor_soup = BeautifulSoup(next_page, 'html.parser')"
   ]
  },
  {
   "cell_type": "code",
   "execution_count": 48,
   "metadata": {},
   "outputs": [],
   "source": [
    "doctor_URLs += print_URLs(next_doctor_soup)"
   ]
  },
  {
   "cell_type": "code",
   "execution_count": 49,
   "metadata": {},
   "outputs": [
    {
     "data": {
      "text/plain": [
       "['/find-a-doctor/nicholas-g-anderson',\n",
       " '/find-a-doctor/charles-g-ange',\n",
       " '/find-a-doctor/carlos-angel',\n",
       " '/find-a-doctor/jonathan-w-angelle',\n",
       " '/find-a-doctor/lisa-l-angelle',\n",
       " '/find-a-doctor/kristen-e-anklowitz',\n",
       " '/find-a-doctor/andrew-j-anzeljc',\n",
       " '/find-a-doctor/joshua-d-arnold',\n",
       " '/find-a-doctor/brandon-s-asbury',\n",
       " '/find-a-doctor/raye-anne-b-ayo']"
      ]
     },
     "execution_count": 49,
     "metadata": {},
     "output_type": "execute_result"
    }
   ],
   "source": [
    "doctor_URLs[-10:]"
   ]
  },
  {
   "cell_type": "code",
   "execution_count": 241,
   "metadata": {},
   "outputs": [],
   "source": [
    "driver.quit()"
   ]
  },
  {
   "cell_type": "code",
   "execution_count": null,
   "metadata": {},
   "outputs": [],
   "source": []
  },
  {
   "cell_type": "markdown",
   "metadata": {},
   "source": [
    "### Loop Over All Doctors"
   ]
  },
  {
   "cell_type": "code",
   "execution_count": 244,
   "metadata": {},
   "outputs": [
    {
     "data": {
      "text/plain": [
       "196"
      ]
     },
     "execution_count": 244,
     "metadata": {},
     "output_type": "execute_result"
    }
   ],
   "source": [
    "# define number of iterations - this should be made flexible with stopping logic\n",
    "doc_count = 1178  # as of 2/15/23\n",
    "docs_per_page = 6\n",
    "clicks = np.ceil((doc_count-docs_per_page)/docs_per_page)  # includes base page\n",
    "int(clicks)  # checks out"
   ]
  },
  {
   "cell_type": "code",
   "execution_count": 257,
   "metadata": {},
   "outputs": [],
   "source": [
    "# loop over all 196 \"pages\"\n",
    "def doctor_URL_loop(finder_URL, doc_count, docs_per_page=6, sleep=5.0):\n",
    "    \"\"\"finder_URL: starting find-a-doctor page\"\"\"\n",
    "    \"\"\"page_count: to be replaced by dynamic total page count element\"\"\"\n",
    "    \"\"\"sleep: seconds for next results to load\"\"\"\n",
    "\n",
    "    # install Chrome driver, go to starting page\n",
    "    driver = webdriver.Chrome(ChromeDriverManager().install())\n",
    "    driver.get(finder_URL)\n",
    "\n",
    "    # get page source\n",
    "    finder_page = driver.page_source\n",
    "    finder_soup = BeautifulSoup(finder_page, \"html.parser\")\n",
    "\n",
    "    # initialize list of URLs\n",
    "    doctor_URLs = []\n",
    "#     print(doctor_URLs[-1])\n",
    "\n",
    "    # get number of clicks\n",
    "    clicks = int(np.ceil((doc_count-docs_per_page)/docs_per_page))\n",
    "    \n",
    "    # click Load More until showing all doctors\n",
    "    for i in range(clicks):\n",
    "        # print(i)\n",
    "        \n",
    "        # find and click next button\n",
    "        next_button = driver.find_element_by_css_selector(\".button.unstyle\")  # why the periods? don't know\n",
    "        driver.execute_script(\"arguments[0].click();\", next_button);\n",
    "        \n",
    "        # pause to load next page?\n",
    "        time.sleep(sleep)\n",
    "\n",
    "    # get new page source and soup\n",
    "    next_page = driver.page_source\n",
    "    next_doctor_soup = BeautifulSoup(next_page, 'html.parser')\n",
    "\n",
    "    # print all doc URLs to the list\n",
    "    doctor_URLs += print_URLs(next_doctor_soup)\n",
    "    print(\"Num docs:\", len(doctor_URLs))\n",
    "    if len(doctor_URLs)<doc_count:\n",
    "        print(\"ERROR LOADING URLS\")\n",
    "\n",
    "    time.sleep(sleep)\n",
    "    driver.quit()\n",
    "    return doctor_URLs"
   ]
  },
  {
   "cell_type": "code",
   "execution_count": 258,
   "metadata": {},
   "outputs": [
    {
     "name": "stderr",
     "output_type": "stream",
     "text": [
      "[WDM] - Downloading: 100%|███████████████████████████████████████████████████████████████████████████████████████████████████████████████████████████████████████████████████████████████████████████████████████████████████████████████| 6.78M/6.78M [00:00<00:00, 13.9MB/s]\n"
     ]
    },
    {
     "name": "stdout",
     "output_type": "stream",
     "text": [
      "Num docs: 1178\n"
     ]
    }
   ],
   "source": [
    "finder_URL = 'https://www.utmedicalcenter.org/medical-care/medical-services/find-a-doctor/'\n",
    "# doctor_URLs = doctor_URL_loop(finder_URL, doc_count=50)  # tester\n",
    "doctor_URLs = doctor_URL_loop(finder_URL, doc_count=1178, sleep=6.0)"
   ]
  },
  {
   "cell_type": "code",
   "execution_count": 259,
   "metadata": {},
   "outputs": [
    {
     "data": {
      "text/plain": [
       "['/find-a-doctor/todd-b-abel',\n",
       " '/find-a-doctor/julia-abraham',\n",
       " '/find-a-doctor/wala-abusalah',\n",
       " '/find-a-doctor/john-h-acker',\n",
       " '/find-a-doctor/brittany-l-adams',\n",
       " '/find-a-doctor/theresa-adams',\n",
       " '/find-a-doctor/lauren-c-ade',\n",
       " '/find-a-doctor/michial-adkins',\n",
       " '/find-a-doctor/fatima-ahmed',\n",
       " '/find-a-doctor/shaun-b-ajinkya']"
      ]
     },
     "execution_count": 259,
     "metadata": {},
     "output_type": "execute_result"
    }
   ],
   "source": [
    "doctor_URLs[:10]"
   ]
  },
  {
   "cell_type": "code",
   "execution_count": 260,
   "metadata": {},
   "outputs": [
    {
     "data": {
      "text/plain": [
       "['/find-a-doctor/wing-c-yeen',\n",
       " '/find-a-doctor/jonathan-d-york',\n",
       " '/find-a-doctor/kristie-g-young',\n",
       " '/find-a-doctor/thomas-l-young',\n",
       " '/find-a-doctor/yorke-d-young',\n",
       " '/find-a-doctor/luis-e-zayas-rodriguez',\n",
       " '/find-a-doctor/rong-zeng',\n",
       " '/find-a-doctor/michael-zinckgraf',\n",
       " '/find-a-doctor/nikki-b-zite',\n",
       " '/find-a-doctor/miranda-zolman']"
      ]
     },
     "execution_count": 260,
     "metadata": {},
     "output_type": "execute_result"
    }
   ],
   "source": [
    "doctor_URLs[-10:]"
   ]
  },
  {
   "cell_type": "code",
   "execution_count": 261,
   "metadata": {},
   "outputs": [],
   "source": [
    "url_dict = {}\n",
    "url_dict[\"doctor_url\"] = doctor_URLs"
   ]
  },
  {
   "cell_type": "code",
   "execution_count": 262,
   "metadata": {},
   "outputs": [
    {
     "data": {
      "text/plain": [
       "'/find-a-doctor/theresa-adams'"
      ]
     },
     "execution_count": 262,
     "metadata": {},
     "output_type": "execute_result"
    }
   ],
   "source": [
    "url_dict[\"doctor_url\"][5]"
   ]
  },
  {
   "cell_type": "code",
   "execution_count": 263,
   "metadata": {},
   "outputs": [
    {
     "name": "stdout",
     "output_type": "stream",
     "text": [
      "(1178, 1)\n"
     ]
    },
    {
     "data": {
      "text/html": [
       "<div>\n",
       "<style scoped>\n",
       "    .dataframe tbody tr th:only-of-type {\n",
       "        vertical-align: middle;\n",
       "    }\n",
       "\n",
       "    .dataframe tbody tr th {\n",
       "        vertical-align: top;\n",
       "    }\n",
       "\n",
       "    .dataframe thead th {\n",
       "        text-align: right;\n",
       "    }\n",
       "</style>\n",
       "<table border=\"1\" class=\"dataframe\">\n",
       "  <thead>\n",
       "    <tr style=\"text-align: right;\">\n",
       "      <th></th>\n",
       "      <th>doctor_url</th>\n",
       "    </tr>\n",
       "  </thead>\n",
       "  <tbody>\n",
       "    <tr>\n",
       "      <th>0</th>\n",
       "      <td>/find-a-doctor/todd-b-abel</td>\n",
       "    </tr>\n",
       "    <tr>\n",
       "      <th>1</th>\n",
       "      <td>/find-a-doctor/julia-abraham</td>\n",
       "    </tr>\n",
       "    <tr>\n",
       "      <th>2</th>\n",
       "      <td>/find-a-doctor/wala-abusalah</td>\n",
       "    </tr>\n",
       "    <tr>\n",
       "      <th>3</th>\n",
       "      <td>/find-a-doctor/john-h-acker</td>\n",
       "    </tr>\n",
       "    <tr>\n",
       "      <th>4</th>\n",
       "      <td>/find-a-doctor/brittany-l-adams</td>\n",
       "    </tr>\n",
       "  </tbody>\n",
       "</table>\n",
       "</div>"
      ],
      "text/plain": [
       "                        doctor_url\n",
       "0       /find-a-doctor/todd-b-abel\n",
       "1     /find-a-doctor/julia-abraham\n",
       "2     /find-a-doctor/wala-abusalah\n",
       "3      /find-a-doctor/john-h-acker\n",
       "4  /find-a-doctor/brittany-l-adams"
      ]
     },
     "execution_count": 263,
     "metadata": {},
     "output_type": "execute_result"
    }
   ],
   "source": [
    "# from pandas.io.common import is_url\n",
    "urlDF = pd.DataFrame.from_dict(url_dict, dtype='str')\n",
    "urlDF.to_csv(\"./Data/UTMC_doctors_URLs.csv\")\n",
    "print(urlDF.shape)\n",
    "urlDF.head()"
   ]
  },
  {
   "cell_type": "code",
   "execution_count": null,
   "metadata": {},
   "outputs": [],
   "source": []
  },
  {
   "cell_type": "markdown",
   "metadata": {},
   "source": [
    "### Pull Doctor Info Off each Profile Page"
   ]
  },
  {
   "cell_type": "code",
   "execution_count": 264,
   "metadata": {},
   "outputs": [],
   "source": [
    "home_url = 'https://www.utmedicalcenter.org'"
   ]
  },
  {
   "cell_type": "code",
   "execution_count": 265,
   "metadata": {},
   "outputs": [
    {
     "name": "stdout",
     "output_type": "stream",
     "text": [
      "(1178, 1)\n"
     ]
    },
    {
     "data": {
      "text/html": [
       "<div>\n",
       "<style scoped>\n",
       "    .dataframe tbody tr th:only-of-type {\n",
       "        vertical-align: middle;\n",
       "    }\n",
       "\n",
       "    .dataframe tbody tr th {\n",
       "        vertical-align: top;\n",
       "    }\n",
       "\n",
       "    .dataframe thead th {\n",
       "        text-align: right;\n",
       "    }\n",
       "</style>\n",
       "<table border=\"1\" class=\"dataframe\">\n",
       "  <thead>\n",
       "    <tr style=\"text-align: right;\">\n",
       "      <th></th>\n",
       "      <th>doctor_url</th>\n",
       "    </tr>\n",
       "  </thead>\n",
       "  <tbody>\n",
       "    <tr>\n",
       "      <th>0</th>\n",
       "      <td>/find-a-doctor/todd-b-abel</td>\n",
       "    </tr>\n",
       "    <tr>\n",
       "      <th>1</th>\n",
       "      <td>/find-a-doctor/julia-abraham</td>\n",
       "    </tr>\n",
       "    <tr>\n",
       "      <th>2</th>\n",
       "      <td>/find-a-doctor/wala-abusalah</td>\n",
       "    </tr>\n",
       "    <tr>\n",
       "      <th>3</th>\n",
       "      <td>/find-a-doctor/john-h-acker</td>\n",
       "    </tr>\n",
       "    <tr>\n",
       "      <th>4</th>\n",
       "      <td>/find-a-doctor/brittany-l-adams</td>\n",
       "    </tr>\n",
       "  </tbody>\n",
       "</table>\n",
       "</div>"
      ],
      "text/plain": [
       "                        doctor_url\n",
       "0       /find-a-doctor/todd-b-abel\n",
       "1     /find-a-doctor/julia-abraham\n",
       "2     /find-a-doctor/wala-abusalah\n",
       "3      /find-a-doctor/john-h-acker\n",
       "4  /find-a-doctor/brittany-l-adams"
      ]
     },
     "execution_count": 265,
     "metadata": {},
     "output_type": "execute_result"
    }
   ],
   "source": [
    "urlDF = pd.read_csv(\"./Data/UTMC_doctors_URLs.csv\").drop([\"Unnamed: 0\"],axis=1)\n",
    "print(urlDF.shape)\n",
    "urlDF.head()  # 2/15: at least one doctor dropped..."
   ]
  },
  {
   "cell_type": "code",
   "execution_count": 10,
   "metadata": {},
   "outputs": [
    {
     "name": "stdout",
     "output_type": "stream",
     "text": [
      "https://www.utmedicalcenter.org/find-a-doctor/todd-b-abel\n"
     ]
    }
   ],
   "source": [
    "# for url in urlDFmini[\"doctor_url\"]:\n",
    "doc_url = home_url + urlDF[\"doctor_url\"][0]\n",
    "print(doc_url)\n",
    "doctor_page = requests.get(doc_url).text\n",
    "doctor_soup = BeautifulSoup(doctor_page, \"html.parser\")"
   ]
  },
  {
   "cell_type": "code",
   "execution_count": 19,
   "metadata": {},
   "outputs": [
    {
     "data": {
      "text/plain": [
       "'Todd B. Abel, MD'"
      ]
     },
     "execution_count": 19,
     "metadata": {},
     "output_type": "execute_result"
    }
   ],
   "source": [
    "# doctor name -- maybe include full title\n",
    "# <h1 class=\"doctor-heading max-w-sm text-5xl sm:text-7xl mb-4 !leading-[1.1]\">\n",
    "#                     Brittany L. Adams, FNP-C                </h1>\n",
    "doctor_soup.find('h1', class_=\"doctor-heading max-w-sm text-5xl sm:text-7xl mb-4 !leading-[1.1]\").text.strip() #[:-4]"
   ]
  },
  {
   "cell_type": "code",
   "execution_count": 20,
   "metadata": {},
   "outputs": [
    {
     "data": {
      "text/plain": [
       "'Neurological Surgery'"
      ]
     },
     "execution_count": 20,
     "metadata": {},
     "output_type": "execute_result"
    }
   ],
   "source": [
    "# primary specialty\n",
    "# <p class=\"doctor-subheading uppercase mb-12 text-lg tracking-widest text-grey\">Nurse Practitioner</p>\n",
    "doctor_soup.find('p', class_=\"doctor-subheading uppercase mb-12 text-lg tracking-widest text-grey\").text.strip()"
   ]
  },
  {
   "cell_type": "code",
   "execution_count": 90,
   "metadata": {},
   "outputs": [
    {
     "data": {
      "text/plain": [
       "'Male'"
      ]
     },
     "execution_count": 90,
     "metadata": {},
     "output_type": "execute_result"
    }
   ],
   "source": [
    "# gender\n",
    "# <p class=\"mb-5 text-grey\">\n",
    "#           <span class=\"text-black font-bold\">Gender:</span>\n",
    "#           Male\n",
    "#         </p>\n",
    "doctor_soup.find('p', class_=\"mb-5 text-grey\").text.split(\":\")[1].strip()"
   ]
  },
  {
   "cell_type": "code",
   "execution_count": 91,
   "metadata": {},
   "outputs": [
    {
     "data": {
      "text/plain": [
       "'English'"
      ]
     },
     "execution_count": 91,
     "metadata": {},
     "output_type": "execute_result"
    }
   ],
   "source": [
    "# languages\n",
    "# <p class=\"mb-16 capitalize text-grey\">\n",
    "#           <span class=\"text-black font-bold\">Languages Spoken:</span>\n",
    "#           <br>\n",
    "#           English\n",
    "#         </p>\n",
    "doctor_soup.find('p', class_=\"mb-16 capitalize text-grey\").text.split(\":\")[1].strip()"
   ]
  },
  {
   "cell_type": "code",
   "execution_count": 59,
   "metadata": {},
   "outputs": [
    {
     "data": {
      "text/plain": [
       "'Dr. Abel has special interests in spine surgery and tethered cord syndrome, and has completed research, presentations and published writing on these topics.'"
      ]
     },
     "execution_count": 59,
     "metadata": {},
     "output_type": "execute_result"
    }
   ],
   "source": [
    "# short blurb\n",
    "# <p class=\"doctor-bio mb-14 text-grey\">Dr. Abel has special interests in spine surgery and tethered cord syndrome, and has completed research, presentations and published writing on these topics. </p>\n",
    "doctor_soup.find('p', class_=\"doctor-bio mb-14 text-grey\").text.strip()"
   ]
  },
  {
   "cell_type": "code",
   "execution_count": 58,
   "metadata": {},
   "outputs": [
    {
     "data": {
      "text/plain": [
       "'Dr. Todd B. Abel is a board certified neurosurgeon and is associated with The University of Tennessee Medical Center. He is also a clinical instructor at the University of Tennessee Graduate School of Medicine.'"
      ]
     },
     "execution_count": 58,
     "metadata": {},
     "output_type": "execute_result"
    }
   ],
   "source": [
    "# about me\n",
    "# <div class=\"mb-24 mt-4 mr-4 text-grey\">\n",
    "#                       Dr. Todd B. Abel is a board certified neurosurgeon and is associated with The University of Tennessee Medical Center. He is also a clinical instructor at the University of Tennessee Graduate School of Medicine.\n",
    "#                   </div>\n",
    "doctor_soup.find('div', class_=\"mb-24 mt-4 mr-4 text-grey\").text.strip()"
   ]
  },
  {
   "cell_type": "raw",
   "metadata": {},
   "source": [
    "Clinical focus and specialties:\n",
    "<div class=\"md:col-span-7 grid grid-cols-1 md:grid-cols-2 gap-4\">\n",
    "                      <p class=\"capitalize text-grey max-w-xs\">\n",
    "              <span class=\"text-black font-bold\">Clinical Focus:</span>\n",
    "              <br>\n",
    "              spine trauma\n",
    "            </p>\n",
    "                                <p class=\"capitalize text-grey max-w-xs\">\n",
    "              <span class=\"text-black font-bold\">Specialties:</span>\n",
    "              <br>\n",
    "              Brain and Spinal Cord Injury, Neurological Surgery\n",
    "            </p>\n",
    "                  </div>"
   ]
  },
  {
   "cell_type": "code",
   "execution_count": 40,
   "metadata": {},
   "outputs": [
    {
     "data": {
      "text/plain": [
       "'spine trauma'"
      ]
     },
     "execution_count": 40,
     "metadata": {},
     "output_type": "execute_result"
    }
   ],
   "source": [
    "# Clinical focus\n",
    "# <p class=\"capitalize text-grey max-w-xs\">\n",
    "#               <span class=\"text-black font-bold\">Clinical Focus:</span>\n",
    "#               <br>\n",
    "#               spine trauma\n",
    "#             </p>\n",
    "doctor_soup.find('div', class_='md:col-span-7 grid grid-cols-1 md:grid-cols-2 gap-4')\\\n",
    "    .find_all(\"p\", class_='capitalize text-grey max-w-xs')[0].text.split(':')[1].strip()"
   ]
  },
  {
   "cell_type": "code",
   "execution_count": 41,
   "metadata": {},
   "outputs": [
    {
     "data": {
      "text/plain": [
       "'Brain and Spinal Cord Injury, Neurological Surgery'"
      ]
     },
     "execution_count": 41,
     "metadata": {},
     "output_type": "execute_result"
    }
   ],
   "source": [
    "# Specialties\n",
    "doctor_soup.find('div', class_='md:col-span-7 grid grid-cols-1 md:grid-cols-2 gap-4')\\\n",
    "    .find_all(\"p\", class_='capitalize text-grey max-w-xs')[1].text.split(':')[1].strip()"
   ]
  },
  {
   "cell_type": "code",
   "execution_count": 52,
   "metadata": {},
   "outputs": [
    {
     "name": "stdout",
     "output_type": "stream",
     "text": [
      "<p class=\"capitalize text-grey max-w-xs\">\n",
      "<span class=\"text-black font-bold\">Clinical Focus:</span>\n",
      "<br/>\n",
      "              spine trauma\n",
      "            </p>\n",
      "<p class=\"capitalize text-grey max-w-xs\">\n",
      "<span class=\"text-black font-bold\">Specialties:</span>\n",
      "<br/>\n",
      "              Brain and Spinal Cord Injury, Neurological Surgery\n",
      "            </p>\n"
     ]
    }
   ],
   "source": [
    "for i in specialtyHTML:\n",
    "    print(i)"
   ]
  },
  {
   "cell_type": "code",
   "execution_count": 83,
   "metadata": {},
   "outputs": [
    {
     "data": {
      "text/plain": [
       "['spine trauma', 'Brain and Spinal Cord Injury, Neurological Surgery']"
      ]
     },
     "execution_count": 83,
     "metadata": {},
     "output_type": "execute_result"
    }
   ],
   "source": [
    "specialtyHTML = doctor_soup.find('div', class_='md:col-span-7 grid grid-cols-1 md:grid-cols-2 gap-4')\\\n",
    "                    .find_all(\"p\", class_='capitalize text-grey max-w-xs')\n",
    "# print(specialtyHTML)\n",
    "specialtyList = []\n",
    "for tag in specialtyHTML:\n",
    "    specialtyList+=[tag.text.split(':')[1].strip()]\n",
    "\n",
    "specialtyList # only works IF specialty is last--CONFIRM"
   ]
  },
  {
   "cell_type": "code",
   "execution_count": 62,
   "metadata": {},
   "outputs": [
    {
     "data": {
      "text/plain": [
       "'37920'"
      ]
     },
     "execution_count": 62,
     "metadata": {},
     "output_type": "execute_result"
    }
   ],
   "source": [
    "# zip code\n",
    "# <p class=\"mb-8\"><span class=\"block\">1932 Alcoa Highway</span>Knoxville, TN 37920</p>\n",
    "location = doctor_soup.find('p', class_='mb-8').get_text()\n",
    "zip_code = re.search(r'\\d{5}', location).group()\n",
    "zip_code"
   ]
  },
  {
   "cell_type": "code",
   "execution_count": 79,
   "metadata": {},
   "outputs": [
    {
     "data": {
      "text/plain": [
       "'865-524-1869'"
      ]
     },
     "execution_count": 79,
     "metadata": {},
     "output_type": "execute_result"
    }
   ],
   "source": [
    "# phone number\n",
    "# <p>\n",
    "#                 Phone:\n",
    "#                 865-524-1869\n",
    "#               </p>\n",
    "doctor_soup.find('div', class_='text-lg').find('p', class_='mb-8').find_next_sibling().text.split(\":\")[1].strip()"
   ]
  },
  {
   "cell_type": "code",
   "execution_count": null,
   "metadata": {},
   "outputs": [],
   "source": []
  },
  {
   "cell_type": "code",
   "execution_count": null,
   "metadata": {},
   "outputs": [],
   "source": []
  },
  {
   "cell_type": "code",
   "execution_count": 266,
   "metadata": {},
   "outputs": [],
   "source": [
    "# get all key fields for a given doctor\n",
    "def scrape_doc_profile(doc_suffix, home_url='https://www.utmedicalcenter.org'):\n",
    "    # get soup\n",
    "    doc_url = home_url + doc_suffix\n",
    "    doctor_page = requests.get(doc_url).text\n",
    "    doctor_soup = BeautifulSoup(doctor_page, \"html.parser\")\n",
    "    \n",
    "    # doc name\n",
    "    if doctor_soup.find('h1', class_=\"doctor-heading max-w-sm text-5xl sm:text-7xl mb-4 !leading-[1.1]\")==None:\n",
    "        print(doc_url)  # how? 404 error...\n",
    "#         name = \"\"\n",
    "    else:\n",
    "        name = doctor_soup.find('h1', class_=\"doctor-heading max-w-sm text-5xl sm:text-7xl mb-4 !leading-[1.1]\").text.strip()\n",
    "    \n",
    "    # profession\n",
    "    if doctor_soup.find('p', class_=\"doctor-subheading uppercase mb-12 text-lg tracking-widest text-grey\")==None:\n",
    "        profession = \"\"\n",
    "    else:\n",
    "        profession = doctor_soup.find('p', class_=\"doctor-subheading uppercase mb-12 text-lg tracking-widest text-grey\").text.strip()\n",
    "    \n",
    "    # gender\n",
    "    if doctor_soup.find('p', class_=\"mb-5 text-grey\")==None:\n",
    "        gender = \"\"\n",
    "    else:\n",
    "        gender = doctor_soup.find('p', class_=\"mb-5 text-grey\").text.split(\":\")[1].strip()\n",
    "    \n",
    "    # languages\n",
    "    if doctor_soup.find('p', class_=\"mb-16 capitalize text-grey\")==None:\n",
    "        languages = \"\"\n",
    "    else:\n",
    "        languages = doctor_soup.find('p', class_=\"mb-16 capitalize text-grey\").text.split(\":\")[1].strip()\n",
    "    \n",
    "    # short bio\n",
    "    if doctor_soup.find('p', class_=\"doctor-bio mb-14 text-grey\") == None:\n",
    "        bio = \"\"\n",
    "    else:\n",
    "        bio = doctor_soup.find('p', class_=\"doctor-bio mb-14 text-grey\").text.strip()\n",
    "    \n",
    "    # long bio\n",
    "    if doctor_soup.find('div', class_=\"mb-24 mt-4 mr-4 text-grey\")==None:\n",
    "        about = \"\"\n",
    "    else:\n",
    "        about = doctor_soup.find('div', class_=\"mb-24 mt-4 mr-4 text-grey\").text.strip()\n",
    "    \n",
    "    # clinical interest & speciality\n",
    "    specialtyHTML = doctor_soup.find('div', class_='md:col-span-7 grid grid-cols-1 md:grid-cols-2 gap-4')\\\n",
    "                    .find_all(\"p\", class_='capitalize text-grey max-w-xs')\n",
    "    specialtyList = []\n",
    "#     print(doc_url)\n",
    "    for tag in specialtyHTML:\n",
    "        specialtyList += [tag.text.split(':')[1].strip()]\n",
    "    if len(specialtyList)==2:\n",
    "        clinical = specialtyList[0]\n",
    "        specialties = specialtyList[1]\n",
    "    elif len(specialtyList)==1:\n",
    "        clinical = \"\"\n",
    "        specialties = specialtyList[0]\n",
    "    else:\n",
    "        clinical = \"\"\n",
    "        specialties = \"\"\n",
    "    \n",
    "    # zip code\n",
    "    location = doctor_soup.find('p', class_='mb-8').get_text()\n",
    "    if re.search(r'\\d{5}', location)==None:\n",
    "        zip_code = \"\"\n",
    "    else:\n",
    "        zip_code = re.search(r'\\d{5}', location).group()\n",
    "    \n",
    "    # phone\n",
    "    if (doctor_soup.find('div', class_='text-lg')==None) or (doctor_soup.find('div', class_='text-lg').find('p', class_='mb-8') == None):\n",
    "        phone = ''\n",
    "    else:\n",
    "        phone = doctor_soup.find('div', class_='text-lg').find('p', class_='mb-8').find_next_sibling().text.split(\":\")[1].strip()\n",
    "    \n",
    "    # combine into dict\n",
    "    doc_dict = {\"Name\": name,\n",
    "                \"Profession\": profession,\n",
    "                \"Provider\": \"UTMC\",\n",
    "                \"Website\": doc_url,\n",
    "                \"Phone\": phone,\n",
    "                \"Zip\": zip_code,\n",
    "                \"Gender\": gender,\n",
    "                \"Languages\": languages,\n",
    "                \"Bio\": bio,\n",
    "                \"About\": about,\n",
    "                \"Clinical_Interest\": clinical,\n",
    "                \"Specialties\": specialties               \n",
    "               }\n",
    "    return doc_dict"
   ]
  },
  {
   "cell_type": "code",
   "execution_count": 267,
   "metadata": {},
   "outputs": [
    {
     "data": {
      "text/plain": [
       "{'Name': 'Todd B. Abel, MD',\n",
       " 'Profession': 'Neurological Surgery',\n",
       " 'Provider': 'UTMC',\n",
       " 'Website': 'https://www.utmedicalcenter.org/find-a-doctor/todd-b-abel',\n",
       " 'Phone': '865-524-1869',\n",
       " 'Zip': '37920',\n",
       " 'Gender': 'Male',\n",
       " 'Languages': 'English',\n",
       " 'Bio': 'Dr. Abel has special interests in spine surgery and tethered cord syndrome, and has completed research, presentations and published writing on these topics.',\n",
       " 'About': 'Dr. Todd B. Abel is a board certified neurosurgeon and is associated with The University of Tennessee Medical Center. He is also a clinical instructor at the University of Tennessee Graduate School of Medicine.',\n",
       " 'Clinical_Interest': 'spine trauma',\n",
       " 'Specialties': 'Brain and Spinal Cord Injury, Neurological Surgery'}"
      ]
     },
     "execution_count": 267,
     "metadata": {},
     "output_type": "execute_result"
    }
   ],
   "source": [
    "scrape_doc_profile(urlDFmini[\"doctor_url\"][0], home_url)"
   ]
  },
  {
   "cell_type": "code",
   "execution_count": 268,
   "metadata": {},
   "outputs": [
    {
     "data": {
      "text/plain": [
       "{'Name': 'Julia A. Abraham, MD',\n",
       " 'Profession': 'Family medicine physician',\n",
       " 'Provider': 'UTMC',\n",
       " 'Website': 'https://www.utmedicalcenter.org/find-a-doctor/julia-abraham',\n",
       " 'Phone': '865-531-1300',\n",
       " 'Zip': '37919',\n",
       " 'Gender': 'Female',\n",
       " 'Languages': 'English',\n",
       " 'Bio': 'Primary care physician at Rocky Hill Family Physicians.',\n",
       " 'About': 'Dr. Abraham is a Wisconsin native but grew up in Charleston, SC.  She studied microbiology at Clemson University before returning home to Charleston for medical school at the Medical University of South Carolina. Dr. Abraham then completed residency at the Mountain Area Health Education Center in Hendsersonville, NC where she fell in love with the Blue Ridge mountains. In her free time, she enjoys cooking, boating and hiking with her husband, young daughter and 2 dogs. She is also a passionate fan (and part-owner) of the Green Bay Packers.',\n",
       " 'Clinical_Interest': \"Preventative Care,  Chronic Disease Management,  Women's Health\",\n",
       " 'Specialties': 'Family Medicine'}"
      ]
     },
     "execution_count": 268,
     "metadata": {},
     "output_type": "execute_result"
    }
   ],
   "source": [
    "scrape_doc_profile(urlDFmini[\"doctor_url\"][1], home_url)"
   ]
  },
  {
   "cell_type": "code",
   "execution_count": 269,
   "metadata": {},
   "outputs": [
    {
     "data": {
      "text/plain": [
       "{'Name': 'Wala  Abusalah, MD',\n",
       " 'Profession': 'Transplant Nephrologist',\n",
       " 'Provider': 'UTMC',\n",
       " 'Website': 'https://www.utmedicalcenter.org/find-a-doctor/wala-abusalah',\n",
       " 'Phone': '',\n",
       " 'Zip': '37920',\n",
       " 'Gender': 'Female',\n",
       " 'Languages': 'Arabic, English',\n",
       " 'Bio': 'Family, travelling and self development!',\n",
       " 'About': 'A great source of happiness is seeing dialysis patients discharged from the hospital with a perfectly working kidney, leaving behind years of stress and anxiety, provoked by the long dialysis hours, fixed schedule, and dietary restrictions. The constantly evolving nature of transplant medicine manifesting in advancement in immunosuppression therapy, surgical techniques, allocation systems and exploring new areas to increase the donor pool fuels my admiration to the field.  I am a mother of two beautiful girls who I enjoy spending every moment with. I like travelling and reading during my free time.',\n",
       " 'Clinical_Interest': 'Transplant medicine,  immunosuppression, chronic kidney disease',\n",
       " 'Specialties': 'Transplant Surgery, Nephrology'}"
      ]
     },
     "execution_count": 269,
     "metadata": {},
     "output_type": "execute_result"
    }
   ],
   "source": [
    "scrape_doc_profile(urlDFmini[\"doctor_url\"][2], home_url)"
   ]
  },
  {
   "cell_type": "code",
   "execution_count": null,
   "metadata": {},
   "outputs": [],
   "source": []
  },
  {
   "cell_type": "markdown",
   "metadata": {},
   "source": [
    "### Apply Over URL Dataframe"
   ]
  },
  {
   "cell_type": "code",
   "execution_count": 270,
   "metadata": {},
   "outputs": [
    {
     "data": {
      "text/html": [
       "<div>\n",
       "<style scoped>\n",
       "    .dataframe tbody tr th:only-of-type {\n",
       "        vertical-align: middle;\n",
       "    }\n",
       "\n",
       "    .dataframe tbody tr th {\n",
       "        vertical-align: top;\n",
       "    }\n",
       "\n",
       "    .dataframe thead th {\n",
       "        text-align: right;\n",
       "    }\n",
       "</style>\n",
       "<table border=\"1\" class=\"dataframe\">\n",
       "  <thead>\n",
       "    <tr style=\"text-align: right;\">\n",
       "      <th></th>\n",
       "      <th>doctor_url</th>\n",
       "    </tr>\n",
       "  </thead>\n",
       "  <tbody>\n",
       "    <tr>\n",
       "      <th>0</th>\n",
       "      <td>/find-a-doctor/todd-b-abel</td>\n",
       "    </tr>\n",
       "    <tr>\n",
       "      <th>1</th>\n",
       "      <td>/find-a-doctor/julia-abraham</td>\n",
       "    </tr>\n",
       "    <tr>\n",
       "      <th>2</th>\n",
       "      <td>/find-a-doctor/wala-abusalah</td>\n",
       "    </tr>\n",
       "    <tr>\n",
       "      <th>3</th>\n",
       "      <td>/find-a-doctor/john-h-acker</td>\n",
       "    </tr>\n",
       "    <tr>\n",
       "      <th>4</th>\n",
       "      <td>/find-a-doctor/brittany-l-adams</td>\n",
       "    </tr>\n",
       "    <tr>\n",
       "      <th>5</th>\n",
       "      <td>/find-a-doctor/theresa-adams</td>\n",
       "    </tr>\n",
       "    <tr>\n",
       "      <th>6</th>\n",
       "      <td>/find-a-doctor/lauren-c-ade</td>\n",
       "    </tr>\n",
       "    <tr>\n",
       "      <th>7</th>\n",
       "      <td>/find-a-doctor/michial-adkins</td>\n",
       "    </tr>\n",
       "    <tr>\n",
       "      <th>8</th>\n",
       "      <td>/find-a-doctor/fatima-ahmed</td>\n",
       "    </tr>\n",
       "    <tr>\n",
       "      <th>9</th>\n",
       "      <td>/find-a-doctor/shaun-b-ajinkya</td>\n",
       "    </tr>\n",
       "  </tbody>\n",
       "</table>\n",
       "</div>"
      ],
      "text/plain": [
       "                        doctor_url\n",
       "0       /find-a-doctor/todd-b-abel\n",
       "1     /find-a-doctor/julia-abraham\n",
       "2     /find-a-doctor/wala-abusalah\n",
       "3      /find-a-doctor/john-h-acker\n",
       "4  /find-a-doctor/brittany-l-adams\n",
       "5     /find-a-doctor/theresa-adams\n",
       "6      /find-a-doctor/lauren-c-ade\n",
       "7    /find-a-doctor/michial-adkins\n",
       "8      /find-a-doctor/fatima-ahmed\n",
       "9   /find-a-doctor/shaun-b-ajinkya"
      ]
     },
     "execution_count": 270,
     "metadata": {},
     "output_type": "execute_result"
    }
   ],
   "source": [
    "# for loop testing\n",
    "urlDFmini = urlDF.iloc[:10,]\n",
    "urlDFmini"
   ]
  },
  {
   "cell_type": "code",
   "execution_count": 271,
   "metadata": {},
   "outputs": [
    {
     "name": "stderr",
     "output_type": "stream",
     "text": [
      "C:\\Users\\Colby\\AppData\\Local\\Temp\\ipykernel_16676\\2988866214.py:1: SettingWithCopyWarning: \n",
      "A value is trying to be set on a copy of a slice from a DataFrame.\n",
      "Try using .loc[row_indexer,col_indexer] = value instead\n",
      "\n",
      "See the caveats in the documentation: https://pandas.pydata.org/pandas-docs/stable/user_guide/indexing.html#returning-a-view-versus-a-copy\n",
      "  urlDFmini[\"doctor_info\"] = urlDFmini[\"doctor_url\"].apply(scrape_doc_profile)\n"
     ]
    }
   ],
   "source": [
    "urlDFmini[\"doctor_info\"] = urlDFmini[\"doctor_url\"].apply(scrape_doc_profile)"
   ]
  },
  {
   "cell_type": "code",
   "execution_count": 272,
   "metadata": {},
   "outputs": [
    {
     "data": {
      "text/html": [
       "<div>\n",
       "<style scoped>\n",
       "    .dataframe tbody tr th:only-of-type {\n",
       "        vertical-align: middle;\n",
       "    }\n",
       "\n",
       "    .dataframe tbody tr th {\n",
       "        vertical-align: top;\n",
       "    }\n",
       "\n",
       "    .dataframe thead th {\n",
       "        text-align: right;\n",
       "    }\n",
       "</style>\n",
       "<table border=\"1\" class=\"dataframe\">\n",
       "  <thead>\n",
       "    <tr style=\"text-align: right;\">\n",
       "      <th></th>\n",
       "      <th>doctor_url</th>\n",
       "      <th>doctor_info</th>\n",
       "    </tr>\n",
       "  </thead>\n",
       "  <tbody>\n",
       "    <tr>\n",
       "      <th>0</th>\n",
       "      <td>/find-a-doctor/todd-b-abel</td>\n",
       "      <td>{'Name': 'Todd B. Abel, MD', 'Profession': 'Ne...</td>\n",
       "    </tr>\n",
       "    <tr>\n",
       "      <th>1</th>\n",
       "      <td>/find-a-doctor/julia-abraham</td>\n",
       "      <td>{'Name': 'Julia A. Abraham, MD', 'Profession':...</td>\n",
       "    </tr>\n",
       "    <tr>\n",
       "      <th>2</th>\n",
       "      <td>/find-a-doctor/wala-abusalah</td>\n",
       "      <td>{'Name': 'Wala  Abusalah, MD', 'Profession': '...</td>\n",
       "    </tr>\n",
       "    <tr>\n",
       "      <th>3</th>\n",
       "      <td>/find-a-doctor/john-h-acker</td>\n",
       "      <td>{'Name': 'John H. Acker, MD', 'Profession': 'C...</td>\n",
       "    </tr>\n",
       "    <tr>\n",
       "      <th>4</th>\n",
       "      <td>/find-a-doctor/brittany-l-adams</td>\n",
       "      <td>{'Name': 'Brittany L. Adams, FNP-C', 'Professi...</td>\n",
       "    </tr>\n",
       "    <tr>\n",
       "      <th>5</th>\n",
       "      <td>/find-a-doctor/theresa-adams</td>\n",
       "      <td>{'Name': 'Theresa A. Adams, NP', 'Profession':...</td>\n",
       "    </tr>\n",
       "    <tr>\n",
       "      <th>6</th>\n",
       "      <td>/find-a-doctor/lauren-c-ade</td>\n",
       "      <td>{'Name': 'Lauren C. Ade, APRN', 'Profession': ...</td>\n",
       "    </tr>\n",
       "    <tr>\n",
       "      <th>7</th>\n",
       "      <td>/find-a-doctor/michial-adkins</td>\n",
       "      <td>{'Name': 'Michial A. Adkins, CRNA', 'Professio...</td>\n",
       "    </tr>\n",
       "    <tr>\n",
       "      <th>8</th>\n",
       "      <td>/find-a-doctor/fatima-ahmed</td>\n",
       "      <td>{'Name': 'Fatima Ahmed, DO', 'Profession': 'Fa...</td>\n",
       "    </tr>\n",
       "    <tr>\n",
       "      <th>9</th>\n",
       "      <td>/find-a-doctor/shaun-b-ajinkya</td>\n",
       "      <td>{'Name': 'Shaun B. Ajinkya, MD', 'Profession':...</td>\n",
       "    </tr>\n",
       "  </tbody>\n",
       "</table>\n",
       "</div>"
      ],
      "text/plain": [
       "                        doctor_url  \\\n",
       "0       /find-a-doctor/todd-b-abel   \n",
       "1     /find-a-doctor/julia-abraham   \n",
       "2     /find-a-doctor/wala-abusalah   \n",
       "3      /find-a-doctor/john-h-acker   \n",
       "4  /find-a-doctor/brittany-l-adams   \n",
       "5     /find-a-doctor/theresa-adams   \n",
       "6      /find-a-doctor/lauren-c-ade   \n",
       "7    /find-a-doctor/michial-adkins   \n",
       "8      /find-a-doctor/fatima-ahmed   \n",
       "9   /find-a-doctor/shaun-b-ajinkya   \n",
       "\n",
       "                                         doctor_info  \n",
       "0  {'Name': 'Todd B. Abel, MD', 'Profession': 'Ne...  \n",
       "1  {'Name': 'Julia A. Abraham, MD', 'Profession':...  \n",
       "2  {'Name': 'Wala  Abusalah, MD', 'Profession': '...  \n",
       "3  {'Name': 'John H. Acker, MD', 'Profession': 'C...  \n",
       "4  {'Name': 'Brittany L. Adams, FNP-C', 'Professi...  \n",
       "5  {'Name': 'Theresa A. Adams, NP', 'Profession':...  \n",
       "6  {'Name': 'Lauren C. Ade, APRN', 'Profession': ...  \n",
       "7  {'Name': 'Michial A. Adkins, CRNA', 'Professio...  \n",
       "8  {'Name': 'Fatima Ahmed, DO', 'Profession': 'Fa...  \n",
       "9  {'Name': 'Shaun B. Ajinkya, MD', 'Profession':...  "
      ]
     },
     "execution_count": 272,
     "metadata": {},
     "output_type": "execute_result"
    }
   ],
   "source": [
    "urlDFmini"
   ]
  },
  {
   "cell_type": "code",
   "execution_count": null,
   "metadata": {},
   "outputs": [],
   "source": []
  },
  {
   "cell_type": "code",
   "execution_count": 275,
   "metadata": {},
   "outputs": [
    {
     "data": {
      "text/plain": [
       "(1178, 2)"
      ]
     },
     "execution_count": 275,
     "metadata": {},
     "output_type": "execute_result"
    }
   ],
   "source": [
    "# Full Dataset\n",
    "urlDF[\"doctor_info\"] = urlDF[\"doctor_url\"].apply(scrape_doc_profile)\n",
    "urlDF.shape"
   ]
  },
  {
   "cell_type": "code",
   "execution_count": 276,
   "metadata": {},
   "outputs": [
    {
     "data": {
      "text/html": [
       "<div>\n",
       "<style scoped>\n",
       "    .dataframe tbody tr th:only-of-type {\n",
       "        vertical-align: middle;\n",
       "    }\n",
       "\n",
       "    .dataframe tbody tr th {\n",
       "        vertical-align: top;\n",
       "    }\n",
       "\n",
       "    .dataframe thead th {\n",
       "        text-align: right;\n",
       "    }\n",
       "</style>\n",
       "<table border=\"1\" class=\"dataframe\">\n",
       "  <thead>\n",
       "    <tr style=\"text-align: right;\">\n",
       "      <th></th>\n",
       "      <th>doctor_url</th>\n",
       "      <th>doctor_info</th>\n",
       "    </tr>\n",
       "  </thead>\n",
       "  <tbody>\n",
       "    <tr>\n",
       "      <th>0</th>\n",
       "      <td>/find-a-doctor/todd-b-abel</td>\n",
       "      <td>{'Name': 'Todd B. Abel, MD', 'Profession': 'Ne...</td>\n",
       "    </tr>\n",
       "    <tr>\n",
       "      <th>1</th>\n",
       "      <td>/find-a-doctor/julia-abraham</td>\n",
       "      <td>{'Name': 'Julia A. Abraham, MD', 'Profession':...</td>\n",
       "    </tr>\n",
       "    <tr>\n",
       "      <th>2</th>\n",
       "      <td>/find-a-doctor/wala-abusalah</td>\n",
       "      <td>{'Name': 'Wala  Abusalah, MD', 'Profession': '...</td>\n",
       "    </tr>\n",
       "    <tr>\n",
       "      <th>3</th>\n",
       "      <td>/find-a-doctor/john-h-acker</td>\n",
       "      <td>{'Name': 'John H. Acker, MD', 'Profession': 'C...</td>\n",
       "    </tr>\n",
       "    <tr>\n",
       "      <th>4</th>\n",
       "      <td>/find-a-doctor/brittany-l-adams</td>\n",
       "      <td>{'Name': 'Brittany L. Adams, FNP-C', 'Professi...</td>\n",
       "    </tr>\n",
       "  </tbody>\n",
       "</table>\n",
       "</div>"
      ],
      "text/plain": [
       "                        doctor_url  \\\n",
       "0       /find-a-doctor/todd-b-abel   \n",
       "1     /find-a-doctor/julia-abraham   \n",
       "2     /find-a-doctor/wala-abusalah   \n",
       "3      /find-a-doctor/john-h-acker   \n",
       "4  /find-a-doctor/brittany-l-adams   \n",
       "\n",
       "                                         doctor_info  \n",
       "0  {'Name': 'Todd B. Abel, MD', 'Profession': 'Ne...  \n",
       "1  {'Name': 'Julia A. Abraham, MD', 'Profession':...  \n",
       "2  {'Name': 'Wala  Abusalah, MD', 'Profession': '...  \n",
       "3  {'Name': 'John H. Acker, MD', 'Profession': 'C...  \n",
       "4  {'Name': 'Brittany L. Adams, FNP-C', 'Professi...  "
      ]
     },
     "execution_count": 276,
     "metadata": {},
     "output_type": "execute_result"
    }
   ],
   "source": [
    "urlDF.head()"
   ]
  },
  {
   "cell_type": "code",
   "execution_count": 277,
   "metadata": {},
   "outputs": [],
   "source": [
    "doc_info_list = urlDF[\"doctor_info\"].tolist()"
   ]
  },
  {
   "cell_type": "code",
   "execution_count": 278,
   "metadata": {},
   "outputs": [],
   "source": [
    "# save full json doc profile data\n",
    "\n",
    "with open('./Data/UTMC_doctor_profiles.json', 'w') as f:\n",
    "    json.dump(doc_info_list, f)"
   ]
  },
  {
   "cell_type": "code",
   "execution_count": null,
   "metadata": {},
   "outputs": [],
   "source": []
  },
  {
   "cell_type": "markdown",
   "metadata": {},
   "source": [
    "### Execute from Command Line    \n",
    "    \n",
    "This scraping algorithm as a Python class can be executed by providing the doctor finder URL:    \n",
    "`python Scrape_UTMC_profiles.py 'https://www.utmedicalcenter.org/medical-care/medical-services/find-a-doctor/'`"
   ]
  },
  {
   "cell_type": "code",
   "execution_count": null,
   "metadata": {},
   "outputs": [],
   "source": []
  },
  {
   "cell_type": "markdown",
   "metadata": {},
   "source": [
    "## 3. Build a simple search engine -- continued in next notebook..."
   ]
  },
  {
   "cell_type": "code",
   "execution_count": null,
   "metadata": {},
   "outputs": [],
   "source": []
  }
 ],
 "metadata": {
  "kernelspec": {
   "display_name": "Python 3 (ipykernel)",
   "language": "python",
   "name": "python3"
  },
  "language_info": {
   "codemirror_mode": {
    "name": "ipython",
    "version": 3
   },
   "file_extension": ".py",
   "mimetype": "text/x-python",
   "name": "python",
   "nbconvert_exporter": "python",
   "pygments_lexer": "ipython3",
   "version": "3.9.13"
  }
 },
 "nbformat": 4,
 "nbformat_minor": 4
}
