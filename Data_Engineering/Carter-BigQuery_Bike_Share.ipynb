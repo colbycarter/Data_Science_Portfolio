{
 "cells": [
  {
   "cell_type": "markdown",
   "metadata": {},
   "source": [
    "# Bay Area Bike Share Trips - Data Analysis Using Google BigQuery\n",
    "\n",
    "### Author: Colby Carter\n",
    "### Date: 6/18/2018"
   ]
  },
  {
   "cell_type": "markdown",
   "metadata": {},
   "source": [
    "## Purpose\n",
    "\n",
    "Through this exercise, we seek to analyze the publicly available Bay Area Bike Share data by accessing Google's BigQuery from the command line. Specifically, we explore the most popular trips that could be called _commuter trips_ and recommend which types of passes would appear to attract the most ridership."
   ]
  },
  {
   "cell_type": "markdown",
   "metadata": {},
   "source": [
    "## Summarize Bike Share Trips Dataset\n",
    "\n",
    "There are three public bike share datasets: one on the _trips_ themselves, including start and end location and time information; one with key bike _station_ information, such as number of bike docks; and one with time-stamped snapshots of station _status_ and bike availability. For our questions, we will focus on the trips data, with a confirmation of docking status at popular stations."
   ]
  },
  {
   "cell_type": "code",
   "execution_count": 1,
   "metadata": {},
   "outputs": [],
   "source": [
    "# import libraries\n",
    "import pandas as pd\n",
    "import numpy as np\n",
    "%matplotlib inline\n",
    "\n",
    "import matplotlib.pyplot as plt"
   ]
  },
  {
   "cell_type": "markdown",
   "metadata": {},
   "source": [
    "We first look at the top of the trips dataset. The schema includes a unique identifier for each trip, a start and end station location and timestamp, a duration of the trip in seconds, the number of the bike used, and limited information on the customer."
   ]
  },
  {
   "cell_type": "code",
   "execution_count": 59,
   "metadata": {},
   "outputs": [
    {
     "name": "stderr",
     "output_type": "stream",
     "text": [
      "\r",
      "Waiting on bqjob_r7d4f885923dcc92f_0000016406bd1160_1 ... (0s) Current status: DONE   "
     ]
    }
   ],
   "source": [
    "%%bash\n",
    "bq query --use_legacy_sql=FALSE --format=csv '\n",
    "SELECT * \n",
    "  FROM `bigquery-public-data.san_francisco.bikeshare_trips`\n",
    "  LIMIT 5' > result.csv"
   ]
  },
  {
   "cell_type": "code",
   "execution_count": 60,
   "metadata": {
    "scrolled": true
   },
   "outputs": [
    {
     "data": {
      "text/html": [
       "<div>\n",
       "<style scoped>\n",
       "    .dataframe tbody tr th:only-of-type {\n",
       "        vertical-align: middle;\n",
       "    }\n",
       "\n",
       "    .dataframe tbody tr th {\n",
       "        vertical-align: top;\n",
       "    }\n",
       "\n",
       "    .dataframe thead th {\n",
       "        text-align: right;\n",
       "    }\n",
       "</style>\n",
       "<table border=\"1\" class=\"dataframe\">\n",
       "  <thead>\n",
       "    <tr style=\"text-align: right;\">\n",
       "      <th></th>\n",
       "      <th>trip_id</th>\n",
       "      <th>duration_sec</th>\n",
       "      <th>start_date</th>\n",
       "      <th>start_station_name</th>\n",
       "      <th>start_station_id</th>\n",
       "      <th>end_date</th>\n",
       "      <th>end_station_name</th>\n",
       "      <th>end_station_id</th>\n",
       "      <th>bike_number</th>\n",
       "      <th>zip_code</th>\n",
       "      <th>subscriber_type</th>\n",
       "    </tr>\n",
       "  </thead>\n",
       "  <tbody>\n",
       "    <tr>\n",
       "      <th>0</th>\n",
       "      <td>944732</td>\n",
       "      <td>2618</td>\n",
       "      <td>2015-09-24 17:22:00</td>\n",
       "      <td>Mezes</td>\n",
       "      <td>83</td>\n",
       "      <td>2015-09-24 18:06:00</td>\n",
       "      <td>Mezes</td>\n",
       "      <td>83</td>\n",
       "      <td>653</td>\n",
       "      <td>94063</td>\n",
       "      <td>Customer</td>\n",
       "    </tr>\n",
       "    <tr>\n",
       "      <th>1</th>\n",
       "      <td>984595</td>\n",
       "      <td>5957</td>\n",
       "      <td>2015-10-25 18:12:00</td>\n",
       "      <td>Mezes</td>\n",
       "      <td>83</td>\n",
       "      <td>2015-10-25 19:51:00</td>\n",
       "      <td>Mezes</td>\n",
       "      <td>83</td>\n",
       "      <td>52</td>\n",
       "      <td>nil</td>\n",
       "      <td>Customer</td>\n",
       "    </tr>\n",
       "    <tr>\n",
       "      <th>2</th>\n",
       "      <td>984596</td>\n",
       "      <td>5913</td>\n",
       "      <td>2015-10-25 18:13:00</td>\n",
       "      <td>Mezes</td>\n",
       "      <td>83</td>\n",
       "      <td>2015-10-25 19:51:00</td>\n",
       "      <td>Mezes</td>\n",
       "      <td>83</td>\n",
       "      <td>121</td>\n",
       "      <td>nil</td>\n",
       "      <td>Customer</td>\n",
       "    </tr>\n",
       "    <tr>\n",
       "      <th>3</th>\n",
       "      <td>1129385</td>\n",
       "      <td>6079</td>\n",
       "      <td>2016-03-18 10:33:00</td>\n",
       "      <td>Mezes</td>\n",
       "      <td>83</td>\n",
       "      <td>2016-03-18 12:14:00</td>\n",
       "      <td>Mezes</td>\n",
       "      <td>83</td>\n",
       "      <td>208</td>\n",
       "      <td>94070</td>\n",
       "      <td>Customer</td>\n",
       "    </tr>\n",
       "    <tr>\n",
       "      <th>4</th>\n",
       "      <td>1030383</td>\n",
       "      <td>5780</td>\n",
       "      <td>2015-12-06 10:52:00</td>\n",
       "      <td>Mezes</td>\n",
       "      <td>83</td>\n",
       "      <td>2015-12-06 12:28:00</td>\n",
       "      <td>Mezes</td>\n",
       "      <td>83</td>\n",
       "      <td>44</td>\n",
       "      <td>94064</td>\n",
       "      <td>Customer</td>\n",
       "    </tr>\n",
       "  </tbody>\n",
       "</table>\n",
       "</div>"
      ],
      "text/plain": [
       "   trip_id  duration_sec           start_date start_station_name  \\\n",
       "0   944732          2618  2015-09-24 17:22:00              Mezes   \n",
       "1   984595          5957  2015-10-25 18:12:00              Mezes   \n",
       "2   984596          5913  2015-10-25 18:13:00              Mezes   \n",
       "3  1129385          6079  2016-03-18 10:33:00              Mezes   \n",
       "4  1030383          5780  2015-12-06 10:52:00              Mezes   \n",
       "\n",
       "   start_station_id             end_date end_station_name  end_station_id  \\\n",
       "0                83  2015-09-24 18:06:00            Mezes              83   \n",
       "1                83  2015-10-25 19:51:00            Mezes              83   \n",
       "2                83  2015-10-25 19:51:00            Mezes              83   \n",
       "3                83  2016-03-18 12:14:00            Mezes              83   \n",
       "4                83  2015-12-06 12:28:00            Mezes              83   \n",
       "\n",
       "   bike_number zip_code subscriber_type  \n",
       "0          653    94063        Customer  \n",
       "1           52      nil        Customer  \n",
       "2          121      nil        Customer  \n",
       "3          208    94070        Customer  \n",
       "4           44    94064        Customer  "
      ]
     },
     "execution_count": 60,
     "metadata": {},
     "output_type": "execute_result"
    }
   ],
   "source": [
    "top_5 = pd.read_csv('result.csv')\n",
    "top_5"
   ]
  },
  {
   "cell_type": "markdown",
   "metadata": {},
   "source": [
    "These data include **983,648 trips** over a three year period from August 29, 2013 through August 31, 2016."
   ]
  },
  {
   "cell_type": "code",
   "execution_count": 3,
   "metadata": {},
   "outputs": [
    {
     "name": "stdout",
     "output_type": "stream",
     "text": [
      "\n",
      "Total_trips\n",
      "983648\n"
     ]
    },
    {
     "name": "stderr",
     "output_type": "stream",
     "text": [
      "\r",
      "Waiting on bqjob_r704d9d455b1b6664_0000016411100e1d_1 ... (0s) Current status: RUNNING\r",
      "                                                                                      \r",
      "Waiting on bqjob_r704d9d455b1b6664_0000016411100e1d_1 ... (0s) Current status: DONE   "
     ]
    }
   ],
   "source": [
    "%%bash\n",
    "bq query --use_legacy_sql=FALSE --format=csv '\n",
    "SELECT count(*) as Total_trips \n",
    "  FROM `bigquery-public-data.san_francisco.bikeshare_trips`'"
   ]
  },
  {
   "cell_type": "code",
   "execution_count": 4,
   "metadata": {},
   "outputs": [
    {
     "name": "stderr",
     "output_type": "stream",
     "text": [
      "\r",
      "Waiting on bqjob_r509bc526f7efd113_000001640feb1638_1 ... (0s) Current status: DONE   "
     ]
    }
   ],
   "source": [
    "%%bash\n",
    "bq query --use_legacy_sql=FALSE --format=csv '\n",
    "SELECT min(start_date) AS first_trip, max(end_date) AS last_return \n",
    "  FROM `bigquery-public-data.san_francisco.bikeshare_trips`' > result.csv"
   ]
  },
  {
   "cell_type": "code",
   "execution_count": 5,
   "metadata": {},
   "outputs": [
    {
     "data": {
      "text/html": [
       "<div>\n",
       "<style scoped>\n",
       "    .dataframe tbody tr th:only-of-type {\n",
       "        vertical-align: middle;\n",
       "    }\n",
       "\n",
       "    .dataframe tbody tr th {\n",
       "        vertical-align: top;\n",
       "    }\n",
       "\n",
       "    .dataframe thead th {\n",
       "        text-align: right;\n",
       "    }\n",
       "</style>\n",
       "<table border=\"1\" class=\"dataframe\">\n",
       "  <thead>\n",
       "    <tr style=\"text-align: right;\">\n",
       "      <th></th>\n",
       "      <th>first_trip</th>\n",
       "      <th>last_return</th>\n",
       "    </tr>\n",
       "  </thead>\n",
       "  <tbody>\n",
       "    <tr>\n",
       "      <th>0</th>\n",
       "      <td>2013-08-29 09:08:00</td>\n",
       "      <td>2016-08-31 23:48:00</td>\n",
       "    </tr>\n",
       "  </tbody>\n",
       "</table>\n",
       "</div>"
      ],
      "text/plain": [
       "            first_trip          last_return\n",
       "0  2013-08-29 09:08:00  2016-08-31 23:48:00"
      ]
     },
     "execution_count": 5,
     "metadata": {},
     "output_type": "execute_result"
    }
   ],
   "source": [
    "period = pd.read_csv('result.csv')\n",
    "period"
   ]
  },
  {
   "cell_type": "markdown",
   "metadata": {},
   "source": [
    "We see that there are **84** distinct bike station locations across the Bay Area, and already we see evidence that bike-share users overwhelmingly prefer longer-term passes to one-off rides, with 86% of trips taken by subscribers (customers with 1-month or annual passes), not one-time trip purchases. "
   ]
  },
  {
   "cell_type": "code",
   "execution_count": 2,
   "metadata": {},
   "outputs": [
    {
     "name": "stdout",
     "output_type": "stream",
     "text": [
      "\n",
      "Stations\n",
      "84\n"
     ]
    },
    {
     "name": "stderr",
     "output_type": "stream",
     "text": [
      "\r",
      "Waiting on bqjob_r11af572cc628a094_00000164110fefe8_1 ... (0s) Current status: RUNNING\r",
      "                                                                                      \r",
      "Waiting on bqjob_r11af572cc628a094_00000164110fefe8_1 ... (0s) Current status: DONE   "
     ]
    }
   ],
   "source": [
    "%%bash\n",
    "bq query --use_legacy_sql=FALSE --format=csv '\n",
    "SELECT count(distinct start_station_name) as Stations\n",
    "    FROM `bigquery-public-data.san_francisco.bikeshare_trips`'"
   ]
  },
  {
   "cell_type": "code",
   "execution_count": 35,
   "metadata": {},
   "outputs": [
    {
     "name": "stderr",
     "output_type": "stream",
     "text": [
      "\r",
      "Waiting on bqjob_r21125a9ccb87c711_000001640e31f596_1 ... (0s) Current status: RUNNING\r",
      "                                                                                      \r",
      "Waiting on bqjob_r21125a9ccb87c711_000001640e31f596_1 ... (0s) Current status: DONE   "
     ]
    }
   ],
   "source": [
    "%%bash\n",
    "bq query --use_legacy_sql=FALSE --format=csv '\n",
    "SELECT subscriber_type, count(*) as count\n",
    "    FROM `bigquery-public-data.san_francisco.bikeshare_trips`\n",
    "    GROUP BY 1' > result.csv"
   ]
  },
  {
   "cell_type": "code",
   "execution_count": 36,
   "metadata": {},
   "outputs": [
    {
     "data": {
      "text/html": [
       "<div>\n",
       "<style scoped>\n",
       "    .dataframe tbody tr th:only-of-type {\n",
       "        vertical-align: middle;\n",
       "    }\n",
       "\n",
       "    .dataframe tbody tr th {\n",
       "        vertical-align: top;\n",
       "    }\n",
       "\n",
       "    .dataframe thead th {\n",
       "        text-align: right;\n",
       "    }\n",
       "</style>\n",
       "<table border=\"1\" class=\"dataframe\">\n",
       "  <thead>\n",
       "    <tr style=\"text-align: right;\">\n",
       "      <th></th>\n",
       "      <th>subscriber_type</th>\n",
       "      <th>count</th>\n",
       "    </tr>\n",
       "  </thead>\n",
       "  <tbody>\n",
       "    <tr>\n",
       "      <th>0</th>\n",
       "      <td>Customer</td>\n",
       "      <td>136809</td>\n",
       "    </tr>\n",
       "    <tr>\n",
       "      <th>1</th>\n",
       "      <td>Subscriber</td>\n",
       "      <td>846839</td>\n",
       "    </tr>\n",
       "  </tbody>\n",
       "</table>\n",
       "</div>"
      ],
      "text/plain": [
       "  subscriber_type   count\n",
       "0        Customer  136809\n",
       "1      Subscriber  846839"
      ]
     },
     "execution_count": 36,
     "metadata": {},
     "output_type": "execute_result"
    }
   ],
   "source": [
    "customers = pd.read_csv('result.csv')\n",
    "customers"
   ]
  },
  {
   "cell_type": "markdown",
   "metadata": {},
   "source": [
    "## Timing of Trips\n",
    "\n",
    "Knowing the number of trips and types of customers, span of the data, and a sense of the geography, we now look to the timing of trips for more evidence of commuter trips and preferences of the customer base. Dividing the dataset into trips started before versus after noon, we see a fairly close balance, with about 42% of trips made in the morning."
   ]
  },
  {
   "cell_type": "code",
   "execution_count": 55,
   "metadata": {},
   "outputs": [
    {
     "name": "stderr",
     "output_type": "stream",
     "text": [
      "\r",
      "Waiting on bqjob_r32ab02d6ae4bfa95_0000016406bb3133_1 ... (0s) Current status: DONE   "
     ]
    }
   ],
   "source": [
    "%%bash\n",
    "bq query --use_legacy_sql=FALSE --format=csv '\n",
    "SELECT sum(case when EXTRACT(HOUR FROM start_date) < 12 then 1 else 0 end) as morning_trips, \n",
    "    sum(case when EXTRACT(HOUR FROM start_date) >= 12 then 1 else 0 end) as afternoon_trips \n",
    "    FROM `bigquery-public-data.san_francisco.bikeshare_trips`'  > result.csv"
   ]
  },
  {
   "cell_type": "code",
   "execution_count": 56,
   "metadata": {},
   "outputs": [
    {
     "data": {
      "text/html": [
       "<div>\n",
       "<style scoped>\n",
       "    .dataframe tbody tr th:only-of-type {\n",
       "        vertical-align: middle;\n",
       "    }\n",
       "\n",
       "    .dataframe tbody tr th {\n",
       "        vertical-align: top;\n",
       "    }\n",
       "\n",
       "    .dataframe thead th {\n",
       "        text-align: right;\n",
       "    }\n",
       "</style>\n",
       "<table border=\"1\" class=\"dataframe\">\n",
       "  <thead>\n",
       "    <tr style=\"text-align: right;\">\n",
       "      <th></th>\n",
       "      <th>morning_trips</th>\n",
       "      <th>afternoon_trips</th>\n",
       "    </tr>\n",
       "  </thead>\n",
       "  <tbody>\n",
       "    <tr>\n",
       "      <th>0</th>\n",
       "      <td>412339</td>\n",
       "      <td>571309</td>\n",
       "    </tr>\n",
       "  </tbody>\n",
       "</table>\n",
       "</div>"
      ],
      "text/plain": [
       "   morning_trips  afternoon_trips\n",
       "0         412339           571309"
      ]
     },
     "execution_count": 56,
     "metadata": {},
     "output_type": "execute_result"
    }
   ],
   "source": [
    "time_of_day = pd.read_csv('result.csv')\n",
    "time_of_day"
   ]
  },
  {
   "cell_type": "markdown",
   "metadata": {},
   "source": [
    "With a high volume of morning trips, we might expect weekday usage from inbound commutes to exceed weekend usage, with any given weekday yielding roughly three times as many trips as a weekend day. This gives more evidence that much of the customer base is using the service to commute to work."
   ]
  },
  {
   "cell_type": "code",
   "execution_count": 57,
   "metadata": {},
   "outputs": [
    {
     "name": "stderr",
     "output_type": "stream",
     "text": [
      "\r",
      "Waiting on bqjob_r77adbfe19dba9f11_0000016406bb60ed_1 ... (0s) Current status: DONE   "
     ]
    }
   ],
   "source": [
    "%%bash\n",
    "bq query --use_legacy_sql=FALSE --format=csv '\n",
    "SELECT FORMAT_DATE(\"%A\", DATE(start_date)) AS day_of_week, COUNT(*) AS trips\n",
    "    FROM `bigquery-public-data.san_francisco.bikeshare_trips` \n",
    "    GROUP BY 1\n",
    "    ORDER BY 2 desc' > result.csv"
   ]
  },
  {
   "cell_type": "code",
   "execution_count": 58,
   "metadata": {},
   "outputs": [
    {
     "data": {
      "text/html": [
       "<div>\n",
       "<style scoped>\n",
       "    .dataframe tbody tr th:only-of-type {\n",
       "        vertical-align: middle;\n",
       "    }\n",
       "\n",
       "    .dataframe tbody tr th {\n",
       "        vertical-align: top;\n",
       "    }\n",
       "\n",
       "    .dataframe thead th {\n",
       "        text-align: right;\n",
       "    }\n",
       "</style>\n",
       "<table border=\"1\" class=\"dataframe\">\n",
       "  <thead>\n",
       "    <tr style=\"text-align: right;\">\n",
       "      <th></th>\n",
       "      <th>day_of_week</th>\n",
       "      <th>trips</th>\n",
       "    </tr>\n",
       "  </thead>\n",
       "  <tbody>\n",
       "    <tr>\n",
       "      <th>0</th>\n",
       "      <td>Tuesday</td>\n",
       "      <td>184405</td>\n",
       "    </tr>\n",
       "    <tr>\n",
       "      <th>1</th>\n",
       "      <td>Wednesday</td>\n",
       "      <td>180767</td>\n",
       "    </tr>\n",
       "    <tr>\n",
       "      <th>2</th>\n",
       "      <td>Thursday</td>\n",
       "      <td>176908</td>\n",
       "    </tr>\n",
       "    <tr>\n",
       "      <th>3</th>\n",
       "      <td>Monday</td>\n",
       "      <td>169937</td>\n",
       "    </tr>\n",
       "    <tr>\n",
       "      <th>4</th>\n",
       "      <td>Friday</td>\n",
       "      <td>159977</td>\n",
       "    </tr>\n",
       "    <tr>\n",
       "      <th>5</th>\n",
       "      <td>Saturday</td>\n",
       "      <td>60279</td>\n",
       "    </tr>\n",
       "    <tr>\n",
       "      <th>6</th>\n",
       "      <td>Sunday</td>\n",
       "      <td>51375</td>\n",
       "    </tr>\n",
       "  </tbody>\n",
       "</table>\n",
       "</div>"
      ],
      "text/plain": [
       "  day_of_week   trips\n",
       "0     Tuesday  184405\n",
       "1   Wednesday  180767\n",
       "2    Thursday  176908\n",
       "3      Monday  169937\n",
       "4      Friday  159977\n",
       "5    Saturday   60279\n",
       "6      Sunday   51375"
      ]
     },
     "execution_count": 58,
     "metadata": {},
     "output_type": "execute_result"
    }
   ],
   "source": [
    "day_of_week = pd.read_csv('result.csv')\n",
    "day_of_week"
   ]
  },
  {
   "cell_type": "markdown",
   "metadata": {},
   "source": [
    "We also want to verify whether there is any significant seasonal variation in usage. While there does appear to be a decline of usage in winter months, particularly December, it does not seem so severe to suggest an annual pass would sell poorly."
   ]
  },
  {
   "cell_type": "code",
   "execution_count": 7,
   "metadata": {},
   "outputs": [
    {
     "name": "stderr",
     "output_type": "stream",
     "text": [
      "\r",
      "Waiting on bqjob_r62aa2f6d23194196_000001640942ff32_1 ... (0s) Current status: DONE   "
     ]
    }
   ],
   "source": [
    "%%bash\n",
    "bq query --use_legacy_sql=FALSE --format=csv '\n",
    "SELECT EXTRACT(month FROM start_date) AS month, COUNT(*) AS trips\n",
    "    FROM `bigquery-public-data.san_francisco.bikeshare_trips` \n",
    "    GROUP BY 1\n",
    "    ORDER BY 1' > result.csv"
   ]
  },
  {
   "cell_type": "code",
   "execution_count": 18,
   "metadata": {
    "scrolled": false
   },
   "outputs": [
    {
     "data": {
      "text/plain": [
       "<matplotlib.axes._subplots.AxesSubplot at 0x7f6d9c42d630>"
      ]
     },
     "execution_count": 18,
     "metadata": {},
     "output_type": "execute_result"
    },
    {
     "data": {
      "image/png": "[encoded data removed]",
      "text/plain": [
       "<Figure size 432x288 with 1 Axes>"
      ]
     },
     "metadata": {},
     "output_type": "display_data"
    }
   ],
   "source": [
    "monthly = pd.read_csv('result.csv')\n",
    "monthly.plot(x=\"month\", y=\"trips\", kind='bar', title=\"Total Trips by Month\", colormap='Blues_r')"
   ]
  },
  {
   "cell_type": "markdown",
   "metadata": {},
   "source": [
    "Looking more closely at the day of the week and time of day usage, we immediately see the largest contributions coming from peaks around the typical commuting hours of _8am_ and _5pm_. The _8am_ hour alone _during the week_ accounts for over **130,000** trips, or 13% of the data. With two roughly bell-shaped distributions around _8am_ and _5pm_, it is likely that many afternoon rides are return trips--with usage tapering off as the evening goes on."
   ]
  },
  {
   "cell_type": "code",
   "execution_count": 5,
   "metadata": {},
   "outputs": [
    {
     "name": "stderr",
     "output_type": "stream",
     "text": [
      "\r",
      "Waiting on bqjob_r3a8cd9a70414d4a7_0000016411148da9_1 ... (0s) Current status: DONE   "
     ]
    }
   ],
   "source": [
    "%%bash\n",
    "bq query --use_legacy_sql=FALSE --format=csv '\n",
    "SELECT EXTRACT(hour FROM start_date) AS hour, COUNT(*) AS trips\n",
    "    FROM `bigquery-public-data.san_francisco.bikeshare_trips`\n",
    "    WHERE FORMAT_DATE(\"%A\", DATE(start_date)) NOT in (\"Saturday\", \"Sunday\")\n",
    "    GROUP BY 1\n",
    "    ORDER BY 1 asc ' > result.csv"
   ]
  },
  {
   "cell_type": "code",
   "execution_count": 6,
   "metadata": {},
   "outputs": [
    {
     "data": {
      "text/plain": [
       "<matplotlib.axes._subplots.AxesSubplot at 0x7f1f67dbf358>"
      ]
     },
     "execution_count": 6,
     "metadata": {},
     "output_type": "execute_result"
    },
    {
     "data": {
      "image/png": "[encoded data removed]",
      "text/plain": [
       "<Figure size 432x288 with 1 Axes>"
      ]
     },
     "metadata": {},
     "output_type": "display_data"
    }
   ],
   "source": [
    "# hour zero is midnight hour\n",
    "hourly = pd.read_csv('result.csv')\n",
    "hourly.plot(x=\"hour\", y=\"trips\", kind='bar', title=\"Total Trips by Hour - Weekdays\", colormap='Greens_r', ylim=(0,135000))"
   ]
  },
  {
   "cell_type": "markdown",
   "metadata": {},
   "source": [
    "As expected, when we isolate weekend usage, we see much lower volume with a more uniform distribution of ride times. These trips are likely made by pay-per-ride customers with higher frequency than those during the week around typical commuting hours."
   ]
  },
  {
   "cell_type": "code",
   "execution_count": 26,
   "metadata": {},
   "outputs": [
    {
     "name": "stderr",
     "output_type": "stream",
     "text": [
      "\r",
      "Waiting on bqjob_r63d348c70b1bd080_000001640dbad9e2_1 ... (0s) Current status: DONE   "
     ]
    }
   ],
   "source": [
    "%%bash\n",
    "bq query --use_legacy_sql=FALSE --format=csv '\n",
    "SELECT EXTRACT(hour FROM start_date) AS hour, COUNT(*) AS trips\n",
    "    FROM `bigquery-public-data.san_francisco.bikeshare_trips` \n",
    "    WHERE FORMAT_DATE(\"%A\", DATE(start_date)) in (\"Saturday\", \"Sunday\")\n",
    "    GROUP BY 1\n",
    "    ORDER BY 1 asc ' > result.csv"
   ]
  },
  {
   "cell_type": "code",
   "execution_count": 28,
   "metadata": {
    "scrolled": true
   },
   "outputs": [
    {
     "data": {
      "text/plain": [
       "<matplotlib.axes._subplots.AxesSubplot at 0x7f5d0009a2b0>"
      ]
     },
     "execution_count": 28,
     "metadata": {},
     "output_type": "execute_result"
    },
    {
     "data": {
      "image/png": "[encoded data removed]",
      "text/plain": [
       "<Figure size 432x288 with 1 Axes>"
      ]
     },
     "metadata": {},
     "output_type": "display_data"
    }
   ],
   "source": [
    "weekends = pd.read_csv('result.csv')\n",
    "weekends.plot(x=\"hour\", y=\"trips\", kind='bar', title=\"Total Trips by Hour - Weekends\", colormap='Greens_r', ylim=(0,135000))"
   ]
  },
  {
   "cell_type": "markdown",
   "metadata": {},
   "source": [
    "Lastly for seasonality, we comfirm whether the multimodal distribution of the weekday travel is sustained through the colder winter months. This suggests that many customers are not substituting to alternative transit methods and may be happy with an annual commuter pass."
   ]
  },
  {
   "cell_type": "code",
   "execution_count": 29,
   "metadata": {},
   "outputs": [
    {
     "name": "stderr",
     "output_type": "stream",
     "text": [
      "\r",
      "Waiting on bqjob_r59e88466ce65dcf3_000001640dc3b250_1 ... (0s) Current status: RUNNING\r",
      "                                                                                      \r",
      "Waiting on bqjob_r59e88466ce65dcf3_000001640dc3b250_1 ... (1s) Current status: RUNNING\r",
      "                                                                                      \r",
      "Waiting on bqjob_r59e88466ce65dcf3_000001640dc3b250_1 ... (2s) Current status: RUNNING\r",
      "                                                                                      \r",
      "Waiting on bqjob_r59e88466ce65dcf3_000001640dc3b250_1 ... (2s) Current status: DONE   "
     ]
    }
   ],
   "source": [
    "%%bash\n",
    "bq query --use_legacy_sql=FALSE --format=csv '\n",
    "SELECT EXTRACT(hour FROM start_date) AS hour, COUNT(*) AS trips\n",
    "    FROM `bigquery-public-data.san_francisco.bikeshare_trips`\n",
    "    WHERE FORMAT_DATE(\"%A\", DATE(start_date)) NOT in (\"Saturday\", \"Sunday\")\n",
    "        AND EXTRACT(month FROM start_date) in (12, 1, 2)\n",
    "    GROUP BY 1\n",
    "    ORDER BY 1 asc ' > result.csv"
   ]
  },
  {
   "cell_type": "code",
   "execution_count": 30,
   "metadata": {},
   "outputs": [
    {
     "data": {
      "text/plain": [
       "<matplotlib.axes._subplots.AxesSubplot at 0x7f5d000aa438>"
      ]
     },
     "execution_count": 30,
     "metadata": {},
     "output_type": "execute_result"
    },
    {
     "data": {
      "image/png": "[encoded data removed]",
      "text/plain": [
       "<Figure size 432x288 with 1 Axes>"
      ]
     },
     "metadata": {},
     "output_type": "display_data"
    }
   ],
   "source": [
    "winter = pd.read_csv('result.csv')\n",
    "winter.plot(x=\"hour\", y=\"trips\", kind='bar', title=\"Total Trips by Hour - Winter Weekdays\", colormap='Greens_r', ylim=(0,135000))"
   ]
  },
  {
   "cell_type": "markdown",
   "metadata": {},
   "source": [
    "Consistent with these trends, we see that the vast majority of trips are under 25 minutes, which is a reasonable expectation for commuters given the much longer transit alternatives."
   ]
  },
  {
   "cell_type": "code",
   "execution_count": 7,
   "metadata": {},
   "outputs": [
    {
     "name": "stderr",
     "output_type": "stream",
     "text": [
      "\r",
      "Waiting on bqjob_r479918bddcb1d16d_000001641117dc08_1 ... (0s) Current status: RUNNING\r",
      "                                                                                      \r",
      "Waiting on bqjob_r479918bddcb1d16d_000001641117dc08_1 ... (1s) Current status: RUNNING\r",
      "                                                                                      \r",
      "Waiting on bqjob_r479918bddcb1d16d_000001641117dc08_1 ... (2s) Current status: RUNNING\r",
      "                                                                                      \r",
      "Waiting on bqjob_r479918bddcb1d16d_000001641117dc08_1 ... (2s) Current status: DONE   "
     ]
    }
   ],
   "source": [
    "%%bash\n",
    "bq query --use_legacy_sql=FALSE --max_rows=1000000 --format=csv '\n",
    "SELECT duration_sec / 60.0 as duration_min\n",
    "FROM `bigquery-public-data.san_francisco.bikeshare_trips`\n",
    "WHERE duration_sec < 6000' > result.csv"
   ]
  },
  {
   "cell_type": "code",
   "execution_count": 8,
   "metadata": {},
   "outputs": [
    {
     "data": {
      "text/plain": [
       "array([[<matplotlib.axes._subplots.AxesSubplot object at 0x7f1f67d58d68>]],\n",
       "      dtype=object)"
      ]
     },
     "execution_count": 8,
     "metadata": {},
     "output_type": "execute_result"
    },
    {
     "data": {
      "image/png": "[encoded data removed]",
      "text/plain": [
       "<Figure size 432x288 with 1 Axes>"
      ]
     },
     "metadata": {},
     "output_type": "display_data"
    }
   ],
   "source": [
    "times = pd.read_csv('result.csv')\n",
    "times.hist(bins=20)"
   ]
  },
  {
   "cell_type": "markdown",
   "metadata": {},
   "source": [
    "## Geography of Trips\n",
    "\n",
    "With strong evidence that much of the customer base is using the bike share system for weekday commutes, we look to identify which station-to-station trips, as well as round trips, are driving usage, with a check of whether there are enough bikes available at these locations on average.\n",
    "\n",
    "The top ten departure stations alone (out of 84 total stations) account for over 430,000 trips, or nearly half. They also mostly concentrate around a few key areas: _San Francisco Caltrain, Harry Bridges Plaza, Townsend, Market_, and _Sansome_ streets."
   ]
  },
  {
   "cell_type": "code",
   "execution_count": 41,
   "metadata": {},
   "outputs": [
    {
     "name": "stderr",
     "output_type": "stream",
     "text": [
      "\r",
      "Waiting on bqjob_r6eac7c6b8b41b603_0000016409d8e608_1 ... (0s) Current status: DONE   "
     ]
    }
   ],
   "source": [
    "%%bash\n",
    "bq query --use_legacy_sql=FALSE --format=csv '\n",
    "SELECT start_station_name, count(*) as trips\n",
    "    FROM `bigquery-public-data.san_francisco.bikeshare_trips`\n",
    "    GROUP BY 1\n",
    "    ORDER BY 2 desc LIMIT 10' > result.csv"
   ]
  },
  {
   "cell_type": "code",
   "execution_count": 42,
   "metadata": {},
   "outputs": [
    {
     "data": {
      "text/html": [
       "<div>\n",
       "<style scoped>\n",
       "    .dataframe tbody tr th:only-of-type {\n",
       "        vertical-align: middle;\n",
       "    }\n",
       "\n",
       "    .dataframe tbody tr th {\n",
       "        vertical-align: top;\n",
       "    }\n",
       "\n",
       "    .dataframe thead th {\n",
       "        text-align: right;\n",
       "    }\n",
       "</style>\n",
       "<table border=\"1\" class=\"dataframe\">\n",
       "  <thead>\n",
       "    <tr style=\"text-align: right;\">\n",
       "      <th></th>\n",
       "      <th>start_station_name</th>\n",
       "      <th>trips</th>\n",
       "    </tr>\n",
       "  </thead>\n",
       "  <tbody>\n",
       "    <tr>\n",
       "      <th>0</th>\n",
       "      <td>San Francisco Caltrain (Townsend at 4th)</td>\n",
       "      <td>72683</td>\n",
       "    </tr>\n",
       "    <tr>\n",
       "      <th>1</th>\n",
       "      <td>San Francisco Caltrain 2 (330 Townsend)</td>\n",
       "      <td>56100</td>\n",
       "    </tr>\n",
       "    <tr>\n",
       "      <th>2</th>\n",
       "      <td>Harry Bridges Plaza (Ferry Building)</td>\n",
       "      <td>49062</td>\n",
       "    </tr>\n",
       "    <tr>\n",
       "      <th>3</th>\n",
       "      <td>Embarcadero at Sansome</td>\n",
       "      <td>41137</td>\n",
       "    </tr>\n",
       "    <tr>\n",
       "      <th>4</th>\n",
       "      <td>2nd at Townsend</td>\n",
       "      <td>39936</td>\n",
       "    </tr>\n",
       "    <tr>\n",
       "      <th>5</th>\n",
       "      <td>Temporary Transbay Terminal (Howard at Beale)</td>\n",
       "      <td>39200</td>\n",
       "    </tr>\n",
       "    <tr>\n",
       "      <th>6</th>\n",
       "      <td>Steuart at Market</td>\n",
       "      <td>38531</td>\n",
       "    </tr>\n",
       "    <tr>\n",
       "      <th>7</th>\n",
       "      <td>Market at Sansome</td>\n",
       "      <td>35142</td>\n",
       "    </tr>\n",
       "    <tr>\n",
       "      <th>8</th>\n",
       "      <td>Townsend at 7th</td>\n",
       "      <td>34894</td>\n",
       "    </tr>\n",
       "    <tr>\n",
       "      <th>9</th>\n",
       "      <td>Market at 10th</td>\n",
       "      <td>30209</td>\n",
       "    </tr>\n",
       "  </tbody>\n",
       "</table>\n",
       "</div>"
      ],
      "text/plain": [
       "                              start_station_name  trips\n",
       "0       San Francisco Caltrain (Townsend at 4th)  72683\n",
       "1        San Francisco Caltrain 2 (330 Townsend)  56100\n",
       "2           Harry Bridges Plaza (Ferry Building)  49062\n",
       "3                         Embarcadero at Sansome  41137\n",
       "4                                2nd at Townsend  39936\n",
       "5  Temporary Transbay Terminal (Howard at Beale)  39200\n",
       "6                              Steuart at Market  38531\n",
       "7                              Market at Sansome  35142\n",
       "8                                Townsend at 7th  34894\n",
       "9                                 Market at 10th  30209"
      ]
     },
     "execution_count": 42,
     "metadata": {},
     "output_type": "execute_result"
    }
   ],
   "source": [
    "starts = pd.read_csv('result.csv')\n",
    "starts.head(10)"
   ]
  },
  {
   "cell_type": "code",
   "execution_count": 47,
   "metadata": {},
   "outputs": [
    {
     "data": {
      "text/plain": [
       "436894"
      ]
     },
     "execution_count": 47,
     "metadata": {},
     "output_type": "execute_result"
    }
   ],
   "source": [
    "# total trips by top 10 start stations\n",
    "sum(starts[\"trips\"])"
   ]
  },
  {
   "cell_type": "markdown",
   "metadata": {},
   "source": [
    "The list of top destination stations and their trip frequencies look almost identical to those of departure stations, again giving evidence that a significant portion of these rides are parts of round-trip commutes. And similarly, the top ten arrival stations make up nearly half of all trips in the data."
   ]
  },
  {
   "cell_type": "code",
   "execution_count": 67,
   "metadata": {},
   "outputs": [
    {
     "name": "stderr",
     "output_type": "stream",
     "text": [
      "\r",
      "Waiting on bqjob_r5bd64fe5464bca86_000001640e7e3dc1_1 ... (0s) Current status: DONE   "
     ]
    }
   ],
   "source": [
    "%%bash\n",
    "bq query --use_legacy_sql=FALSE --format=csv '\n",
    "SELECT end_station_name, count(*) as trips\n",
    "    FROM `bigquery-public-data.san_francisco.bikeshare_trips`\n",
    "    GROUP BY 1\n",
    "    ORDER BY 2 desc LIMIT 10' > result.csv"
   ]
  },
  {
   "cell_type": "code",
   "execution_count": 68,
   "metadata": {},
   "outputs": [
    {
     "data": {
      "text/html": [
       "<div>\n",
       "<style scoped>\n",
       "    .dataframe tbody tr th:only-of-type {\n",
       "        vertical-align: middle;\n",
       "    }\n",
       "\n",
       "    .dataframe tbody tr th {\n",
       "        vertical-align: top;\n",
       "    }\n",
       "\n",
       "    .dataframe thead th {\n",
       "        text-align: right;\n",
       "    }\n",
       "</style>\n",
       "<table border=\"1\" class=\"dataframe\">\n",
       "  <thead>\n",
       "    <tr style=\"text-align: right;\">\n",
       "      <th></th>\n",
       "      <th>end_station_name</th>\n",
       "      <th>trips</th>\n",
       "    </tr>\n",
       "  </thead>\n",
       "  <tbody>\n",
       "    <tr>\n",
       "      <th>0</th>\n",
       "      <td>San Francisco Caltrain (Townsend at 4th)</td>\n",
       "      <td>92014</td>\n",
       "    </tr>\n",
       "    <tr>\n",
       "      <th>1</th>\n",
       "      <td>San Francisco Caltrain 2 (330 Townsend)</td>\n",
       "      <td>58713</td>\n",
       "    </tr>\n",
       "    <tr>\n",
       "      <th>2</th>\n",
       "      <td>Harry Bridges Plaza (Ferry Building)</td>\n",
       "      <td>50185</td>\n",
       "    </tr>\n",
       "    <tr>\n",
       "      <th>3</th>\n",
       "      <td>Embarcadero at Sansome</td>\n",
       "      <td>46197</td>\n",
       "    </tr>\n",
       "    <tr>\n",
       "      <th>4</th>\n",
       "      <td>2nd at Townsend</td>\n",
       "      <td>44145</td>\n",
       "    </tr>\n",
       "    <tr>\n",
       "      <th>5</th>\n",
       "      <td>Market at Sansome</td>\n",
       "      <td>40956</td>\n",
       "    </tr>\n",
       "    <tr>\n",
       "      <th>6</th>\n",
       "      <td>Steuart at Market</td>\n",
       "      <td>39598</td>\n",
       "    </tr>\n",
       "    <tr>\n",
       "      <th>7</th>\n",
       "      <td>Townsend at 7th</td>\n",
       "      <td>38545</td>\n",
       "    </tr>\n",
       "    <tr>\n",
       "      <th>8</th>\n",
       "      <td>Temporary Transbay Terminal (Howard at Beale)</td>\n",
       "      <td>35477</td>\n",
       "    </tr>\n",
       "    <tr>\n",
       "      <th>9</th>\n",
       "      <td>Market at 4th</td>\n",
       "      <td>26762</td>\n",
       "    </tr>\n",
       "  </tbody>\n",
       "</table>\n",
       "</div>"
      ],
      "text/plain": [
       "                                end_station_name  trips\n",
       "0       San Francisco Caltrain (Townsend at 4th)  92014\n",
       "1        San Francisco Caltrain 2 (330 Townsend)  58713\n",
       "2           Harry Bridges Plaza (Ferry Building)  50185\n",
       "3                         Embarcadero at Sansome  46197\n",
       "4                                2nd at Townsend  44145\n",
       "5                              Market at Sansome  40956\n",
       "6                              Steuart at Market  39598\n",
       "7                                Townsend at 7th  38545\n",
       "8  Temporary Transbay Terminal (Howard at Beale)  35477\n",
       "9                                  Market at 4th  26762"
      ]
     },
     "execution_count": 68,
     "metadata": {},
     "output_type": "execute_result"
    }
   ],
   "source": [
    "ends = pd.read_csv('result.csv')\n",
    "ends.head(10)"
   ]
  },
  {
   "cell_type": "code",
   "execution_count": 46,
   "metadata": {},
   "outputs": [
    {
     "data": {
      "text/plain": [
       "472592"
      ]
     },
     "execution_count": 46,
     "metadata": {},
     "output_type": "execute_result"
    }
   ],
   "source": [
    "# total trips by top 10 end stations\n",
    "sum(ends[\"trips\"])"
   ]
  },
  {
   "cell_type": "markdown",
   "metadata": {},
   "source": [
    "Top start and end station combinations--or routes--feature many combinations of the above stations, which is to say, the most popular departure stations do not strictly or uniformly lead to trips to just one or two destinations, but rather at least several. For example, _Harry Bridges Plaza (Ferry Building)_--the third most popular departing station--features the most frequent end-to-end route going to _Embarcadero at Sansome_, but this only accounts for 9,000 out of its 49,000 departing trips, or fewer than 20%. The top ten one-way routes make up nearly 70,000 trips, nearly 10% of the total.\n",
    "\n",
    "We do, however, see contenders for routes in which many riders could be returning to their original station, including _San Francisco Caltrain 2 (330 Townsend) and Townsend at 7th_--up to 6,836 potential round trips."
   ]
  },
  {
   "cell_type": "code",
   "execution_count": 6,
   "metadata": {},
   "outputs": [
    {
     "name": "stderr",
     "output_type": "stream",
     "text": [
      "\r",
      "Waiting on bqjob_r2090a513665939a8_000001640ff235d9_1 ... (0s) Current status: DONE   "
     ]
    }
   ],
   "source": [
    "%%bash\n",
    "bq query --use_legacy_sql=FALSE --format=csv '\n",
    "SELECT start_station_name, end_station_name, count(*) as trips\n",
    "    FROM `bigquery-public-data.san_francisco.bikeshare_trips`\n",
    "    GROUP BY start_station_name, end_station_name\n",
    "    ORDER BY trips desc \n",
    "    LIMIT 10' > result.csv"
   ]
  },
  {
   "cell_type": "code",
   "execution_count": 7,
   "metadata": {
    "scrolled": true
   },
   "outputs": [
    {
     "data": {
      "text/html": [
       "<div>\n",
       "<style scoped>\n",
       "    .dataframe tbody tr th:only-of-type {\n",
       "        vertical-align: middle;\n",
       "    }\n",
       "\n",
       "    .dataframe tbody tr th {\n",
       "        vertical-align: top;\n",
       "    }\n",
       "\n",
       "    .dataframe thead th {\n",
       "        text-align: right;\n",
       "    }\n",
       "</style>\n",
       "<table border=\"1\" class=\"dataframe\">\n",
       "  <thead>\n",
       "    <tr style=\"text-align: right;\">\n",
       "      <th></th>\n",
       "      <th>start_station_name</th>\n",
       "      <th>end_station_name</th>\n",
       "      <th>trips</th>\n",
       "    </tr>\n",
       "  </thead>\n",
       "  <tbody>\n",
       "    <tr>\n",
       "      <th>0</th>\n",
       "      <td>Harry Bridges Plaza (Ferry Building)</td>\n",
       "      <td>Embarcadero at Sansome</td>\n",
       "      <td>9150</td>\n",
       "    </tr>\n",
       "    <tr>\n",
       "      <th>1</th>\n",
       "      <td>San Francisco Caltrain 2 (330 Townsend)</td>\n",
       "      <td>Townsend at 7th</td>\n",
       "      <td>8508</td>\n",
       "    </tr>\n",
       "    <tr>\n",
       "      <th>2</th>\n",
       "      <td>2nd at Townsend</td>\n",
       "      <td>Harry Bridges Plaza (Ferry Building)</td>\n",
       "      <td>7620</td>\n",
       "    </tr>\n",
       "    <tr>\n",
       "      <th>3</th>\n",
       "      <td>Harry Bridges Plaza (Ferry Building)</td>\n",
       "      <td>2nd at Townsend</td>\n",
       "      <td>6888</td>\n",
       "    </tr>\n",
       "    <tr>\n",
       "      <th>4</th>\n",
       "      <td>Embarcadero at Sansome</td>\n",
       "      <td>Steuart at Market</td>\n",
       "      <td>6874</td>\n",
       "    </tr>\n",
       "    <tr>\n",
       "      <th>5</th>\n",
       "      <td>Townsend at 7th</td>\n",
       "      <td>San Francisco Caltrain 2 (330 Townsend)</td>\n",
       "      <td>6836</td>\n",
       "    </tr>\n",
       "    <tr>\n",
       "      <th>6</th>\n",
       "      <td>Embarcadero at Folsom</td>\n",
       "      <td>San Francisco Caltrain (Townsend at 4th)</td>\n",
       "      <td>6351</td>\n",
       "    </tr>\n",
       "    <tr>\n",
       "      <th>7</th>\n",
       "      <td>San Francisco Caltrain (Townsend at 4th)</td>\n",
       "      <td>Harry Bridges Plaza (Ferry Building)</td>\n",
       "      <td>6215</td>\n",
       "    </tr>\n",
       "    <tr>\n",
       "      <th>8</th>\n",
       "      <td>Steuart at Market</td>\n",
       "      <td>2nd at Townsend</td>\n",
       "      <td>6039</td>\n",
       "    </tr>\n",
       "    <tr>\n",
       "      <th>9</th>\n",
       "      <td>Steuart at Market</td>\n",
       "      <td>San Francisco Caltrain (Townsend at 4th)</td>\n",
       "      <td>5959</td>\n",
       "    </tr>\n",
       "  </tbody>\n",
       "</table>\n",
       "</div>"
      ],
      "text/plain": [
       "                         start_station_name  \\\n",
       "0      Harry Bridges Plaza (Ferry Building)   \n",
       "1   San Francisco Caltrain 2 (330 Townsend)   \n",
       "2                           2nd at Townsend   \n",
       "3      Harry Bridges Plaza (Ferry Building)   \n",
       "4                    Embarcadero at Sansome   \n",
       "5                           Townsend at 7th   \n",
       "6                     Embarcadero at Folsom   \n",
       "7  San Francisco Caltrain (Townsend at 4th)   \n",
       "8                         Steuart at Market   \n",
       "9                         Steuart at Market   \n",
       "\n",
       "                           end_station_name  trips  \n",
       "0                    Embarcadero at Sansome   9150  \n",
       "1                           Townsend at 7th   8508  \n",
       "2      Harry Bridges Plaza (Ferry Building)   7620  \n",
       "3                           2nd at Townsend   6888  \n",
       "4                         Steuart at Market   6874  \n",
       "5   San Francisco Caltrain 2 (330 Townsend)   6836  \n",
       "6  San Francisco Caltrain (Townsend at 4th)   6351  \n",
       "7      Harry Bridges Plaza (Ferry Building)   6215  \n",
       "8                           2nd at Townsend   6039  \n",
       "9  San Francisco Caltrain (Townsend at 4th)   5959  "
      ]
     },
     "execution_count": 7,
     "metadata": {},
     "output_type": "execute_result"
    }
   ],
   "source": [
    "routes = pd.read_csv('result.csv')\n",
    "routes.head(10)"
   ]
  },
  {
   "cell_type": "code",
   "execution_count": 8,
   "metadata": {},
   "outputs": [
    {
     "data": {
      "text/plain": [
       "70440"
      ]
     },
     "execution_count": 8,
     "metadata": {},
     "output_type": "execute_result"
    }
   ],
   "source": [
    "# total trips by top 10 routes\n",
    "sum(routes[\"trips\"])"
   ]
  },
  {
   "cell_type": "markdown",
   "metadata": {},
   "source": [
    "### Most Common Round Trips\n",
    "\n",
    "Again focusing on morning trips (i.e. departing before noon) and afternoon trips, we see several one-way routes that have high frequencies in the morning and then in the afternoon in the return direction. From the data, we conjecture that the following five trips are heavy commuter round trips, making up approximately 40,000 trips:\n",
    "\n",
    "1. Harry Bridges Plaza (Ferry Building) & 2nd at Townsend\n",
    "2. San Francisco Caltrain 2 (330 Townsend) & Townsend at 7th\n",
    "3. San Francisco Caltrain (Townsend at 4th) & Embarcadero at Folsom\n",
    "4. San Francisco Caltrain (Townsend at 4th) & Temporary Transbay Terminal (Howard at Beale)\n",
    "5. Market at Sansome & 2nd at South Park"
   ]
  },
  {
   "cell_type": "code",
   "execution_count": 9,
   "metadata": {},
   "outputs": [
    {
     "name": "stderr",
     "output_type": "stream",
     "text": [
      "\r",
      "Waiting on bqjob_r572b07c391943b51_00000164100b1e9e_1 ... (0s) Current status: RUNNING\r",
      "                                                                                      \r",
      "Waiting on bqjob_r572b07c391943b51_00000164100b1e9e_1 ... (1s) Current status: RUNNING\r",
      "                                                                                      \r",
      "Waiting on bqjob_r572b07c391943b51_00000164100b1e9e_1 ... (2s) Current status: RUNNING\r",
      "                                                                                      \r",
      "Waiting on bqjob_r572b07c391943b51_00000164100b1e9e_1 ... (2s) Current status: DONE   "
     ]
    }
   ],
   "source": [
    "%%bash\n",
    "bq query --use_legacy_sql=FALSE --format=csv '\n",
    "SELECT start_station_name, end_station_name, \n",
    "    sum(case when EXTRACT(HOUR FROM start_date) < 12 then 1 else 0 end) as morning_trips, \n",
    "    sum(case when EXTRACT(HOUR FROM start_date) >= 12 then 1 else 0 end) as afternoon_trips \n",
    "    FROM `bigquery-public-data.san_francisco.bikeshare_trips` \n",
    "    group by 1, 2 \n",
    "    order by morning_trips desc LIMIT 10' > result.csv"
   ]
  },
  {
   "cell_type": "code",
   "execution_count": 10,
   "metadata": {},
   "outputs": [
    {
     "data": {
      "text/html": [
       "<div>\n",
       "<style scoped>\n",
       "    .dataframe tbody tr th:only-of-type {\n",
       "        vertical-align: middle;\n",
       "    }\n",
       "\n",
       "    .dataframe tbody tr th {\n",
       "        vertical-align: top;\n",
       "    }\n",
       "\n",
       "    .dataframe thead th {\n",
       "        text-align: right;\n",
       "    }\n",
       "</style>\n",
       "<table border=\"1\" class=\"dataframe\">\n",
       "  <thead>\n",
       "    <tr style=\"text-align: right;\">\n",
       "      <th></th>\n",
       "      <th>start_station_name</th>\n",
       "      <th>end_station_name</th>\n",
       "      <th>morning_trips</th>\n",
       "      <th>afternoon_trips</th>\n",
       "    </tr>\n",
       "  </thead>\n",
       "  <tbody>\n",
       "    <tr>\n",
       "      <th>0</th>\n",
       "      <td>Harry Bridges Plaza (Ferry Building)</td>\n",
       "      <td>2nd at Townsend</td>\n",
       "      <td>5113</td>\n",
       "      <td>1775</td>\n",
       "    </tr>\n",
       "    <tr>\n",
       "      <th>1</th>\n",
       "      <td>San Francisco Caltrain 2 (330 Townsend)</td>\n",
       "      <td>Townsend at 7th</td>\n",
       "      <td>4588</td>\n",
       "      <td>3920</td>\n",
       "    </tr>\n",
       "    <tr>\n",
       "      <th>2</th>\n",
       "      <td>San Francisco Caltrain (Townsend at 4th)</td>\n",
       "      <td>Temporary Transbay Terminal (Howard at Beale)</td>\n",
       "      <td>4510</td>\n",
       "      <td>686</td>\n",
       "    </tr>\n",
       "    <tr>\n",
       "      <th>3</th>\n",
       "      <td>Harry Bridges Plaza (Ferry Building)</td>\n",
       "      <td>Embarcadero at Sansome</td>\n",
       "      <td>4395</td>\n",
       "      <td>4755</td>\n",
       "    </tr>\n",
       "    <tr>\n",
       "      <th>4</th>\n",
       "      <td>Steuart at Market</td>\n",
       "      <td>2nd at Townsend</td>\n",
       "      <td>4372</td>\n",
       "      <td>1667</td>\n",
       "    </tr>\n",
       "    <tr>\n",
       "      <th>5</th>\n",
       "      <td>Market at Sansome</td>\n",
       "      <td>2nd at South Park</td>\n",
       "      <td>3798</td>\n",
       "      <td>1265</td>\n",
       "    </tr>\n",
       "    <tr>\n",
       "      <th>6</th>\n",
       "      <td>San Francisco Caltrain (Townsend at 4th)</td>\n",
       "      <td>Embarcadero at Folsom</td>\n",
       "      <td>3788</td>\n",
       "      <td>652</td>\n",
       "    </tr>\n",
       "    <tr>\n",
       "      <th>7</th>\n",
       "      <td>San Francisco Caltrain (Townsend at 4th)</td>\n",
       "      <td>Harry Bridges Plaza (Ferry Building)</td>\n",
       "      <td>3671</td>\n",
       "      <td>2544</td>\n",
       "    </tr>\n",
       "  </tbody>\n",
       "</table>\n",
       "</div>"
      ],
      "text/plain": [
       "                         start_station_name  \\\n",
       "0      Harry Bridges Plaza (Ferry Building)   \n",
       "1   San Francisco Caltrain 2 (330 Townsend)   \n",
       "2  San Francisco Caltrain (Townsend at 4th)   \n",
       "3      Harry Bridges Plaza (Ferry Building)   \n",
       "4                         Steuart at Market   \n",
       "5                         Market at Sansome   \n",
       "6  San Francisco Caltrain (Townsend at 4th)   \n",
       "7  San Francisco Caltrain (Townsend at 4th)   \n",
       "\n",
       "                                end_station_name  morning_trips  \\\n",
       "0                                2nd at Townsend           5113   \n",
       "1                                Townsend at 7th           4588   \n",
       "2  Temporary Transbay Terminal (Howard at Beale)           4510   \n",
       "3                         Embarcadero at Sansome           4395   \n",
       "4                                2nd at Townsend           4372   \n",
       "5                              2nd at South Park           3798   \n",
       "6                          Embarcadero at Folsom           3788   \n",
       "7           Harry Bridges Plaza (Ferry Building)           3671   \n",
       "\n",
       "   afternoon_trips  \n",
       "0             1775  \n",
       "1             3920  \n",
       "2              686  \n",
       "3             4755  \n",
       "4             1667  \n",
       "5             1265  \n",
       "6              652  \n",
       "7             2544  "
      ]
     },
     "execution_count": 10,
     "metadata": {},
     "output_type": "execute_result"
    }
   ],
   "source": [
    "mornings = pd.read_csv('result.csv')\n",
    "mornings.head(8)"
   ]
  },
  {
   "cell_type": "code",
   "execution_count": 11,
   "metadata": {},
   "outputs": [
    {
     "name": "stderr",
     "output_type": "stream",
     "text": [
      "\r",
      "Waiting on bqjob_r64649b89336d0c3c_00000164100b3b94_1 ... (0s) Current status: RUNNING\r",
      "                                                                                      \r",
      "Waiting on bqjob_r64649b89336d0c3c_00000164100b3b94_1 ... (1s) Current status: RUNNING\r",
      "                                                                                      \r",
      "Waiting on bqjob_r64649b89336d0c3c_00000164100b3b94_1 ... (2s) Current status: RUNNING\r",
      "                                                                                      \r",
      "Waiting on bqjob_r64649b89336d0c3c_00000164100b3b94_1 ... (2s) Current status: DONE   "
     ]
    }
   ],
   "source": [
    "%%bash\n",
    "bq query --use_legacy_sql=FALSE --format=csv '\n",
    "SELECT start_station_name, end_station_name, \n",
    "    sum(case when EXTRACT(HOUR FROM start_date) < 12 then 1 else 0 end) as morning_trips, \n",
    "    sum(case when EXTRACT(HOUR FROM start_date) >= 12 then 1 else 0 end) as afternoon_trips \n",
    "    FROM `bigquery-public-data.san_francisco.bikeshare_trips` \n",
    "    group by 1, 2 \n",
    "    order by afternoon_trips desc LIMIT 10' > result.csv"
   ]
  },
  {
   "cell_type": "code",
   "execution_count": 12,
   "metadata": {},
   "outputs": [
    {
     "data": {
      "text/html": [
       "<div>\n",
       "<style scoped>\n",
       "    .dataframe tbody tr th:only-of-type {\n",
       "        vertical-align: middle;\n",
       "    }\n",
       "\n",
       "    .dataframe tbody tr th {\n",
       "        vertical-align: top;\n",
       "    }\n",
       "\n",
       "    .dataframe thead th {\n",
       "        text-align: right;\n",
       "    }\n",
       "</style>\n",
       "<table border=\"1\" class=\"dataframe\">\n",
       "  <thead>\n",
       "    <tr style=\"text-align: right;\">\n",
       "      <th></th>\n",
       "      <th>start_station_name</th>\n",
       "      <th>end_station_name</th>\n",
       "      <th>morning_trips</th>\n",
       "      <th>afternoon_trips</th>\n",
       "    </tr>\n",
       "  </thead>\n",
       "  <tbody>\n",
       "    <tr>\n",
       "      <th>0</th>\n",
       "      <td>2nd at Townsend</td>\n",
       "      <td>Harry Bridges Plaza (Ferry Building)</td>\n",
       "      <td>1475</td>\n",
       "      <td>6145</td>\n",
       "    </tr>\n",
       "    <tr>\n",
       "      <th>1</th>\n",
       "      <td>Embarcadero at Sansome</td>\n",
       "      <td>Steuart at Market</td>\n",
       "      <td>1278</td>\n",
       "      <td>5596</td>\n",
       "    </tr>\n",
       "    <tr>\n",
       "      <th>2</th>\n",
       "      <td>Embarcadero at Folsom</td>\n",
       "      <td>San Francisco Caltrain (Townsend at 4th)</td>\n",
       "      <td>954</td>\n",
       "      <td>5397</td>\n",
       "    </tr>\n",
       "    <tr>\n",
       "      <th>3</th>\n",
       "      <td>Townsend at 7th</td>\n",
       "      <td>San Francisco Caltrain 2 (330 Townsend)</td>\n",
       "      <td>2023</td>\n",
       "      <td>4813</td>\n",
       "    </tr>\n",
       "    <tr>\n",
       "      <th>4</th>\n",
       "      <td>Harry Bridges Plaza (Ferry Building)</td>\n",
       "      <td>Embarcadero at Sansome</td>\n",
       "      <td>4395</td>\n",
       "      <td>4755</td>\n",
       "    </tr>\n",
       "    <tr>\n",
       "      <th>5</th>\n",
       "      <td>Steuart at Market</td>\n",
       "      <td>San Francisco Caltrain (Townsend at 4th)</td>\n",
       "      <td>1416</td>\n",
       "      <td>4543</td>\n",
       "    </tr>\n",
       "    <tr>\n",
       "      <th>6</th>\n",
       "      <td>2nd at South Park</td>\n",
       "      <td>Market at Sansome</td>\n",
       "      <td>886</td>\n",
       "      <td>4451</td>\n",
       "    </tr>\n",
       "    <tr>\n",
       "      <th>7</th>\n",
       "      <td>Temporary Transbay Terminal (Howard at Beale)</td>\n",
       "      <td>San Francisco Caltrain (Townsend at 4th)</td>\n",
       "      <td>1367</td>\n",
       "      <td>4429</td>\n",
       "    </tr>\n",
       "  </tbody>\n",
       "</table>\n",
       "</div>"
      ],
      "text/plain": [
       "                              start_station_name  \\\n",
       "0                                2nd at Townsend   \n",
       "1                         Embarcadero at Sansome   \n",
       "2                          Embarcadero at Folsom   \n",
       "3                                Townsend at 7th   \n",
       "4           Harry Bridges Plaza (Ferry Building)   \n",
       "5                              Steuart at Market   \n",
       "6                              2nd at South Park   \n",
       "7  Temporary Transbay Terminal (Howard at Beale)   \n",
       "\n",
       "                           end_station_name  morning_trips  afternoon_trips  \n",
       "0      Harry Bridges Plaza (Ferry Building)           1475             6145  \n",
       "1                         Steuart at Market           1278             5596  \n",
       "2  San Francisco Caltrain (Townsend at 4th)            954             5397  \n",
       "3   San Francisco Caltrain 2 (330 Townsend)           2023             4813  \n",
       "4                    Embarcadero at Sansome           4395             4755  \n",
       "5  San Francisco Caltrain (Townsend at 4th)           1416             4543  \n",
       "6                         Market at Sansome            886             4451  \n",
       "7  San Francisco Caltrain (Townsend at 4th)           1367             4429  "
      ]
     },
     "execution_count": 12,
     "metadata": {},
     "output_type": "execute_result"
    }
   ],
   "source": [
    "afternoons = pd.read_csv('result.csv')\n",
    "afternoons.head(8)"
   ]
  },
  {
   "cell_type": "markdown",
   "metadata": {},
   "source": [
    "As a final check, we compute the expected value of the number of bikes and the number of docks available, or open, at the most highly frequented bike share stations. Interestingly, for the top ten frequented stations, more often than not there is a higher number of bikes available than docks open (i.e. no bike available), which suggests that in expectation there is good efficiency to the bike transactions; however, this is a simple average that obscures, say, bike shortages at certain commuting hours."
   ]
  },
  {
   "cell_type": "code",
   "execution_count": 6,
   "metadata": {},
   "outputs": [
    {
     "name": "stderr",
     "output_type": "stream",
     "text": [
      "\r",
      "Waiting on bqjob_r593db9638a32fa6_000001640da9aed9_1 ... (0s) Current status: RUNNING\r",
      "                                                                                     \r",
      "Waiting on bqjob_r593db9638a32fa6_000001640da9aed9_1 ... (1s) Current status: RUNNING\r",
      "                                                                                     \r",
      "Waiting on bqjob_r593db9638a32fa6_000001640da9aed9_1 ... (2s) Current status: RUNNING\r",
      "                                                                                     \r",
      "Waiting on bqjob_r593db9638a32fa6_000001640da9aed9_1 ... (3s) Current status: RUNNING\r",
      "                                                                                     \r",
      "Waiting on bqjob_r593db9638a32fa6_000001640da9aed9_1 ... (4s) Current status: RUNNING\r",
      "                                                                                     \r",
      "Waiting on bqjob_r593db9638a32fa6_000001640da9aed9_1 ... (5s) Current status: RUNNING\r",
      "                                                                                     \r",
      "Waiting on bqjob_r593db9638a32fa6_000001640da9aed9_1 ... (6s) Current status: RUNNING\r",
      "                                                                                     \r",
      "Waiting on bqjob_r593db9638a32fa6_000001640da9aed9_1 ... (8s) Current status: RUNNING\r",
      "                                                                                     \r",
      "Waiting on bqjob_r593db9638a32fa6_000001640da9aed9_1 ... (8s) Current status: DONE   "
     ]
    }
   ],
   "source": [
    "%%bash\n",
    "bq query --use_legacy_sql=FALSE --format=csv '\n",
    "SELECT\n",
    "  a.name,\n",
    "  a.station_id,\n",
    "  c.trips,\n",
    "  AVG(b.bikes_available) AS avg_available_bikes,\n",
    "  AVG(b.docks_available) AS avg_available_docks\n",
    "FROM\n",
    "  `bigquery-public-data.san_francisco.bikeshare_stations` AS a\n",
    "LEFT JOIN\n",
    "  `bigquery-public-data.san_francisco.bikeshare_status` AS b\n",
    "ON\n",
    "  a.station_id = b.station_id\n",
    "LEFT JOIN (\n",
    "  SELECT\n",
    "    start_station_id,\n",
    "    COUNT(*) AS trips\n",
    "  FROM\n",
    "    `bigquery-public-data.san_francisco.bikeshare_trips`\n",
    "  GROUP BY\n",
    "    1) AS c\n",
    "ON\n",
    "  a.station_id = c.start_station_id\n",
    "GROUP BY\n",
    "  1, 2, 3\n",
    "ORDER BY\n",
    "  trips DESC\n",
    "LIMIT\n",
    "  10' > result.csv"
   ]
  },
  {
   "cell_type": "code",
   "execution_count": 7,
   "metadata": {},
   "outputs": [
    {
     "data": {
      "text/html": [
       "<div>\n",
       "<style scoped>\n",
       "    .dataframe tbody tr th:only-of-type {\n",
       "        vertical-align: middle;\n",
       "    }\n",
       "\n",
       "    .dataframe tbody tr th {\n",
       "        vertical-align: top;\n",
       "    }\n",
       "\n",
       "    .dataframe thead th {\n",
       "        text-align: right;\n",
       "    }\n",
       "</style>\n",
       "<table border=\"1\" class=\"dataframe\">\n",
       "  <thead>\n",
       "    <tr style=\"text-align: right;\">\n",
       "      <th></th>\n",
       "      <th>name</th>\n",
       "      <th>station_id</th>\n",
       "      <th>trips</th>\n",
       "      <th>avg_available_bikes</th>\n",
       "      <th>avg_available_docks</th>\n",
       "    </tr>\n",
       "  </thead>\n",
       "  <tbody>\n",
       "    <tr>\n",
       "      <th>0</th>\n",
       "      <td>San Francisco Caltrain (Townsend at 4th)</td>\n",
       "      <td>70</td>\n",
       "      <td>72683</td>\n",
       "      <td>10.989174</td>\n",
       "      <td>7.936394</td>\n",
       "    </tr>\n",
       "    <tr>\n",
       "      <th>1</th>\n",
       "      <td>San Francisco Caltrain 2 (330 Townsend)</td>\n",
       "      <td>69</td>\n",
       "      <td>56100</td>\n",
       "      <td>12.529002</td>\n",
       "      <td>10.396655</td>\n",
       "    </tr>\n",
       "    <tr>\n",
       "      <th>2</th>\n",
       "      <td>Harry Bridges Plaza (Ferry Building)</td>\n",
       "      <td>50</td>\n",
       "      <td>49062</td>\n",
       "      <td>13.335827</td>\n",
       "      <td>9.576255</td>\n",
       "    </tr>\n",
       "    <tr>\n",
       "      <th>3</th>\n",
       "      <td>Embarcadero at Sansome</td>\n",
       "      <td>60</td>\n",
       "      <td>41137</td>\n",
       "      <td>7.354661</td>\n",
       "      <td>7.595140</td>\n",
       "    </tr>\n",
       "    <tr>\n",
       "      <th>4</th>\n",
       "      <td>2nd at Townsend</td>\n",
       "      <td>61</td>\n",
       "      <td>39936</td>\n",
       "      <td>13.401061</td>\n",
       "      <td>12.991724</td>\n",
       "    </tr>\n",
       "    <tr>\n",
       "      <th>5</th>\n",
       "      <td>Temporary Transbay Terminal (Howard at Beale)</td>\n",
       "      <td>55</td>\n",
       "      <td>39200</td>\n",
       "      <td>11.528794</td>\n",
       "      <td>11.405182</td>\n",
       "    </tr>\n",
       "    <tr>\n",
       "      <th>6</th>\n",
       "      <td>Steuart at Market</td>\n",
       "      <td>74</td>\n",
       "      <td>38531</td>\n",
       "      <td>12.161549</td>\n",
       "      <td>10.223282</td>\n",
       "    </tr>\n",
       "    <tr>\n",
       "      <th>7</th>\n",
       "      <td>Market at Sansome</td>\n",
       "      <td>77</td>\n",
       "      <td>35142</td>\n",
       "      <td>12.728522</td>\n",
       "      <td>13.651652</td>\n",
       "    </tr>\n",
       "    <tr>\n",
       "      <th>8</th>\n",
       "      <td>Townsend at 7th</td>\n",
       "      <td>65</td>\n",
       "      <td>34894</td>\n",
       "      <td>7.578609</td>\n",
       "      <td>7.378465</td>\n",
       "    </tr>\n",
       "    <tr>\n",
       "      <th>9</th>\n",
       "      <td>Market at 10th</td>\n",
       "      <td>67</td>\n",
       "      <td>30209</td>\n",
       "      <td>10.059101</td>\n",
       "      <td>16.868416</td>\n",
       "    </tr>\n",
       "  </tbody>\n",
       "</table>\n",
       "</div>"
      ],
      "text/plain": [
       "                                            name  station_id  trips  \\\n",
       "0       San Francisco Caltrain (Townsend at 4th)          70  72683   \n",
       "1        San Francisco Caltrain 2 (330 Townsend)          69  56100   \n",
       "2           Harry Bridges Plaza (Ferry Building)          50  49062   \n",
       "3                         Embarcadero at Sansome          60  41137   \n",
       "4                                2nd at Townsend          61  39936   \n",
       "5  Temporary Transbay Terminal (Howard at Beale)          55  39200   \n",
       "6                              Steuart at Market          74  38531   \n",
       "7                              Market at Sansome          77  35142   \n",
       "8                                Townsend at 7th          65  34894   \n",
       "9                                 Market at 10th          67  30209   \n",
       "\n",
       "   avg_available_bikes  avg_available_docks  \n",
       "0            10.989174             7.936394  \n",
       "1            12.529002            10.396655  \n",
       "2            13.335827             9.576255  \n",
       "3             7.354661             7.595140  \n",
       "4            13.401061            12.991724  \n",
       "5            11.528794            11.405182  \n",
       "6            12.161549            10.223282  \n",
       "7            12.728522            13.651652  \n",
       "8             7.578609             7.378465  \n",
       "9            10.059101            16.868416  "
      ]
     },
     "execution_count": 7,
     "metadata": {},
     "output_type": "execute_result"
    }
   ],
   "source": [
    "docks = pd.read_csv('result.csv')\n",
    "docks.head(10)"
   ]
  },
  {
   "cell_type": "markdown",
   "metadata": {},
   "source": [
    "## Conclusion\n",
    "\n",
    "In conclusion, the significant differences in demand around the heavy commuting hours and the reliable usage throughout much of the year suggest that many customers benefit from a longer-term pass--perhaps an annual pass for those settled down in San Francisco. While there is still reasonable volume outside of these times and a pay-per-ride or day pass will still benefit these customers, it appears that users are seeking alternatives to other transit options for their commutes, which could be the larger opportunity for growth. Further, from the data, we can roughly identify which to and from commuter routes are used with the highest frequency, which may offer even more opportunity to tailor passes to specific customers and further expand the company's user base."
   ]
  }
 ],
 "metadata": {
  "kernelspec": {
   "display_name": "Python 3",
   "language": "python",
   "name": "python3"
  },
  "language_info": {
   "codemirror_mode": {
    "name": "ipython",
    "version": 3
   },
   "file_extension": ".py",
   "mimetype": "text/x-python",
   "name": "python",
   "nbconvert_exporter": "python",
   "pygments_lexer": "ipython3",
   "version": "3.5.2"
  }
 },
 "nbformat": 4,
 "nbformat_minor": 2
}
