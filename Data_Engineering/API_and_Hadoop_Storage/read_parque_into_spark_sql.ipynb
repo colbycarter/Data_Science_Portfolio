{
 "cells": [
  {
   "cell_type": "markdown",
   "metadata": {},
   "source": [
    "## read in parquet files and read a query into a pd dataframe"
   ]
  },
  {
   "cell_type": "code",
   "execution_count": 2,
   "metadata": {},
   "outputs": [
    {
     "name": "stdout",
     "output_type": "stream",
     "text": [
      "+------+-----------------+---------------+----------------+--------------+--------------------+\n",
      "|Accept|             Host|     User-Agent|     description|    event_type|           timestamp|\n",
      "+------+-----------------+---------------+----------------+--------------+--------------------+\n",
      "|   */*|user1.comcast.com|ApacheBench/2.3|very sharp knife|purchase_knife|2018-08-06 02:52:...|\n",
      "|   */*|user1.comcast.com|ApacheBench/2.3|very sharp knife|purchase_knife|2018-08-06 02:52:...|\n",
      "|   */*|user1.comcast.com|ApacheBench/2.3|very sharp knife|purchase_knife|2018-08-06 02:52:...|\n",
      "|   */*|user1.comcast.com|ApacheBench/2.3|very sharp knife|purchase_knife|2018-08-06 02:52:...|\n",
      "|   */*|user1.comcast.com|ApacheBench/2.3|very sharp knife|purchase_knife|2018-08-06 02:52:...|\n",
      "|   */*|user1.comcast.com|ApacheBench/2.3|very sharp knife|purchase_knife|2018-08-06 02:52:...|\n",
      "|   */*|user1.comcast.com|ApacheBench/2.3|very sharp knife|purchase_knife|2018-08-06 02:52:...|\n",
      "|   */*|user1.comcast.com|ApacheBench/2.3|very sharp knife|purchase_knife|2018-08-06 02:52:...|\n",
      "|   */*|user1.comcast.com|ApacheBench/2.3|very sharp knife|purchase_knife|2018-08-06 02:52:...|\n",
      "|   */*|user1.comcast.com|ApacheBench/2.3|very sharp knife|purchase_knife|2018-08-06 02:52:...|\n",
      "|   */*|    user2.att.com|ApacheBench/2.3|very sharp knife|purchase_knife|2018-08-06 02:52:...|\n",
      "|   */*|    user2.att.com|ApacheBench/2.3|very sharp knife|purchase_knife|2018-08-06 02:52:...|\n",
      "|   */*|    user2.att.com|ApacheBench/2.3|very sharp knife|purchase_knife|2018-08-06 02:52:...|\n",
      "|   */*|    user2.att.com|ApacheBench/2.3|very sharp knife|purchase_knife|2018-08-06 02:52:...|\n",
      "|   */*|    user2.att.com|ApacheBench/2.3|very sharp knife|purchase_knife|2018-08-06 02:52:...|\n",
      "|   */*|    user2.att.com|ApacheBench/2.3|very sharp knife|purchase_knife|2018-08-06 02:52:...|\n",
      "|   */*|    user2.att.com|ApacheBench/2.3|very sharp knife|purchase_knife|2018-08-06 02:52:...|\n",
      "|   */*|    user2.att.com|ApacheBench/2.3|very sharp knife|purchase_knife|2018-08-06 02:52:...|\n",
      "|   */*|    user2.att.com|ApacheBench/2.3|very sharp knife|purchase_knife|2018-08-06 02:52:...|\n",
      "|   */*|    user2.att.com|ApacheBench/2.3|very sharp knife|purchase_knife|2018-08-06 02:52:...|\n",
      "+------+-----------------+---------------+----------------+--------------+--------------------+\n",
      "\n"
     ]
    }
   ],
   "source": [
    "purchases = spark.read.parquet('/tmp/purchases')\n",
    "purchases.show()"
   ]
  },
  {
   "cell_type": "code",
   "execution_count": 5,
   "metadata": {},
   "outputs": [
    {
     "name": "stdout",
     "output_type": "stream",
     "text": [
      "+------+-----------------+---------------+----------------+--------------+--------------------+\n",
      "|Accept|             Host|     User-Agent|     description|    event_type|           timestamp|\n",
      "+------+-----------------+---------------+----------------+--------------+--------------------+\n",
      "|   */*|user1.comcast.com|ApacheBench/2.3|very sharp knife|purchase_knife|2018-08-06 02:52:...|\n",
      "|   */*|user1.comcast.com|ApacheBench/2.3|very sharp knife|purchase_knife|2018-08-06 02:52:...|\n",
      "|   */*|user1.comcast.com|ApacheBench/2.3|very sharp knife|purchase_knife|2018-08-06 02:52:...|\n",
      "|   */*|user1.comcast.com|ApacheBench/2.3|very sharp knife|purchase_knife|2018-08-06 02:52:...|\n",
      "|   */*|user1.comcast.com|ApacheBench/2.3|very sharp knife|purchase_knife|2018-08-06 02:52:...|\n",
      "|   */*|user1.comcast.com|ApacheBench/2.3|very sharp knife|purchase_knife|2018-08-06 02:52:...|\n",
      "|   */*|user1.comcast.com|ApacheBench/2.3|very sharp knife|purchase_knife|2018-08-06 02:52:...|\n",
      "|   */*|user1.comcast.com|ApacheBench/2.3|very sharp knife|purchase_knife|2018-08-06 02:52:...|\n",
      "|   */*|user1.comcast.com|ApacheBench/2.3|very sharp knife|purchase_knife|2018-08-06 02:52:...|\n",
      "|   */*|user1.comcast.com|ApacheBench/2.3|very sharp knife|purchase_knife|2018-08-06 02:52:...|\n",
      "+------+-----------------+---------------+----------------+--------------+--------------------+\n",
      "\n"
     ]
    }
   ],
   "source": [
    "purchases.registerTempTable('purchases')\n",
    "purchases_by_example2 = spark.sql(\"select * from purchases where Host = 'user1.comcast.com'\")\n",
    "purchases_by_example2.show()"
   ]
  },
  {
   "cell_type": "code",
   "execution_count": 6,
   "metadata": {},
   "outputs": [
    {
     "data": {
      "text/html": [
       "<div>\n",
       "<style>\n",
       "    .dataframe thead tr:only-child th {\n",
       "        text-align: right;\n",
       "    }\n",
       "\n",
       "    .dataframe thead th {\n",
       "        text-align: left;\n",
       "    }\n",
       "\n",
       "    .dataframe tbody tr th {\n",
       "        vertical-align: top;\n",
       "    }\n",
       "</style>\n",
       "<table border=\"1\" class=\"dataframe\">\n",
       "  <thead>\n",
       "    <tr style=\"text-align: right;\">\n",
       "      <th></th>\n",
       "      <th>Accept</th>\n",
       "      <th>Host</th>\n",
       "      <th>User-Agent</th>\n",
       "      <th>description</th>\n",
       "      <th>event_type</th>\n",
       "      <th>timestamp</th>\n",
       "    </tr>\n",
       "  </thead>\n",
       "  <tbody>\n",
       "    <tr>\n",
       "      <th>count</th>\n",
       "      <td>10</td>\n",
       "      <td>10</td>\n",
       "      <td>10</td>\n",
       "      <td>10</td>\n",
       "      <td>10</td>\n",
       "      <td>10</td>\n",
       "    </tr>\n",
       "    <tr>\n",
       "      <th>unique</th>\n",
       "      <td>1</td>\n",
       "      <td>1</td>\n",
       "      <td>1</td>\n",
       "      <td>1</td>\n",
       "      <td>1</td>\n",
       "      <td>10</td>\n",
       "    </tr>\n",
       "    <tr>\n",
       "      <th>top</th>\n",
       "      <td>*/*</td>\n",
       "      <td>user1.comcast.com</td>\n",
       "      <td>ApacheBench/2.3</td>\n",
       "      <td>very sharp knife</td>\n",
       "      <td>purchase_knife</td>\n",
       "      <td>2018-08-06 02:52:28.583</td>\n",
       "    </tr>\n",
       "    <tr>\n",
       "      <th>freq</th>\n",
       "      <td>10</td>\n",
       "      <td>10</td>\n",
       "      <td>10</td>\n",
       "      <td>10</td>\n",
       "      <td>10</td>\n",
       "      <td>1</td>\n",
       "    </tr>\n",
       "  </tbody>\n",
       "</table>\n",
       "</div>"
      ],
      "text/plain": [
       "       Accept               Host       User-Agent       description  \\\n",
       "count      10                 10               10                10   \n",
       "unique      1                  1                1                 1   \n",
       "top       */*  user1.comcast.com  ApacheBench/2.3  very sharp knife   \n",
       "freq       10                 10               10                10   \n",
       "\n",
       "            event_type                timestamp  \n",
       "count               10                       10  \n",
       "unique               1                       10  \n",
       "top     purchase_knife  2018-08-06 02:52:28.583  \n",
       "freq                10                        1  "
      ]
     },
     "execution_count": 6,
     "metadata": {},
     "output_type": "execute_result"
    }
   ],
   "source": [
    "df = purchases_by_example2.toPandas()\n",
    "df.describe()"
   ]
  }
 ],
 "metadata": {
  "kernelspec": {
   "display_name": "Python 3",
   "language": "python",
   "name": "python3"
  },
  "language_info": {
   "codemirror_mode": {
    "name": "ipython",
    "version": 3
   },
   "file_extension": ".py",
   "mimetype": "text/x-python",
   "name": "python",
   "nbconvert_exporter": "python",
   "pygments_lexer": "ipython3",
   "version": "3.6.1"
  }
 },
 "nbformat": 4,
 "nbformat_minor": 2
}
